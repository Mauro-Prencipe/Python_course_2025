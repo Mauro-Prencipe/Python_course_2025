{
 "cells": [
  {
   "cell_type": "markdown",
   "id": "a9b74e50",
   "metadata": {},
   "source": [
    "## Functions"
   ]
  },
  {
   "cell_type": "markdown",
   "id": "a082be9e",
   "metadata": {},
   "source": [
    "We would like to write a piece of code that computes the factorial of a number, returns the output, and that can be used in any place we want... That is: we write a *function* with some appropriate name (what about to name it *factorial*?)"
   ]
  },
  {
   "cell_type": "code",
   "execution_count": 1,
   "id": "c1174cf7",
   "metadata": {},
   "outputs": [],
   "source": [
    "def factorial(n):     \n",
    "    jn=1\n",
    "    fact=1\n",
    "    while jn <= n:\n",
    "        fact=fact*jn\n",
    "        jn=jn+1\n",
    "        \n",
    "    return fact"
   ]
  },
  {
   "cell_type": "markdown",
   "id": "8165e740",
   "metadata": {},
   "source": [
    "Basic syntax of a function definition:\n",
    "\n",
    "- The keyword **def** is used to define a function;\n",
    "- *def* is followed by the **name** we choose for the function; \n",
    "- the name of the function must always be followed by parentheses; inside such parentheses there are the **arguments** to the function; if a function does not require arguments, nothing will appear between those parentheses...\n",
    "- Then the **body** of the function will follow (*indented*); the *body* is the set of instructions that must be executed by the function itself.\n",
    "- If the function has to return one or more values, a **return** instruction must be present, followed by the list of values to be returned."
   ]
  },
  {
   "cell_type": "markdown",
   "id": "121bb1f0",
   "metadata": {},
   "source": [
    "#### Test our function immediately...\n",
    "\n",
    "We *call* the function with an appropriate argument..."
   ]
  },
  {
   "cell_type": "code",
   "execution_count": 2,
   "id": "af2720ae",
   "metadata": {},
   "outputs": [
    {
     "data": {
      "text/plain": [
       "120"
      ]
     },
     "execution_count": 2,
     "metadata": {},
     "output_type": "execute_result"
    }
   ],
   "source": [
    "factorial(5)"
   ]
  },
  {
   "cell_type": "markdown",
   "id": "4c03276d",
   "metadata": {},
   "source": [
    "... or something like that:"
   ]
  },
  {
   "cell_type": "code",
   "execution_count": 3,
   "id": "dd8a732b",
   "metadata": {},
   "outputs": [
    {
     "name": "stdout",
     "output_type": "stream",
     "text": [
      "n n!\n",
      "\n",
      "1 1\n",
      "2 2\n",
      "3 6\n",
      "4 24\n",
      "5 120\n",
      "6 720\n",
      "7 5040\n"
     ]
    }
   ],
   "source": [
    "n_list=[1,2,3,4,5,6,7]\n",
    "\n",
    "print(\"n n!\\n\")\n",
    "for il in n_list:\n",
    "    print(il, factorial(il))"
   ]
  },
  {
   "cell_type": "markdown",
   "id": "ecc6c265",
   "metadata": {},
   "source": [
    "Note that the variables defined *inside* the body of the function are *lost* when the function exits:"
   ]
  },
  {
   "cell_type": "code",
   "execution_count": 4,
   "id": "7a5fb522",
   "metadata": {},
   "outputs": [
    {
     "ename": "NameError",
     "evalue": "name 'fact' is not defined",
     "output_type": "error",
     "traceback": [
      "\u001b[1;31m---------------------------------------------------------------------------\u001b[0m",
      "\u001b[1;31mNameError\u001b[0m                                 Traceback (most recent call last)",
      "Cell \u001b[1;32mIn[4], line 1\u001b[0m\n\u001b[1;32m----> 1\u001b[0m \u001b[38;5;28mprint\u001b[39m(fact)\n",
      "\u001b[1;31mNameError\u001b[0m: name 'fact' is not defined"
     ]
    }
   ],
   "source": [
    "print(fact)"
   ]
  },
  {
   "cell_type": "markdown",
   "id": "95cd54ff",
   "metadata": {},
   "source": [
    "even if the *value* of *fact* is *returned* by the function. The same is true for the variables *jn* and *n* (the latter being the argument to the function). *Much more on this later!*\n",
    "\n",
    "However, we could save the result of the function in a variable:"
   ]
  },
  {
   "cell_type": "code",
   "execution_count": 5,
   "id": "23e1b84c",
   "metadata": {},
   "outputs": [
    {
     "name": "stdout",
     "output_type": "stream",
     "text": [
      "5040\n"
     ]
    }
   ],
   "source": [
    "fact=factorial(7)\n",
    "print(fact)"
   ]
  },
  {
   "cell_type": "markdown",
   "id": "c5124f8f",
   "metadata": {},
   "source": [
    "#### keyword arguments\n",
    "\n",
    "We might want to use the function so that \n",
    "\n",
    "- it prints out explicitly the result, or \n",
    "- we just want a number that can possibly be saved in a variable; \n",
    "- moreover we want that if the result is printed (by a *print* function) no number should be returned\n",
    "\n",
    "We use a *keyword argument* (*prn* in our case) for which a default value is defined"
   ]
  },
  {
   "cell_type": "code",
   "execution_count": 6,
   "id": "6628656e",
   "metadata": {},
   "outputs": [],
   "source": [
    "def factorial(n, prn=False):     \n",
    "    jn=1\n",
    "    fact=1\n",
    "    while jn <= n:\n",
    "        fact=fact*jn\n",
    "        jn=jn+1\n",
    "        \n",
    "    if prn:\n",
    "       print(\"The factorial of the number %3i  is %6i\" % (n, fact))\n",
    "    else:\n",
    "       return fact"
   ]
  },
  {
   "cell_type": "code",
   "execution_count": 7,
   "id": "c6a2e693",
   "metadata": {},
   "outputs": [
    {
     "name": "stdout",
     "output_type": "stream",
     "text": [
      "The factorial of the number   5  is    120\n"
     ]
    }
   ],
   "source": [
    "factorial(5, prn=True)"
   ]
  },
  {
   "cell_type": "markdown",
   "id": "92804a22",
   "metadata": {},
   "source": [
    "... but"
   ]
  },
  {
   "cell_type": "code",
   "execution_count": 8,
   "id": "b04ed443",
   "metadata": {},
   "outputs": [
    {
     "data": {
      "text/plain": [
       "120"
      ]
     },
     "execution_count": 8,
     "metadata": {},
     "output_type": "execute_result"
    }
   ],
   "source": [
    "factorial(5)"
   ]
  },
  {
   "cell_type": "markdown",
   "id": "3d6be028-fdfe-46b2-ac73-8bdede6be1df",
   "metadata": {},
   "source": [
    "Note that in the case *prn* is True, no *return* instruction is executed and, therefore, the function *factorial* does return nothing (it returns *None*). Indeed:"
   ]
  },
  {
   "cell_type": "code",
   "execution_count": 9,
   "id": "999c16dc-45d2-47c8-89f0-bff8a38a325b",
   "metadata": {},
   "outputs": [
    {
     "name": "stdout",
     "output_type": "stream",
     "text": [
      "The factorial of the number   5  is    120\n",
      "\n",
      "Type and value of the variable r_fact:  <class 'NoneType'> None\n"
     ]
    }
   ],
   "source": [
    "r_fact=factorial(5, prn=True)\n",
    "print(\"\\nType and value of the variable r_fact: \", type(r_fact), r_fact)"
   ]
  },
  {
   "cell_type": "markdown",
   "id": "e0b2d3ad",
   "metadata": {},
   "source": [
    "### Documenting the function... \n",
    "\n",
    "Always take your time to *document* the function!"
   ]
  },
  {
   "cell_type": "code",
   "execution_count": 10,
   "id": "12e69024",
   "metadata": {},
   "outputs": [],
   "source": [
    "def factorial(n, prn=False):   \n",
    "    '''\n",
    "    Computes the factorial of a number\n",
    "    \n",
    "    Args:\n",
    "        n:   number whose factorial has to be computed\n",
    "        \n",
    "    kargs:\n",
    "        prn: if True, result is printed (default False)\n",
    "        \n",
    "    Returns:\n",
    "        factorial of the number n\n",
    "           \n",
    "    Note: \n",
    "        if prn is True, no value will be returned \n",
    "    '''\n",
    "    jn=1\n",
    "    fact=1\n",
    "    while jn <= n:\n",
    "        fact=fact*jn\n",
    "        jn=jn+1\n",
    "        \n",
    "    if prn:\n",
    "       print(\"The factorial of the number %3i  is %6i\" % (n, fact))\n",
    "    else:\n",
    "       return fact"
   ]
  },
  {
   "cell_type": "markdown",
   "id": "b0127fc9",
   "metadata": {},
   "source": [
    "Documentation will be printed by using the *help* function"
   ]
  },
  {
   "cell_type": "code",
   "execution_count": 11,
   "id": "c1241661",
   "metadata": {},
   "outputs": [
    {
     "name": "stdout",
     "output_type": "stream",
     "text": [
      "Help on function factorial in module __main__:\n",
      "\n",
      "factorial(n, prn=False)\n",
      "    Computes the factorial of a number\n",
      "\n",
      "    Args:\n",
      "        n:   number whose factorial has to be computed\n",
      "\n",
      "    kargs:\n",
      "        prn: if True, result is printed (default False)\n",
      "\n",
      "    Returns:\n",
      "        factorial of the number n\n",
      "\n",
      "    Note:\n",
      "        if prn is True, no value will be returned\n",
      "\n"
     ]
    }
   ],
   "source": [
    "help(factorial)"
   ]
  },
  {
   "cell_type": "markdown",
   "id": "495ea44a",
   "metadata": {},
   "source": [
    "### Checking your argument *n*\n",
    "\n",
    "Check to limit the possible errors (at least *usage errors*)"
   ]
  },
  {
   "cell_type": "code",
   "execution_count": 12,
   "id": "77b111c3",
   "metadata": {},
   "outputs": [],
   "source": [
    "def factorial(n, prn=False):   \n",
    "    '''\n",
    "    Computes the factorial of a number\n",
    "    \n",
    "    Args:\n",
    "        n:   number whose factorial has to be computed\n",
    "        \n",
    "    kargs:\n",
    "        prn: if True, result is printed (default False)\n",
    "        \n",
    "    Returns:\n",
    "        factorial of the number n\n",
    "           \n",
    "    Note: \n",
    "        if prn is True, no value will be returned \n",
    "    '''\n",
    "    if type(n) != int:\n",
    "        print(\"Non integer argument\")\n",
    "        return\n",
    "    if n < 0:\n",
    "        print(\"Negative argument\")\n",
    "        return\n",
    "    \n",
    "    if n == 0:\n",
    "       fact=1\n",
    "       if prn:\n",
    "          print(\"The factorial of the number %3i  is %6i\" % (n, fact))\n",
    "          return\n",
    "       else:\n",
    "          return fact \n",
    "        \n",
    "    jn=1\n",
    "    fact=1\n",
    "    while jn <= n:\n",
    "        fact=fact*jn\n",
    "        jn=jn+1\n",
    "        \n",
    "    if prn:\n",
    "       print(\"The factorial of the number %3i  is %6i\" % (n, fact))\n",
    "    else:\n",
    "       return fact"
   ]
  },
  {
   "cell_type": "code",
   "execution_count": 13,
   "id": "38d8977a",
   "metadata": {},
   "outputs": [
    {
     "name": "stdout",
     "output_type": "stream",
     "text": [
      "The factorial of the number   6  is    720\n"
     ]
    }
   ],
   "source": [
    "factorial(6, prn=True)"
   ]
  },
  {
   "cell_type": "code",
   "execution_count": 14,
   "id": "8310f672-4118-4e11-a69c-84aaabdc704a",
   "metadata": {},
   "outputs": [
    {
     "name": "stdout",
     "output_type": "stream",
     "text": [
      "Negative argument\n"
     ]
    }
   ],
   "source": [
    "factorial(-3, prn=True)"
   ]
  },
  {
   "cell_type": "markdown",
   "id": "de772778",
   "metadata": {},
   "source": [
    "## Recursion...\n",
    "\n",
    "The idea is the following: a *function that calls itself* until some condition is verified... "
   ]
  },
  {
   "cell_type": "code",
   "execution_count": 15,
   "id": "2e8482a4",
   "metadata": {},
   "outputs": [],
   "source": [
    "def recursive(n):\n",
    "    print(n, end=\" \")\n",
    "    n=n-1\n",
    "    if n >= 0:\n",
    "       recursive(n)"
   ]
  },
  {
   "cell_type": "code",
   "execution_count": 16,
   "id": "147dddc1",
   "metadata": {},
   "outputs": [
    {
     "name": "stdout",
     "output_type": "stream",
     "text": [
      "12 11 10 9 8 7 6 5 4 3 2 1 0 "
     ]
    }
   ],
   "source": [
    "recursive(12)"
   ]
  },
  {
   "cell_type": "markdown",
   "id": "5e9d2887",
   "metadata": {},
   "source": [
    "### A little bit complicated factorial function (using recursion)\n",
    "\n",
    "It is just an example where *recursion* is used...\n",
    "\n",
    "A *class* is defined (much more on this later...) "
   ]
  },
  {
   "cell_type": "code",
   "execution_count": 17,
   "id": "61f27496",
   "metadata": {},
   "outputs": [],
   "source": [
    "# Class definition\n",
    "\n",
    "class Factorial():\n",
    "\n",
    "    @classmethod\n",
    "    def set_fact(cls, fact):\n",
    "        cls.fact=fact\n",
    "\n",
    "    @classmethod\n",
    "    def compute(cls, n, prn=False):\n",
    "        cls.set_fact(1)\n",
    "        cls.fact_rec(n)\n",
    "        if prn:\n",
    "           print(\"The factorial of %3i  is %6i\" % (n, cls.fact))\n",
    "        else:\n",
    "           return cls.fact\n",
    "\n",
    "    @classmethod\n",
    "    def fact_rec(cls, b):            # <--- recursive function\n",
    "        cls.fact=b*cls.fact\n",
    "        b=b-1\n",
    "        if b == 1:\n",
    "           return \n",
    "        else:\n",
    "           cls.fact_rec(b)\n",
    "    "
   ]
  },
  {
   "cell_type": "markdown",
   "id": "fec5ad03",
   "metadata": {},
   "source": [
    "Let's use it!"
   ]
  },
  {
   "cell_type": "code",
   "execution_count": 18,
   "id": "0e0d5d17",
   "metadata": {},
   "outputs": [
    {
     "name": "stdout",
     "output_type": "stream",
     "text": [
      "The factorial of  10  is 3628800\n"
     ]
    }
   ],
   "source": [
    "Factorial.compute(10, prn=True)"
   ]
  },
  {
   "cell_type": "markdown",
   "id": "b88e7c0b",
   "metadata": {},
   "source": [
    "The older (not recursive) definition of the factorial function returns (hopefully) the same value:"
   ]
  },
  {
   "cell_type": "code",
   "execution_count": 19,
   "id": "7f1286db",
   "metadata": {},
   "outputs": [
    {
     "name": "stdout",
     "output_type": "stream",
     "text": [
      "The factorial of the number  10  is 3628800\n"
     ]
    }
   ],
   "source": [
    "factorial(10, prn=True)"
   ]
  },
  {
   "cell_type": "markdown",
   "id": "9c66be9f",
   "metadata": {},
   "source": [
    "What is the *best* function (at least in term of *efficiency*)? Use the *timeit* Python function:"
   ]
  },
  {
   "cell_type": "code",
   "execution_count": 20,
   "id": "e497a293",
   "metadata": {},
   "outputs": [
    {
     "name": "stdout",
     "output_type": "stream",
     "text": [
      "7.67 μs ± 157 ns per loop (mean ± std. dev. of 7 runs, 100,000 loops each)\n"
     ]
    }
   ],
   "source": [
    "timeit(factorial(100))"
   ]
  },
  {
   "cell_type": "code",
   "execution_count": 21,
   "id": "d633ff6f",
   "metadata": {},
   "outputs": [
    {
     "name": "stdout",
     "output_type": "stream",
     "text": [
      "32.2 μs ± 1.77 μs per loop (mean ± std. dev. of 7 runs, 10,000 loops each)\n"
     ]
    }
   ],
   "source": [
    "timeit(Factorial.compute(100))"
   ]
  },
  {
   "cell_type": "markdown",
   "id": "f746d267-136b-4039-a5f7-a7d9d3976668",
   "metadata": {},
   "source": [
    "In this case the *non-recursive* function is more efficient."
   ]
  },
  {
   "cell_type": "markdown",
   "id": "7ded43e7-55e5-4126-a13e-91625f5e7608",
   "metadata": {},
   "source": [
    "### Optimizing functions (Advanced)\n",
    "\n",
    "If performance is an issue, you may want to consider the possibility of optimizing the code by using some *optimizer* like *numba*:"
   ]
  },
  {
   "cell_type": "code",
   "execution_count": 22,
   "id": "e2df47cc-e01e-48a0-9aaa-6a2c2a8d5b0b",
   "metadata": {},
   "outputs": [],
   "source": [
    "from numba import jit\n",
    "\n",
    "@jit\n",
    "def opt_factorial(n):     \n",
    "    jn=1\n",
    "    fact=1\n",
    "    while jn <= n:\n",
    "        fact=fact*jn\n",
    "        jn=jn+1\n",
    "\n",
    "\n",
    "    return fact"
   ]
  },
  {
   "cell_type": "code",
   "execution_count": 23,
   "id": "a2331012-e533-4a02-aa40-838e79c19bce",
   "metadata": {},
   "outputs": [
    {
     "data": {
      "text/plain": [
       "2432902008176640000"
      ]
     },
     "execution_count": 23,
     "metadata": {},
     "output_type": "execute_result"
    }
   ],
   "source": [
    "opt_factorial(20)"
   ]
  },
  {
   "cell_type": "markdown",
   "id": "0de8b71f-5649-44f7-b5d1-eb687c96e102",
   "metadata": {},
   "source": [
    "Evaluation of the performance of the optimized function:"
   ]
  },
  {
   "cell_type": "code",
   "execution_count": 24,
   "id": "b68b73c4-880b-4201-b901-6b997bc61017",
   "metadata": {},
   "outputs": [
    {
     "name": "stdout",
     "output_type": "stream",
     "text": [
      "155 ns ± 1.93 ns per loop (mean ± std. dev. of 7 runs, 10,000,000 loops each)\n"
     ]
    }
   ],
   "source": [
    "timeit(opt_factorial(20))"
   ]
  },
  {
   "cell_type": "markdown",
   "id": "3068b1c9-bc64-4cb7-a8f9-7db488ccb10f",
   "metadata": {},
   "source": [
    "whereas the performance of the original not optimized (and not recursive) function was "
   ]
  },
  {
   "cell_type": "code",
   "execution_count": 25,
   "id": "bc08c969-4350-4adf-8d98-231806bfa5e8",
   "metadata": {},
   "outputs": [
    {
     "name": "stdout",
     "output_type": "stream",
     "text": [
      "1.3 μs ± 115 ns per loop (mean ± std. dev. of 7 runs, 1,000,000 loops each)\n"
     ]
    }
   ],
   "source": [
    "timeit(factorial(20))"
   ]
  },
  {
   "cell_type": "markdown",
   "id": "eeadd345-0975-42e7-a3be-8cef61cbb276",
   "metadata": {},
   "source": [
    "In the case of factorial, a function also exists as part of the library *math*; such *math* functions are generally very efficient due to the fact that they are written in *C* and *compiled*:   "
   ]
  },
  {
   "cell_type": "code",
   "execution_count": 26,
   "id": "4eb360d1-ecd8-47c8-abf6-b1fa035a9383",
   "metadata": {},
   "outputs": [
    {
     "data": {
      "text/plain": [
       "2432902008176640000"
      ]
     },
     "execution_count": 26,
     "metadata": {},
     "output_type": "execute_result"
    }
   ],
   "source": [
    "import math\n",
    "\n",
    "math.factorial(20)"
   ]
  },
  {
   "cell_type": "markdown",
   "id": "12837cd3-8547-42d4-b164-d4ef9cf8e438",
   "metadata": {},
   "source": [
    "Here is its performance:"
   ]
  },
  {
   "cell_type": "code",
   "execution_count": 27,
   "id": "d9daefc8-98d2-4362-bd1e-61a5fbcc3911",
   "metadata": {},
   "outputs": [
    {
     "name": "stdout",
     "output_type": "stream",
     "text": [
      "199 ns ± 4.79 ns per loop (mean ± std. dev. of 7 runs, 1,000,000 loops each)\n"
     ]
    }
   ],
   "source": [
    "timeit(math.factorial(20))"
   ]
  },
  {
   "cell_type": "markdown",
   "id": "7314c97d-0971-4480-91bf-dd2898edb9ca",
   "metadata": {},
   "source": [
    "So, our *numba* optimized *opt_factorial* function is even more efficient than the *C-compile math.factorial* function! \n",
    "\n",
    "However..."
   ]
  },
  {
   "cell_type": "code",
   "execution_count": 28,
   "id": "4f4d3919-16ac-4887-a686-040f84556833",
   "metadata": {},
   "outputs": [
    {
     "data": {
      "text/plain": [
       "-3258495067890909184"
      ]
     },
     "execution_count": 28,
     "metadata": {},
     "output_type": "execute_result"
    }
   ],
   "source": [
    "opt_factorial(50)"
   ]
  },
  {
   "cell_type": "markdown",
   "id": "833386ac-d607-4514-9cc0-d1e2349eab47",
   "metadata": {},
   "source": [
    "That is, $n!$ for $n$ relatively large is badly evaluated by the optimized function... That's definitely a problem having to do with *overflow* in the integers representation. One *quick* trick to solve the problem is to switch to float numbers representation (but then the result is not precise):"
   ]
  },
  {
   "cell_type": "code",
   "execution_count": 29,
   "id": "4488c33b-7721-4093-bcae-f7004d475a47",
   "metadata": {},
   "outputs": [],
   "source": [
    "from numba import jit\n",
    "\n",
    "@jit\n",
    "def opt_factorial(n):     \n",
    "    jn=1.\n",
    "    fact=1.\n",
    "    while jn <= n:\n",
    "        fact=fact*jn\n",
    "        jn=jn+1.\n",
    "\n",
    "    return fact"
   ]
  },
  {
   "cell_type": "code",
   "execution_count": 30,
   "id": "3d60fca6-71e9-4355-9d3f-1c08411be4a2",
   "metadata": {},
   "outputs": [
    {
     "data": {
      "text/plain": [
       "265252859812191032188804700045312"
      ]
     },
     "execution_count": 30,
     "metadata": {},
     "output_type": "execute_result"
    }
   ],
   "source": [
    "int(opt_factorial(30.))"
   ]
  },
  {
   "cell_type": "markdown",
   "id": "7c2ee6dc-fc63-4016-8d90-a340da500393",
   "metadata": {},
   "source": [
    "whereas the precise result is:"
   ]
  },
  {
   "cell_type": "code",
   "execution_count": 31,
   "id": "ac070d2d-9d90-4d36-9f2a-3c15c6688ed7",
   "metadata": {},
   "outputs": [
    {
     "data": {
      "text/plain": [
       "265252859812191058636308480000000"
      ]
     },
     "execution_count": 31,
     "metadata": {},
     "output_type": "execute_result"
    }
   ],
   "source": [
    "math.factorial(30)"
   ]
  },
  {
   "cell_type": "markdown",
   "id": "0b0d2ea0-dcf9-4a11-bebc-26717f00a740",
   "metadata": {},
   "source": [
    "So: it is possible to optimize functions by using the *numba* library, but care is required and the procedure is not that straightforward: a strict control of the type of the variables employed is generally necessary.   "
   ]
  },
  {
   "cell_type": "markdown",
   "id": "1bf4c653",
   "metadata": {},
   "source": [
    "### Functions returning more than one value:"
   ]
  },
  {
   "cell_type": "code",
   "execution_count": 32,
   "id": "ac50976b",
   "metadata": {},
   "outputs": [
    {
     "name": "stdout",
     "output_type": "stream",
     "text": [
      "3 2 6\n",
      "20\n",
      "(4, 5, 20)\n"
     ]
    }
   ],
   "source": [
    "def my_func(a,b):\n",
    "    c=a*b\n",
    "    return a,b,c\n",
    "\n",
    "# Three ways to get results from my_func\n",
    "\n",
    "v1,v2,v3=my_func(3,2)\n",
    "print(v1,v2,v3)\n",
    "\n",
    "# first and second output values are neglected\n",
    "_,_,v3=my_func(4,5)\n",
    "print(v3)\n",
    "\n",
    "# values saved in a list\n",
    "vl=my_func(4,5)\n",
    "print(vl)"
   ]
  },
  {
   "cell_type": "markdown",
   "id": "035cf273",
   "metadata": {},
   "source": [
    "### *Starring* the arguments of a function\n",
    "\n",
    "If the number of the arguments to a given function is not known at the time of the function definition, or it may change at the time the function is *invoked*, the variable specifying the argument can be *starred*. Here, the *my_sum* function returns the sum of its arguments: "
   ]
  },
  {
   "cell_type": "code",
   "execution_count": 33,
   "id": "d93e0959",
   "metadata": {},
   "outputs": [],
   "source": [
    "def my_sum(*val):\n",
    "    s=0\n",
    "    for iv in val:\n",
    "        s=s+iv\n",
    "    return s"
   ]
  },
  {
   "cell_type": "code",
   "execution_count": 34,
   "id": "70ce3128",
   "metadata": {},
   "outputs": [
    {
     "data": {
      "text/plain": [
       "6"
      ]
     },
     "execution_count": 34,
     "metadata": {},
     "output_type": "execute_result"
    }
   ],
   "source": [
    "my_sum(1,2,3)"
   ]
  },
  {
   "cell_type": "code",
   "execution_count": 35,
   "id": "3fa15ffd",
   "metadata": {},
   "outputs": [
    {
     "data": {
      "text/plain": [
       "9"
      ]
     },
     "execution_count": 35,
     "metadata": {},
     "output_type": "execute_result"
    }
   ],
   "source": [
    "my_sum(4,5)"
   ]
  },
  {
   "cell_type": "markdown",
   "id": "37b872eb",
   "metadata": {},
   "source": [
    "Note that the following definition is correct (the *b* value is multiplied to the sum of the *val* values):"
   ]
  },
  {
   "cell_type": "code",
   "execution_count": 36,
   "id": "96143af8",
   "metadata": {},
   "outputs": [],
   "source": [
    "def my_sum(b,*val):\n",
    "    s=0\n",
    "    for iv in val:\n",
    "        s=s+iv\n",
    "    return s*b"
   ]
  },
  {
   "cell_type": "code",
   "execution_count": 37,
   "id": "3577d37b",
   "metadata": {},
   "outputs": [
    {
     "data": {
      "text/plain": [
       "20"
      ]
     },
     "execution_count": 37,
     "metadata": {},
     "output_type": "execute_result"
    }
   ],
   "source": [
    "my_sum(2,2,3,5)"
   ]
  },
  {
   "cell_type": "markdown",
   "id": "6d6cd08d",
   "metadata": {},
   "source": [
    "This other version does not give any problem at the *time of definition*:"
   ]
  },
  {
   "cell_type": "code",
   "execution_count": 38,
   "id": "ade89a71",
   "metadata": {},
   "outputs": [],
   "source": [
    "def my_sum(*val,b):\n",
    "    s=0\n",
    "    for iv in val:\n",
    "        s=s+iv\n",
    "    return s*b"
   ]
  },
  {
   "cell_type": "markdown",
   "id": "3b9f6fbd",
   "metadata": {},
   "source": [
    "... but it results in an error at *runtime*"
   ]
  },
  {
   "cell_type": "code",
   "execution_count": 39,
   "id": "cb47b5d0",
   "metadata": {},
   "outputs": [
    {
     "ename": "TypeError",
     "evalue": "my_sum() missing 1 required keyword-only argument: 'b'",
     "output_type": "error",
     "traceback": [
      "\u001b[1;31m---------------------------------------------------------------------------\u001b[0m",
      "\u001b[1;31mTypeError\u001b[0m                                 Traceback (most recent call last)",
      "Cell \u001b[1;32mIn[39], line 1\u001b[0m\n\u001b[1;32m----> 1\u001b[0m my_sum(\u001b[38;5;241m2\u001b[39m,\u001b[38;5;241m3\u001b[39m,\u001b[38;5;241m5\u001b[39m,\u001b[38;5;241m2\u001b[39m)\n",
      "\u001b[1;31mTypeError\u001b[0m: my_sum() missing 1 required keyword-only argument: 'b'"
     ]
    }
   ],
   "source": [
    "my_sum(2,3,5,2)"
   ]
  },
  {
   "cell_type": "markdown",
   "id": "e27e92d6",
   "metadata": {},
   "source": [
    "as the last value (2) is seen as a further element of the *tuple* *val*, and no value for b is provided...\n",
    "\n",
    "Indeed, in the definition, *b* is seen as a *keyword* argument (for which no *default* value has been provided). In fact, the following call is perfectly *legal*:"
   ]
  },
  {
   "cell_type": "code",
   "execution_count": 40,
   "id": "17fca511",
   "metadata": {},
   "outputs": [
    {
     "data": {
      "text/plain": [
       "20"
      ]
     },
     "execution_count": 40,
     "metadata": {},
     "output_type": "execute_result"
    }
   ],
   "source": [
    "my_sum(2,3,5, b=2)"
   ]
  },
  {
   "cell_type": "markdown",
   "id": "e9d47ea7",
   "metadata": {},
   "source": [
    "Instead of using *starred* arguments, some code controlling the *type* of the arguments provided in input, can be inserted into the function itself. For instance:"
   ]
  },
  {
   "cell_type": "code",
   "execution_count": 41,
   "id": "2d8991e3",
   "metadata": {},
   "outputs": [],
   "source": [
    "def my_func(val, factor=2):\n",
    "    \n",
    "    if type(val) == list:\n",
    "       result=[factor*ival for ival in val]\n",
    "    else:\n",
    "       result=factor*val\n",
    "    \n",
    "    return result"
   ]
  },
  {
   "cell_type": "code",
   "execution_count": 42,
   "id": "aba0e13f",
   "metadata": {},
   "outputs": [
    {
     "data": {
      "text/plain": [
       "9"
      ]
     },
     "execution_count": 42,
     "metadata": {},
     "output_type": "execute_result"
    }
   ],
   "source": [
    "my_func(3,3)"
   ]
  },
  {
   "cell_type": "code",
   "execution_count": 43,
   "id": "7a0d36a9",
   "metadata": {},
   "outputs": [
    {
     "data": {
      "text/plain": [
       "[6, 9, 15]"
      ]
     },
     "execution_count": 43,
     "metadata": {},
     "output_type": "execute_result"
    }
   ],
   "source": [
    "my_func([2,3,5],3)"
   ]
  },
  {
   "cell_type": "markdown",
   "id": "c610922f",
   "metadata": {},
   "source": [
    "Note that things are much easier if numpy is used:"
   ]
  },
  {
   "cell_type": "code",
   "execution_count": 44,
   "id": "9fc4b042",
   "metadata": {},
   "outputs": [
    {
     "name": "stdout",
     "output_type": "stream",
     "text": [
      "[ 4  6 10]\n",
      "10\n"
     ]
    }
   ],
   "source": [
    "import numpy as np\n",
    "\n",
    "def my_func(val, factor=2):\n",
    "    return val*factor\n",
    "\n",
    "x=np.array([2,3,5])\n",
    "print(my_func(x))\n",
    "print(my_func(5))"
   ]
  },
  {
   "cell_type": "markdown",
   "id": "7b2bae0c",
   "metadata": {},
   "source": [
    "... but if *x* is a Python list, try to *explain* what's going on here..."
   ]
  },
  {
   "cell_type": "code",
   "execution_count": 45,
   "id": "82da52c3",
   "metadata": {},
   "outputs": [
    {
     "data": {
      "text/plain": [
       "[2, 3, 5, 2, 3, 5]"
      ]
     },
     "execution_count": 45,
     "metadata": {},
     "output_type": "execute_result"
    }
   ],
   "source": [
    "x=[2,3,5]\n",
    "my_func(x)"
   ]
  },
  {
   "cell_type": "markdown",
   "id": "597ca3c2",
   "metadata": {},
   "source": [
    "### Lambda Functions (*Anonymous* functions)\n",
    "\n",
    "Essentially, *lambda* functions are short, simple (one statement) functions with no name...\n",
    "\n",
    "A *lambda* construct is of the type\n",
    "\n",
    "```\n",
    "lambda x: some simple algorithm involving x\n",
    "```\n",
    "where ``` x ``` is the argument of the function. \n",
    "\n",
    "A *lambda* function can be assigned to a variable, as in the following simple example:"
   ]
  },
  {
   "cell_type": "code",
   "execution_count": 46,
   "id": "765af687",
   "metadata": {},
   "outputs": [],
   "source": [
    "f=lambda x: x**2"
   ]
  },
  {
   "cell_type": "markdown",
   "id": "1d15c7bf",
   "metadata": {},
   "source": [
    "in this case *f* is a function that takes a number and returns its squared value. In fact:"
   ]
  },
  {
   "cell_type": "code",
   "execution_count": 47,
   "id": "d1c24b02",
   "metadata": {},
   "outputs": [
    {
     "data": {
      "text/plain": [
       "function"
      ]
     },
     "execution_count": 47,
     "metadata": {},
     "output_type": "execute_result"
    }
   ],
   "source": [
    "type(f)"
   ]
  },
  {
   "cell_type": "code",
   "execution_count": 48,
   "id": "b1cb01ab",
   "metadata": {},
   "outputs": [
    {
     "data": {
      "text/plain": [
       "25"
      ]
     },
     "execution_count": 48,
     "metadata": {},
     "output_type": "execute_result"
    }
   ],
   "source": [
    "f(5)"
   ]
  },
  {
   "cell_type": "markdown",
   "id": "f659b86c",
   "metadata": {},
   "source": [
    "A *lambda* function can take more than one argument:"
   ]
  },
  {
   "cell_type": "code",
   "execution_count": 49,
   "id": "219d98fa",
   "metadata": {},
   "outputs": [],
   "source": [
    "f=lambda x,y: x*y"
   ]
  },
  {
   "cell_type": "code",
   "execution_count": 50,
   "id": "f8da6317",
   "metadata": {},
   "outputs": [
    {
     "data": {
      "text/plain": [
       "6"
      ]
     },
     "execution_count": 50,
     "metadata": {},
     "output_type": "execute_result"
    }
   ],
   "source": [
    "f(2,3)"
   ]
  },
  {
   "cell_type": "markdown",
   "id": "f4440d62",
   "metadata": {},
   "source": [
    "#### Exercise: understand what the following function will do..."
   ]
  },
  {
   "cell_type": "code",
   "execution_count": 51,
   "id": "219136d3",
   "metadata": {},
   "outputs": [],
   "source": [
    "f = lambda ini, a: [ini+a[j] for j in range(len(a))]"
   ]
  },
  {
   "cell_type": "code",
   "execution_count": 52,
   "id": "0813215a",
   "metadata": {},
   "outputs": [
    {
     "data": {
      "text/plain": [
       "[7, 9, 11]"
      ]
     },
     "execution_count": 52,
     "metadata": {},
     "output_type": "execute_result"
    }
   ],
   "source": [
    "f(2,[5,7,9])"
   ]
  },
  {
   "cell_type": "markdown",
   "id": "707bb5c7",
   "metadata": {},
   "source": [
    "The following function (*power*) gets a number (*pow*; default value: 2) and returns a function that takes a number and raises it to the power *pow*"
   ]
  },
  {
   "cell_type": "code",
   "execution_count": 53,
   "id": "081cc110",
   "metadata": {},
   "outputs": [],
   "source": [
    "def power(pow=2):\n",
    "    f=lambda x: x**pow\n",
    "    return f"
   ]
  },
  {
   "cell_type": "markdown",
   "id": "dbb5c7da",
   "metadata": {},
   "source": [
    "*Guess* what the following code does..."
   ]
  },
  {
   "cell_type": "code",
   "execution_count": 54,
   "id": "f85787ac",
   "metadata": {},
   "outputs": [],
   "source": [
    "f2=power()\n",
    "f3=power(3)\n",
    "\n",
    "x=[1,2,3,4,5]\n",
    "y=[[ix, f2(ix), f3(ix)] for ix in x]"
   ]
  },
  {
   "cell_type": "code",
   "execution_count": 55,
   "id": "826d4268",
   "metadata": {},
   "outputs": [
    {
     "name": "stdout",
     "output_type": "stream",
     "text": [
      "[[1, 1, 1], [2, 4, 8], [3, 9, 27], [4, 16, 64], [5, 25, 125]]\n"
     ]
    }
   ],
   "source": [
    "print(y)"
   ]
  },
  {
   "cell_type": "markdown",
   "id": "19f89f2d",
   "metadata": {},
   "source": [
    "If *x* is defined as a numpy array, we could write:"
   ]
  },
  {
   "cell_type": "code",
   "execution_count": 56,
   "id": "a1ad5ed3",
   "metadata": {},
   "outputs": [],
   "source": [
    "import numpy as np\n",
    "x=np.array([1,2,3,4,5])\n",
    "y=np.array([x, f2(x),f3(x)])"
   ]
  },
  {
   "cell_type": "code",
   "execution_count": 57,
   "id": "855e166e",
   "metadata": {},
   "outputs": [
    {
     "name": "stdout",
     "output_type": "stream",
     "text": [
      "[[  1   2   3   4   5]\n",
      " [  1   4   9  16  25]\n",
      " [  1   8  27  64 125]]\n"
     ]
    }
   ],
   "source": [
    "print(y)"
   ]
  },
  {
   "cell_type": "markdown",
   "id": "da81aed7",
   "metadata": {},
   "source": [
    "### Exercise:\n",
    "\n",
    "Write a function that takes several file names as arguments, each file containing a variable column number of floating point data (and a fixed number of rows), and merges them into a unique file containing all of the columns of the original files; optionally, we may want the data to be sorted according to a specific column of the merged file."
   ]
  },
  {
   "cell_type": "code",
   "execution_count": 58,
   "id": "89238244",
   "metadata": {},
   "outputs": [],
   "source": [
    "import numpy as np\n",
    "\n",
    "def merge(*files, path='./', out_file='merged.dat', out=False, sorting=-1):\n",
    "        \n",
    "    data=np.array([])\n",
    "    n_file=len(files)\n",
    "    ncol=0\n",
    "    \n",
    "    for i_file in files:\n",
    "        iname=path+i_file\n",
    "        idata=np.loadtxt(iname)\n",
    "        icol=idata.ndim\n",
    "        ncol=ncol+icol\n",
    "        if icol == 1:\n",
    "           data=np.append(data, idata)\n",
    "        else:\n",
    "           for jcol in range(icol):\n",
    "               ix=idata[:,jcol]\n",
    "               data=np.append(data, ix)\n",
    "        \n",
    "    len_data=data.size\n",
    "    nrow=int(len(data)/ncol)\n",
    "    \n",
    "    data_final=data.reshape(nrow, ncol)\n",
    "    \n",
    "    if sorting != -1:\n",
    "       icol=sorting\n",
    "       col=data_final[icol]\n",
    "       pos_col=np.argsort(col)\n",
    "       for ic in range(ncol):\n",
    "           data_final[ic]=data_final[ic, pos_col]\n",
    "       \n",
    "    data_for_out=np.transpose(data_final.reshape(ncol, nrow))\n",
    "    \n",
    "    out_name=path+out_file\n",
    "    np.savetxt(out_name, data_for_out, fmt='%7.3f')\n",
    "    \n",
    "    if out:    \n",
    "       return data_final"
   ]
  },
  {
   "cell_type": "code",
   "execution_count": 59,
   "id": "11c2770a",
   "metadata": {},
   "outputs": [],
   "source": [
    "data=merge('file_1.dat', 'file_2.dat', 'file_3.dat', 'file_4.dat', path='./data_files/', out=True, sorting=3)"
   ]
  },
  {
   "cell_type": "code",
   "execution_count": 60,
   "id": "52c6008b",
   "metadata": {},
   "outputs": [
    {
     "name": "stdout",
     "output_type": "stream",
     "text": [
      "[[ 5.  4.  3.  2.  1.]\n",
      " [10.  9.  8.  7.  6.]\n",
      " [15. 14. 13. 12. 11.]\n",
      " [21. 22. 23. 24. 25.]\n",
      " [20. 19. 18. 17. 16.]]\n"
     ]
    }
   ],
   "source": [
    "print(data)"
   ]
  }
 ],
 "metadata": {
  "kernelspec": {
   "display_name": "Python 3 (ipykernel)",
   "language": "python",
   "name": "python3"
  },
  "language_info": {
   "codemirror_mode": {
    "name": "ipython",
    "version": 3
   },
   "file_extension": ".py",
   "mimetype": "text/x-python",
   "name": "python",
   "nbconvert_exporter": "python",
   "pygments_lexer": "ipython3",
   "version": "3.12.7"
  },
  "latex_envs": {
   "LaTeX_envs_menu_present": true,
   "autoclose": false,
   "autocomplete": true,
   "bibliofile": "biblio.bib",
   "cite_by": "apalike",
   "current_citInitial": 1,
   "eqLabelWithNumbers": true,
   "eqNumInitial": 1,
   "hotkeys": {
    "equation": "Ctrl-E",
    "itemize": "Ctrl-I"
   },
   "labels_anchors": false,
   "latex_user_defs": false,
   "report_style_numbering": false,
   "user_envs_cfg": false
  },
  "varInspector": {
   "cols": {
    "lenName": 16,
    "lenType": 16,
    "lenVar": 40
   },
   "kernels_config": {
    "python": {
     "delete_cmd_postfix": "",
     "delete_cmd_prefix": "del ",
     "library": "var_list.py",
     "varRefreshCmd": "print(var_dic_list())"
    },
    "r": {
     "delete_cmd_postfix": ") ",
     "delete_cmd_prefix": "rm(",
     "library": "var_list.r",
     "varRefreshCmd": "cat(var_dic_list()) "
    }
   },
   "types_to_exclude": [
    "module",
    "function",
    "builtin_function_or_method",
    "instance",
    "_Feature"
   ],
   "window_display": false
  }
 },
 "nbformat": 4,
 "nbformat_minor": 5
}
