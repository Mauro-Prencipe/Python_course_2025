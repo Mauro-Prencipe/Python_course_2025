{
 "cells": [
  {
   "cell_type": "markdown",
   "id": "81103782",
   "metadata": {
    "id": "81103782"
   },
   "source": [
    "### Namespaces and variable scoping\n",
    "\n",
    "*One of the most tricky aspects of Python*..."
   ]
  },
  {
   "cell_type": "code",
   "execution_count": 1,
   "id": "b26dadb5",
   "metadata": {
    "colab": {
     "base_uri": "https://localhost:8080/"
    },
    "executionInfo": {
     "elapsed": 36,
     "status": "ok",
     "timestamp": 1641667664236,
     "user": {
      "displayName": "Mauro Prencipe",
      "photoUrl": "https://lh3.googleusercontent.com/a/default-user=s64",
      "userId": "16516598548394899083"
     },
     "user_tz": -60
    },
    "id": "b26dadb5",
    "outputId": "6e188be2-a550-4aeb-e58a-e1a36c5de89d"
   },
   "outputs": [
    {
     "name": "stdout",
     "output_type": "stream",
     "text": [
      "The variable 'a' defined outside the function\n",
      "before the function is invoked:  1\n",
      "\n",
      "Print of 'a' within the function:  20\n",
      "\n",
      "The variable after the function is invoked:  1\n"
     ]
    }
   ],
   "source": [
    "a=1\n",
    "\n",
    "def my_func():\n",
    "    a=20\n",
    "    print(\"\\nPrint of 'a' within the function: \",a)\n",
    "    \n",
    "print(\"The variable 'a' defined outside the function\\nbefore the function is invoked: \", a)    \n",
    "\n",
    "my_func()\n",
    "\n",
    "print(\"\\nThe variable after the function is invoked: \", a)"
   ]
  },
  {
   "cell_type": "markdown",
   "id": "e3a52c29",
   "metadata": {
    "id": "e3a52c29"
   },
   "source": [
    "The variable *a* defined inside the function *my_func* is a ***local*** variable: it occupies a specific position in memory which is reserved for the objects *belonging* to the function. Such position is *different* from the one reserved to the homonymous variable defined in the *main module*. The two variables just happen to share a common label (*a*) but point at two different areas of the computer memory.\n",
    "\n",
    "Another feature of variables is illustrated here:"
   ]
  },
  {
   "cell_type": "code",
   "execution_count": 2,
   "id": "1f5c651e",
   "metadata": {
    "id": "1f5c651e",
    "outputId": "535495e9-3a59-4c4d-d279-de5153bcbc46"
   },
   "outputs": [
    {
     "name": "stdout",
     "output_type": "stream",
     "text": [
      "The variable 'a' defined outside the function\n",
      "before the function is invoked:  1\n",
      "\n",
      "Print of 'a' within the function:  1\n",
      "Print of 'b' within the function:  20\n"
     ]
    }
   ],
   "source": [
    "a=1\n",
    "\n",
    "def my_func():\n",
    "    b=20\n",
    "    print(\"\\nPrint of 'a' within the function: \",a)\n",
    "    print(\"Print of 'b' within the function: \", b)\n",
    "    \n",
    "print(\"The variable 'a' defined outside the function\\nbefore the function is invoked: \", a)    \n",
    "\n",
    "my_func()"
   ]
  },
  {
   "cell_type": "markdown",
   "id": "f49d3e8a",
   "metadata": {
    "id": "f49d3e8a"
   },
   "source": [
    "That is, the variable *a* is *seen* inside the function *my_func*: at variance with the previous definition of such function, here, the ***global*** variable *a* is not *shadowed*, inside the function, by a local variable having the same label. \n",
    "\n",
    "Now if we ask for the variable *a*, we get:"
   ]
  },
  {
   "cell_type": "code",
   "execution_count": 3,
   "id": "380a7241",
   "metadata": {
    "id": "380a7241",
    "outputId": "3a77aebf-eeec-4c24-f7d5-43cef59ac51b"
   },
   "outputs": [
    {
     "name": "stdout",
     "output_type": "stream",
     "text": [
      "1\n"
     ]
    }
   ],
   "source": [
    "print(a)"
   ]
  },
  {
   "cell_type": "markdown",
   "id": "ecf6776d",
   "metadata": {
    "id": "ecf6776d"
   },
   "source": [
    "... but, if we ask for the local variable *b* defined in *my_func* we get:"
   ]
  },
  {
   "cell_type": "code",
   "execution_count": 4,
   "id": "2b10e9a2",
   "metadata": {
    "id": "2b10e9a2",
    "outputId": "5e5083b1-4cef-4966-a1a2-66390474a5b5"
   },
   "outputs": [
    {
     "ename": "NameError",
     "evalue": "name 'b' is not defined",
     "output_type": "error",
     "traceback": [
      "\u001b[1;31m---------------------------------------------------------------------------\u001b[0m",
      "\u001b[1;31mNameError\u001b[0m                                 Traceback (most recent call last)",
      "\u001b[1;32m~\\AppData\\Local\\Temp/ipykernel_15800/324135452.py\u001b[0m in \u001b[0;36m<module>\u001b[1;34m\u001b[0m\n\u001b[1;32m----> 1\u001b[1;33m \u001b[0mprint\u001b[0m\u001b[1;33m(\u001b[0m\u001b[0mb\u001b[0m\u001b[1;33m)\u001b[0m\u001b[1;33m\u001b[0m\u001b[1;33m\u001b[0m\u001b[0m\n\u001b[0m",
      "\u001b[1;31mNameError\u001b[0m: name 'b' is not defined"
     ]
    }
   ],
   "source": [
    "print(b)"
   ]
  },
  {
   "cell_type": "markdown",
   "id": "b74c0e95",
   "metadata": {
    "id": "b74c0e95"
   },
   "source": [
    "... that is, an ***error***: the local variable *b* no longer exists, as after the function is executed, the memory is cleared.\n",
    "\n",
    "Now, we see another example (but, before of that, we free the *global* memory from the variable *a*...)"
   ]
  },
  {
   "cell_type": "code",
   "execution_count": 5,
   "id": "d4306f01",
   "metadata": {
    "id": "d4306f01"
   },
   "outputs": [],
   "source": [
    "if 'a' in globals(): del(a)"
   ]
  },
  {
   "cell_type": "markdown",
   "id": "05a9387a",
   "metadata": {
    "id": "05a9387a"
   },
   "source": [
    "Now, we define a *nested* function (a function *inside* a function):"
   ]
  },
  {
   "cell_type": "code",
   "execution_count": 6,
   "id": "43d6a283",
   "metadata": {
    "id": "43d6a283"
   },
   "outputs": [],
   "source": [
    "def func_1():\n",
    "    a=1\n",
    "    print(\"1) \", a)\n",
    "\n",
    "    def func_2():\n",
    "        a=20\n",
    "        print(\"2) \", a)\n",
    "    \n",
    "    func_2()\n",
    "    \n",
    "    print(\"3) \", a)"
   ]
  },
  {
   "cell_type": "markdown",
   "id": "28d0b5a7",
   "metadata": {
    "id": "28d0b5a7"
   },
   "source": [
    "then we call *func_1*:"
   ]
  },
  {
   "cell_type": "code",
   "execution_count": 7,
   "id": "0d738800",
   "metadata": {
    "id": "0d738800",
    "outputId": "8d557bb0-c32c-422d-8dee-1d1d36ab622d"
   },
   "outputs": [
    {
     "name": "stdout",
     "output_type": "stream",
     "text": [
      "1)  1\n",
      "2)  20\n",
      "3)  1\n"
     ]
    }
   ],
   "source": [
    "func_1()"
   ]
  },
  {
   "cell_type": "markdown",
   "id": "43150233",
   "metadata": {
    "id": "43150233"
   },
   "source": [
    "That is: \n",
    "\n",
    "- the variable *a* defined in *func_1* is *seen* in the function *func_2* which, in turn, is defined *inside* *func_1* (*func_2* is a nested function); \n",
    "- *func_2* shadows the original value of *a* by assigning its local *a*=20; \n",
    "- after *func_2* ends, its *namespace* is cleared, and *func_1* prints its original *a* value (1).\n",
    "\n",
    "The value *a=1* is however *local* within *func_1*; indeed, if we ask for *a*, now, we get:"
   ]
  },
  {
   "cell_type": "code",
   "execution_count": 8,
   "id": "dc8ae413",
   "metadata": {
    "id": "dc8ae413",
    "outputId": "102ca274-3797-4b83-b695-7b63a0248cc8"
   },
   "outputs": [
    {
     "ename": "NameError",
     "evalue": "name 'a' is not defined",
     "output_type": "error",
     "traceback": [
      "\u001b[1;31m---------------------------------------------------------------------------\u001b[0m",
      "\u001b[1;31mNameError\u001b[0m                                 Traceback (most recent call last)",
      "\u001b[1;32m~\\AppData\\Local\\Temp/ipykernel_15800/1189138062.py\u001b[0m in \u001b[0;36m<module>\u001b[1;34m\u001b[0m\n\u001b[1;32m----> 1\u001b[1;33m \u001b[0mprint\u001b[0m\u001b[1;33m(\u001b[0m\u001b[0ma\u001b[0m\u001b[1;33m)\u001b[0m\u001b[1;33m\u001b[0m\u001b[1;33m\u001b[0m\u001b[0m\n\u001b[0m",
      "\u001b[1;31mNameError\u001b[0m: name 'a' is not defined"
     ]
    }
   ],
   "source": [
    "print(a)"
   ]
  },
  {
   "cell_type": "markdown",
   "id": "b79d4ec5",
   "metadata": {
    "id": "b79d4ec5"
   },
   "source": [
    "that is, our *usual* error."
   ]
  },
  {
   "cell_type": "markdown",
   "id": "92107e36",
   "metadata": {
    "id": "92107e36"
   },
   "source": [
    "### Take home message:\n",
    "- Variables defined in the *main* module are *global*: they can be seen in every function defined in the *same* module, unless they are *shadowed* by variables, defined inside the function, that share the same label. \n",
    "- Variables defined inside a function can be seen in all the nested (sub)functions defined in that function (unless *shadowed*).\n",
    "\n",
    "#### Warning \n",
    "\n",
    "Have a look here at the (*wrong*) code below: "
   ]
  },
  {
   "cell_type": "code",
   "execution_count": 9,
   "id": "41f8c47a",
   "metadata": {
    "id": "41f8c47a"
   },
   "outputs": [],
   "source": [
    "def no_good():\n",
    "    counter=1\n",
    "    print(\"Counter \", counter)\n",
    "    def nested_func():\n",
    "        counter=counter+1\n",
    "        print(\"Counter \", counter)\n",
    "    \n",
    "    nested_func()"
   ]
  },
  {
   "cell_type": "markdown",
   "id": "12ab4268",
   "metadata": {
    "id": "12ab4268"
   },
   "source": [
    "No problem at the time of the function definition, but..."
   ]
  },
  {
   "cell_type": "code",
   "execution_count": 10,
   "id": "bf02f284",
   "metadata": {
    "id": "bf02f284",
    "outputId": "3967ef56-5268-4b7e-f65c-e3980a608e03"
   },
   "outputs": [
    {
     "name": "stdout",
     "output_type": "stream",
     "text": [
      "Counter  1\n"
     ]
    },
    {
     "ename": "UnboundLocalError",
     "evalue": "local variable 'counter' referenced before assignment",
     "output_type": "error",
     "traceback": [
      "\u001b[1;31m---------------------------------------------------------------------------\u001b[0m",
      "\u001b[1;31mUnboundLocalError\u001b[0m                         Traceback (most recent call last)",
      "\u001b[1;32m~\\AppData\\Local\\Temp/ipykernel_15800/1204168006.py\u001b[0m in \u001b[0;36m<module>\u001b[1;34m\u001b[0m\n\u001b[1;32m----> 1\u001b[1;33m \u001b[0mno_good\u001b[0m\u001b[1;33m(\u001b[0m\u001b[1;33m)\u001b[0m\u001b[1;33m\u001b[0m\u001b[1;33m\u001b[0m\u001b[0m\n\u001b[0m",
      "\u001b[1;32m~\\AppData\\Local\\Temp/ipykernel_15800/3847071666.py\u001b[0m in \u001b[0;36mno_good\u001b[1;34m()\u001b[0m\n\u001b[0;32m      6\u001b[0m         \u001b[0mprint\u001b[0m\u001b[1;33m(\u001b[0m\u001b[1;34m\"Counter \"\u001b[0m\u001b[1;33m,\u001b[0m \u001b[0mcounter\u001b[0m\u001b[1;33m)\u001b[0m\u001b[1;33m\u001b[0m\u001b[1;33m\u001b[0m\u001b[0m\n\u001b[0;32m      7\u001b[0m \u001b[1;33m\u001b[0m\u001b[0m\n\u001b[1;32m----> 8\u001b[1;33m     \u001b[0mnested_func\u001b[0m\u001b[1;33m(\u001b[0m\u001b[1;33m)\u001b[0m\u001b[1;33m\u001b[0m\u001b[1;33m\u001b[0m\u001b[0m\n\u001b[0m",
      "\u001b[1;32m~\\AppData\\Local\\Temp/ipykernel_15800/3847071666.py\u001b[0m in \u001b[0;36mnested_func\u001b[1;34m()\u001b[0m\n\u001b[0;32m      3\u001b[0m     \u001b[0mprint\u001b[0m\u001b[1;33m(\u001b[0m\u001b[1;34m\"Counter \"\u001b[0m\u001b[1;33m,\u001b[0m \u001b[0mcounter\u001b[0m\u001b[1;33m)\u001b[0m\u001b[1;33m\u001b[0m\u001b[1;33m\u001b[0m\u001b[0m\n\u001b[0;32m      4\u001b[0m     \u001b[1;32mdef\u001b[0m \u001b[0mnested_func\u001b[0m\u001b[1;33m(\u001b[0m\u001b[1;33m)\u001b[0m\u001b[1;33m:\u001b[0m\u001b[1;33m\u001b[0m\u001b[1;33m\u001b[0m\u001b[0m\n\u001b[1;32m----> 5\u001b[1;33m         \u001b[0mcounter\u001b[0m\u001b[1;33m=\u001b[0m\u001b[0mcounter\u001b[0m\u001b[1;33m+\u001b[0m\u001b[1;36m1\u001b[0m\u001b[1;33m\u001b[0m\u001b[1;33m\u001b[0m\u001b[0m\n\u001b[0m\u001b[0;32m      6\u001b[0m         \u001b[0mprint\u001b[0m\u001b[1;33m(\u001b[0m\u001b[1;34m\"Counter \"\u001b[0m\u001b[1;33m,\u001b[0m \u001b[0mcounter\u001b[0m\u001b[1;33m)\u001b[0m\u001b[1;33m\u001b[0m\u001b[1;33m\u001b[0m\u001b[0m\n\u001b[0;32m      7\u001b[0m \u001b[1;33m\u001b[0m\u001b[0m\n",
      "\u001b[1;31mUnboundLocalError\u001b[0m: local variable 'counter' referenced before assignment"
     ]
    }
   ],
   "source": [
    "no_good()"
   ]
  },
  {
   "cell_type": "markdown",
   "id": "a368b1ed",
   "metadata": {
    "id": "a368b1ed"
   },
   "source": [
    "We got a \"*local variable 'counter' referenced before assignment*\" **error**. \n",
    "\n",
    "This error is generated when *nested_func* is invoked within *no_good*... Why? If *counter* is defined outside *nested_func*, it should be seen within it! \n",
    "\n",
    "Well, not quite... The point is that *nested_func* tries to reassign the variable *counter*:\n",
    "\n",
    "```\n",
    "counter=counter+1\n",
    "```\n",
    "\n",
    "and, at that very moment, *counter* becomes a local variable shadowing the one defined in the outer *namespace*, but then Python does no longer know its value when tries to evaluate the righthand side of the expression pretending to (re)compute the variable...\n",
    "\n",
    "This other function does not show any problem, but probably it does not exactly do what we would like it should..."
   ]
  },
  {
   "cell_type": "code",
   "execution_count": 11,
   "id": "58d1d6c7",
   "metadata": {
    "id": "58d1d6c7"
   },
   "outputs": [],
   "source": [
    "def is_good():\n",
    "    counter=1\n",
    "    print(\"Counter    \", counter)\n",
    "    def nested_func():\n",
    "        counter_2=counter+1               # this is another counter...\n",
    "        print(\"Counter(2) \", counter_2)\n",
    "    \n",
    "    nested_func()"
   ]
  },
  {
   "cell_type": "code",
   "execution_count": 12,
   "id": "ca7a5d87",
   "metadata": {
    "id": "ca7a5d87",
    "outputId": "bdb109b7-4b03-4a5a-ee88-ac8b2ba1fbc1"
   },
   "outputs": [
    {
     "name": "stdout",
     "output_type": "stream",
     "text": [
      "Counter     1\n",
      "Counter(2)  2\n"
     ]
    }
   ],
   "source": [
    "is_good()"
   ]
  },
  {
   "cell_type": "markdown",
   "id": "dcd9bf89",
   "metadata": {
    "id": "dcd9bf89"
   },
   "source": [
    "Here is a possible way to *bypass* the problem: the variable *counter* is *declared* as **global** in all the functions and nested functions that modify it:"
   ]
  },
  {
   "cell_type": "code",
   "execution_count": 13,
   "id": "695ebed0",
   "metadata": {
    "id": "695ebed0"
   },
   "outputs": [],
   "source": [
    "if 'counter' in globals(): del(counter)  # clear the memory from 'counter' if it is defined\n",
    "\n",
    "def is_good():\n",
    "    global counter                        # counter is declared as global\n",
    "    counter=1\n",
    "    print(\"Counter \", counter)\n",
    "    def nested_func():\n",
    "        global counter                    # counter is again declared as global\n",
    "        counter=counter+1\n",
    "        print(\"Counter \", counter)\n",
    "    \n",
    "    nested_func()\n",
    "    \n",
    "    counter=counter+1\n",
    "    print(\"Counter \",counter)"
   ]
  },
  {
   "cell_type": "code",
   "execution_count": 14,
   "id": "cacda92d",
   "metadata": {
    "id": "cacda92d",
    "outputId": "0471f400-63fa-4337-d211-588870703393"
   },
   "outputs": [
    {
     "name": "stdout",
     "output_type": "stream",
     "text": [
      "Counter  1\n",
      "Counter  2\n",
      "Counter  3\n"
     ]
    }
   ],
   "source": [
    "is_good()"
   ]
  },
  {
   "cell_type": "markdown",
   "id": "660edb6c",
   "metadata": {
    "id": "660edb6c"
   },
   "source": [
    "In fact:\n",
    "\n",
    "- the first ``` global counter ``` declaration, and the subsequent assignement ``` counter = 1 ```, does create a *bind* between the *counter* variable and its value at the *global* level (that is, in the *namespace* of the *main* module); \n",
    "- the second ``` global counter ``` declaration (in the nested function) does create a bind between the variable *counter* used in the nested function and the one already defined at the global level (again in the *main namespace*)\n",
    "\n",
    "The function works well, but the side effect is that, now, *counter* is not cleared when *is_good* is terminated..."
   ]
  },
  {
   "cell_type": "code",
   "execution_count": 15,
   "id": "ff85cac5",
   "metadata": {
    "id": "ff85cac5",
    "outputId": "c98be7db-1387-4f06-e52b-636fa71f0ae1"
   },
   "outputs": [
    {
     "name": "stdout",
     "output_type": "stream",
     "text": [
      "3\n"
     ]
    }
   ],
   "source": [
    "print(counter)"
   ]
  },
  {
   "cell_type": "markdown",
   "id": "c7b2fee6",
   "metadata": {
    "id": "c7b2fee6"
   },
   "source": [
    "In the same way (*counter* defined in the main namespace):"
   ]
  },
  {
   "cell_type": "code",
   "execution_count": 16,
   "id": "7d938753",
   "metadata": {
    "id": "7d938753",
    "outputId": "4094d805-c5be-4138-e40d-2cdbbfd42dc6"
   },
   "outputs": [
    {
     "name": "stdout",
     "output_type": "stream",
     "text": [
      "1\n"
     ]
    }
   ],
   "source": [
    "if 'counter' in globals(): del(counter)\n",
    "    \n",
    "counter=0\n",
    "\n",
    "def func():\n",
    "    global counter\n",
    "    counter=counter+1\n",
    "    print(counter)\n",
    "    \n",
    "func()   "
   ]
  },
  {
   "cell_type": "markdown",
   "id": "3e65aa59",
   "metadata": {
    "id": "3e65aa59"
   },
   "source": [
    "... and now, *counter* is *permanently* modified:"
   ]
  },
  {
   "cell_type": "code",
   "execution_count": 17,
   "id": "54c12abf",
   "metadata": {
    "id": "54c12abf",
    "outputId": "6a0ed778-d4e1-4c94-aea4-fb513a264265"
   },
   "outputs": [
    {
     "name": "stdout",
     "output_type": "stream",
     "text": [
      "1\n"
     ]
    }
   ],
   "source": [
    "print(counter)"
   ]
  },
  {
   "cell_type": "markdown",
   "id": "41d2d248",
   "metadata": {
    "id": "ed7a00e2"
   },
   "source": [
    "This *bypass* of the *global* declaration inside functions might seem to be very useful, but is absolutely **deprecated** as it is at the origin of uncountable errors and bugs in Python codes. Therefore, use it only if you cannot do otherwise (*and you always can do otherwise*... we will see how).\n",
    "\n",
    "Indeed, try to imagine a large program that *somewhere* defines and assigns, at the global level, the variable *counter*, having some meaning, being used in some operations. Now, *unaware* of all that, you takes that program and modify it by *just* adding a function that uses a variable you give the very same name *counter* which is declared as *global*... \n",
    "\n",
    "To limit *damages* like those, you can use ***nonlocal*** declarations!"
   ]
  },
  {
   "cell_type": "markdown",
   "id": "aa9d8ccd",
   "metadata": {},
   "source": [
    "### *nonlocal* declaration"
   ]
  },
  {
   "cell_type": "markdown",
   "id": "ed7a00e2",
   "metadata": {
    "id": "ed7a00e2"
   },
   "source": [
    "Here is another declaration (***nonlocal***) that is particularly useful in case of nested functions:"
   ]
  },
  {
   "cell_type": "code",
   "execution_count": 18,
   "id": "15c8d8a8",
   "metadata": {},
   "outputs": [],
   "source": [
    "if 'counter' in globals(): del(counter)\n",
    "    \n",
    "def func():\n",
    "    counter=1\n",
    "    def nested_func():\n",
    "        nonlocal counter\n",
    "        counter=counter+1\n",
    "        \n",
    "    print(\"Before the call to nested_func: \", counter)\n",
    "    nested_func()\n",
    "    print(\"After the call to nested_func:  \", counter)"
   ]
  },
  {
   "cell_type": "markdown",
   "id": "7faff934",
   "metadata": {},
   "source": [
    "We define a variable *counter* within a function (*func*); then, within the nested function *nested_func* we reassign *counter* (through ``` counter = counter + 1 ```) but declaring the variable as *nonlocal*: this creates a binding of the latter variable with the one defined within the function *func*; it is not a binding at the global level, in the namespace of the module (the *cell*), but it is in the namespace of the function *func*. Let's call *func*: "
   ]
  },
  {
   "cell_type": "code",
   "execution_count": 19,
   "id": "4220e703",
   "metadata": {},
   "outputs": [
    {
     "name": "stdout",
     "output_type": "stream",
     "text": [
      "Before the call to nested_func:  1\n",
      "After the call to nested_func:   2\n"
     ]
    }
   ],
   "source": [
    "func()"
   ]
  },
  {
   "cell_type": "markdown",
   "id": "3db8e3d3",
   "metadata": {},
   "source": [
    "The *proof* that *counter* is not defined at the global level is:"
   ]
  },
  {
   "cell_type": "code",
   "execution_count": 20,
   "id": "5792edcb",
   "metadata": {},
   "outputs": [
    {
     "name": "stdout",
     "output_type": "stream",
     "text": [
      "False\n"
     ]
    }
   ],
   "source": [
    "print('counter' in globals())"
   ]
  },
  {
   "cell_type": "markdown",
   "id": "5ff13237",
   "metadata": {},
   "source": [
    "### Exercise:\n",
    "\n",
    "Use the *nonlocal* declaration to code a function for the calculation of the factorial of a number and *recursion* (in a previous lecture we used *classes*, not yet explained, to code the algorithm)."
   ]
  },
  {
   "cell_type": "code",
   "execution_count": 21,
   "id": "918a1e42",
   "metadata": {},
   "outputs": [],
   "source": [
    "def factorial(n):\n",
    "    fact=1\n",
    "    \n",
    "    def rec_func():\n",
    "        nonlocal fact, n\n",
    "        fact=fact*n\n",
    "        n=n-1\n",
    "        if n == 1:\n",
    "            return\n",
    "        else:\n",
    "            rec_func()\n",
    "            \n",
    "    rec_func()\n",
    "    return fact       "
   ]
  },
  {
   "cell_type": "markdown",
   "id": "41176ddb",
   "metadata": {},
   "source": [
    "Here we created a bind of the *fact* variable, in the *rec_func*, with the variable having the same name in the namespace of the function *factorial*. The same is true for the variable *n* which is an argument of the function *factorial* and, as such, it exists in the namespace of the latter function; we need this *nonlocal* declaration as, as well as for *fact*, *n* is reassigned within *rec_func* and we want to avoid shadowing. \n",
    "\n",
    "Let's see if it works..."
   ]
  },
  {
   "cell_type": "code",
   "execution_count": 22,
   "id": "8424ceb0",
   "metadata": {},
   "outputs": [
    {
     "data": {
      "text/plain": [
       "40320"
      ]
     },
     "execution_count": 22,
     "metadata": {},
     "output_type": "execute_result"
    }
   ],
   "source": [
    "factorial(8)"
   ]
  },
  {
   "cell_type": "markdown",
   "id": "cdd26867",
   "metadata": {},
   "source": [
    "### Exercise: square root of a number\n",
    "\n",
    "Use the recursion method to compute the square root of a number $n$, by the Newton's algorithm:\n",
    "\n",
    "\n",
    "$\\sqrt{n} = \\lim\\limits_{m \\to \\infty} x_m$ \n",
    "\n",
    "where\n",
    "\n",
    "$x_{i+1}=\\frac{1}{2}\\left(x_i+\\frac{n}{x_i}\\right)$ and $x_0$ is an initial *guess*\n",
    "\n",
    "\n",
    "    "
   ]
  },
  {
   "cell_type": "code",
   "execution_count": 23,
   "id": "9641f800",
   "metadata": {},
   "outputs": [],
   "source": [
    "def square_root(n, thr=1e-15):\n",
    "    '''\n",
    "    Computes the square root of a number within a given precision\n",
    "    \n",
    "    Args:\n",
    "        n:   number whose square root has to be computed\n",
    "        thr: precision required\n",
    "    '''\n",
    "    guess=n\n",
    "    if guess == 0.: guess=1.\n",
    "        \n",
    "    def square_rec():\n",
    "        nonlocal guess\n",
    "        approx=0.5*(guess+n/guess)\n",
    "        diff=abs(approx-guess)\n",
    "        if diff > thr:\n",
    "           guess=approx\n",
    "           square_rec()\n",
    "        else:\n",
    "           return\n",
    "    \n",
    "    square_rec()\n",
    "    return guess"
   ]
  },
  {
   "cell_type": "markdown",
   "id": "c18eb5f0",
   "metadata": {},
   "source": [
    "Check if this function works..."
   ]
  },
  {
   "cell_type": "code",
   "execution_count": 24,
   "id": "56d4d262",
   "metadata": {},
   "outputs": [
    {
     "data": {
      "text/plain": [
       "1.414213562373095"
      ]
     },
     "execution_count": 24,
     "metadata": {},
     "output_type": "execute_result"
    }
   ],
   "source": [
    "square_root(2)"
   ]
  },
  {
   "cell_type": "markdown",
   "id": "01b919e5",
   "metadata": {
    "id": "01b919e5"
   },
   "source": [
    "### Lists and arrays are *apparently* different...\n",
    "\n",
    "To further complicate the issue!\n",
    "\n",
    "*Apparently* lists do behave in the same way as scalar variables:"
   ]
  },
  {
   "cell_type": "code",
   "execution_count": 25,
   "id": "be5e8a4a",
   "metadata": {
    "id": "be5e8a4a",
    "outputId": "9e41be73-50b0-41f8-da7c-b6c1faabaf82"
   },
   "outputs": [
    {
     "name": "stdout",
     "output_type": "stream",
     "text": [
      "a within func:   [6, 7, 8]\n",
      "a outside func:  [1, 2, 3, 4, 5]\n"
     ]
    }
   ],
   "source": [
    "a=[1,2,3,4,5]\n",
    "\n",
    "def func():\n",
    "    a=[6,7,8]\n",
    "    print(\"a within func:  \", a)\n",
    "    \n",
    "func()\n",
    "print(\"a outside func: \", a)"
   ]
  },
  {
   "cell_type": "markdown",
   "id": "0b72291c",
   "metadata": {
    "id": "0b72291c"
   },
   "source": [
    "Up to now, nothing strange: just the usual shadowing... but, look at here:"
   ]
  },
  {
   "cell_type": "code",
   "execution_count": 26,
   "id": "37f82e6f",
   "metadata": {
    "id": "37f82e6f",
    "outputId": "8a8a3577-c29c-400b-9c78-87a57e8e4a29"
   },
   "outputs": [
    {
     "name": "stdout",
     "output_type": "stream",
     "text": [
      "a before func call:  [1, 2, 3, 4, 5]\n",
      "a within func:       [7, 2, 3, 4, 5]\n",
      "a after func call:   [7, 2, 3, 4, 5]\n"
     ]
    }
   ],
   "source": [
    "a=[1,2,3,4,5]\n",
    "\n",
    "def func():\n",
    "    a[0]=7\n",
    "    print(\"a within func:      \", a)\n",
    "    \n",
    "print(\"a before func call: \", a)\n",
    "func()\n",
    "print(\"a after func call:  \", a)"
   ]
  },
  {
   "cell_type": "markdown",
   "id": "24b0b9c2",
   "metadata": {
    "id": "24b0b9c2"
   },
   "source": [
    "*Hey*! The list has been modified even if there is no *global* declaration of it inside the function... \n",
    "\n",
    "So, what? Are *lists* always globals? Not at all... Let's try this:"
   ]
  },
  {
   "cell_type": "code",
   "execution_count": 27,
   "id": "bc68b1a1",
   "metadata": {
    "id": "bc68b1a1",
    "outputId": "a3692763-0f7e-40bc-edc7-10b945cd056d"
   },
   "outputs": [
    {
     "name": "stdout",
     "output_type": "stream",
     "text": [
      "a before func call:  [1, 2, 3, 4, 5]\n"
     ]
    },
    {
     "ename": "UnboundLocalError",
     "evalue": "local variable 'a' referenced before assignment",
     "output_type": "error",
     "traceback": [
      "\u001b[1;31m---------------------------------------------------------------------------\u001b[0m",
      "\u001b[1;31mUnboundLocalError\u001b[0m                         Traceback (most recent call last)",
      "\u001b[1;32m~\\AppData\\Local\\Temp/ipykernel_15800/1961610332.py\u001b[0m in \u001b[0;36m<module>\u001b[1;34m\u001b[0m\n\u001b[0;32m      6\u001b[0m \u001b[1;33m\u001b[0m\u001b[0m\n\u001b[0;32m      7\u001b[0m \u001b[0mprint\u001b[0m\u001b[1;33m(\u001b[0m\u001b[1;34m\"a before func call: \"\u001b[0m\u001b[1;33m,\u001b[0m \u001b[0ma\u001b[0m\u001b[1;33m)\u001b[0m\u001b[1;33m\u001b[0m\u001b[1;33m\u001b[0m\u001b[0m\n\u001b[1;32m----> 8\u001b[1;33m \u001b[0mfunc\u001b[0m\u001b[1;33m(\u001b[0m\u001b[1;33m)\u001b[0m\u001b[1;33m\u001b[0m\u001b[1;33m\u001b[0m\u001b[0m\n\u001b[0m\u001b[0;32m      9\u001b[0m \u001b[0mprint\u001b[0m\u001b[1;33m(\u001b[0m\u001b[1;34m\"a after func call:  \"\u001b[0m\u001b[1;33m,\u001b[0m \u001b[0ma\u001b[0m\u001b[1;33m)\u001b[0m\u001b[1;33m\u001b[0m\u001b[1;33m\u001b[0m\u001b[0m\n",
      "\u001b[1;32m~\\AppData\\Local\\Temp/ipykernel_15800/1961610332.py\u001b[0m in \u001b[0;36mfunc\u001b[1;34m()\u001b[0m\n\u001b[0;32m      2\u001b[0m \u001b[1;33m\u001b[0m\u001b[0m\n\u001b[0;32m      3\u001b[0m \u001b[1;32mdef\u001b[0m \u001b[0mfunc\u001b[0m\u001b[1;33m(\u001b[0m\u001b[1;33m)\u001b[0m\u001b[1;33m:\u001b[0m\u001b[1;33m\u001b[0m\u001b[1;33m\u001b[0m\u001b[0m\n\u001b[1;32m----> 4\u001b[1;33m     \u001b[0ma\u001b[0m\u001b[1;33m=\u001b[0m\u001b[0ma\u001b[0m\u001b[1;33m*\u001b[0m\u001b[1;36m2\u001b[0m\u001b[1;33m\u001b[0m\u001b[1;33m\u001b[0m\u001b[0m\n\u001b[0m\u001b[0;32m      5\u001b[0m     \u001b[0mprint\u001b[0m\u001b[1;33m(\u001b[0m\u001b[1;34m\"a within func:      \"\u001b[0m\u001b[1;33m,\u001b[0m \u001b[0ma\u001b[0m\u001b[1;33m)\u001b[0m\u001b[1;33m\u001b[0m\u001b[1;33m\u001b[0m\u001b[0m\n\u001b[0;32m      6\u001b[0m \u001b[1;33m\u001b[0m\u001b[0m\n",
      "\u001b[1;31mUnboundLocalError\u001b[0m: local variable 'a' referenced before assignment"
     ]
    }
   ],
   "source": [
    "a=[1,2,3,4,5]\n",
    "\n",
    "def func():\n",
    "    a=a*2\n",
    "    print(\"a within func:      \", a)\n",
    "    \n",
    "print(\"a before func call: \", a)\n",
    "func()\n",
    "print(\"a after func call:  \", a)"
   ]
  },
  {
   "cell_type": "markdown",
   "id": "22987056",
   "metadata": {
    "id": "22987056"
   },
   "source": [
    "... Indeed, inside the function *func*, the reassigment of the list *a* causes it to became *local*, exactly as we already saw for scalars. Therefore, the righthand side of ``` a=a*2 ``` cannot be evaluated (after all, what's the value of this *new* local *a*?). The bypass is the same as for scalar: use *global*:"
   ]
  },
  {
   "cell_type": "code",
   "execution_count": 28,
   "id": "964a48fc",
   "metadata": {
    "id": "964a48fc",
    "outputId": "390139a3-82c1-48d9-b41d-884f5deec5e7"
   },
   "outputs": [
    {
     "name": "stdout",
     "output_type": "stream",
     "text": [
      "a before func call:  [1, 2, 3, 4, 5]\n",
      "a within func:       [1, 2, 3, 4, 5, 1, 2, 3, 4, 5]\n",
      "a after func call:   [1, 2, 3, 4, 5, 1, 2, 3, 4, 5]\n"
     ]
    }
   ],
   "source": [
    "a=[1,2,3,4,5]\n",
    "\n",
    "def func():\n",
    "    global a\n",
    "    a=a*2\n",
    "    print(\"a within func:      \", a)\n",
    "    \n",
    "print(\"a before func call: \", a)\n",
    "func()\n",
    "print(\"a after func call:  \", a)"
   ]
  },
  {
   "cell_type": "markdown",
   "id": "6b50f0a3",
   "metadata": {
    "id": "6b50f0a3"
   },
   "source": [
    "Since *a* is a Python list, ``` a*2 ``` is just the *concatenation* of two copies of the list, and it is modified *permanently*. \n",
    "\n",
    "The label *a* of the list points at some location in memory where its elements are stored. If the list is reassigned within a function, it points to another location in memory and so, definitely, it is a new list (unless declared as *global*) that shadows the original one. However, ***elements of the list maintain the same addresses in memory***, so that they can be modified... \n",
    "\n",
    "As a further example:"
   ]
  },
  {
   "cell_type": "code",
   "execution_count": 29,
   "id": "d3de4edb",
   "metadata": {
    "id": "d3de4edb"
   },
   "outputs": [],
   "source": [
    "a=[1,2,3,4,5]\n",
    "\n",
    "def func(factor):\n",
    "    for ia in range(len(a)):\n",
    "        a[ia]=a[ia]*factor"
   ]
  },
  {
   "cell_type": "code",
   "execution_count": 30,
   "id": "c0e029af",
   "metadata": {
    "id": "c0e029af",
    "outputId": "791fbf87-57af-4cc2-c4a6-a3bddb582a0f"
   },
   "outputs": [
    {
     "name": "stdout",
     "output_type": "stream",
     "text": [
      "[1, 2, 3, 4, 5]\n",
      "[4, 8, 12, 16, 20]\n"
     ]
    }
   ],
   "source": [
    "print(a)\n",
    "func(4)\n",
    "print(a)"
   ]
  },
  {
   "cell_type": "markdown",
   "id": "bb6552cf",
   "metadata": {
    "id": "bb6552cf"
   },
   "source": [
    "Same behaviour with numpy arrays as elements are addressed: "
   ]
  },
  {
   "cell_type": "code",
   "execution_count": 31,
   "id": "ea204605",
   "metadata": {
    "id": "ea204605",
    "outputId": "12267cc7-d9de-4358-9fdb-3cad49bf5f10"
   },
   "outputs": [
    {
     "name": "stdout",
     "output_type": "stream",
     "text": [
      "[1 2 3 4 5]\n",
      "[ 4  8 12 16 20]\n"
     ]
    }
   ],
   "source": [
    "import numpy as np\n",
    "\n",
    "a=np.array([1,2,3,4,5])\n",
    "\n",
    "def func(factor):\n",
    "    for ia in range(len(a)):\n",
    "        a[ia]=a[ia]*factor\n",
    "        \n",
    "print(a)\n",
    "func(4)\n",
    "print(a)"
   ]
  },
  {
   "cell_type": "markdown",
   "id": "683e8ff1",
   "metadata": {
    "id": "683e8ff1"
   },
   "source": [
    "Error is returned if the whole list is addressed (no *global* declaration)"
   ]
  },
  {
   "cell_type": "code",
   "execution_count": 32,
   "id": "5cd375ea",
   "metadata": {
    "id": "5cd375ea",
    "outputId": "53a0b97b-9027-4191-aea8-b4b16e477af2"
   },
   "outputs": [
    {
     "name": "stdout",
     "output_type": "stream",
     "text": [
      "[1 2 3 4 5]\n"
     ]
    },
    {
     "ename": "UnboundLocalError",
     "evalue": "local variable 'a' referenced before assignment",
     "output_type": "error",
     "traceback": [
      "\u001b[1;31m---------------------------------------------------------------------------\u001b[0m",
      "\u001b[1;31mUnboundLocalError\u001b[0m                         Traceback (most recent call last)",
      "\u001b[1;32m~\\AppData\\Local\\Temp/ipykernel_15800/2511999797.py\u001b[0m in \u001b[0;36m<module>\u001b[1;34m\u001b[0m\n\u001b[0;32m      7\u001b[0m \u001b[1;33m\u001b[0m\u001b[0m\n\u001b[0;32m      8\u001b[0m \u001b[0mprint\u001b[0m\u001b[1;33m(\u001b[0m\u001b[0ma\u001b[0m\u001b[1;33m)\u001b[0m\u001b[1;33m\u001b[0m\u001b[1;33m\u001b[0m\u001b[0m\n\u001b[1;32m----> 9\u001b[1;33m \u001b[0mfunc\u001b[0m\u001b[1;33m(\u001b[0m\u001b[1;36m4\u001b[0m\u001b[1;33m)\u001b[0m\u001b[1;33m\u001b[0m\u001b[1;33m\u001b[0m\u001b[0m\n\u001b[0m\u001b[0;32m     10\u001b[0m \u001b[0mprint\u001b[0m\u001b[1;33m(\u001b[0m\u001b[0ma\u001b[0m\u001b[1;33m)\u001b[0m\u001b[1;33m\u001b[0m\u001b[1;33m\u001b[0m\u001b[0m\n",
      "\u001b[1;32m~\\AppData\\Local\\Temp/ipykernel_15800/2511999797.py\u001b[0m in \u001b[0;36mfunc\u001b[1;34m(factor)\u001b[0m\n\u001b[0;32m      4\u001b[0m \u001b[1;33m\u001b[0m\u001b[0m\n\u001b[0;32m      5\u001b[0m \u001b[1;32mdef\u001b[0m \u001b[0mfunc\u001b[0m\u001b[1;33m(\u001b[0m\u001b[0mfactor\u001b[0m\u001b[1;33m)\u001b[0m\u001b[1;33m:\u001b[0m\u001b[1;33m\u001b[0m\u001b[1;33m\u001b[0m\u001b[0m\n\u001b[1;32m----> 6\u001b[1;33m     \u001b[0ma\u001b[0m\u001b[1;33m=\u001b[0m\u001b[0ma\u001b[0m\u001b[1;33m*\u001b[0m\u001b[0mfactor\u001b[0m\u001b[1;33m\u001b[0m\u001b[1;33m\u001b[0m\u001b[0m\n\u001b[0m\u001b[0;32m      7\u001b[0m \u001b[1;33m\u001b[0m\u001b[0m\n\u001b[0;32m      8\u001b[0m \u001b[0mprint\u001b[0m\u001b[1;33m(\u001b[0m\u001b[0ma\u001b[0m\u001b[1;33m)\u001b[0m\u001b[1;33m\u001b[0m\u001b[1;33m\u001b[0m\u001b[0m\n",
      "\u001b[1;31mUnboundLocalError\u001b[0m: local variable 'a' referenced before assignment"
     ]
    }
   ],
   "source": [
    "import numpy as np\n",
    "\n",
    "a=np.array([1,2,3,4,5])\n",
    "\n",
    "def func(factor):\n",
    "    a=a*factor\n",
    "        \n",
    "print(a)\n",
    "func(4)\n",
    "print(a)"
   ]
  },
  {
   "cell_type": "markdown",
   "id": "d630dcab",
   "metadata": {
    "id": "d630dcab"
   },
   "source": [
    "Correct behaviour if the whole list is addressed and declared as *global*"
   ]
  },
  {
   "cell_type": "code",
   "execution_count": 33,
   "id": "fe29e8bd",
   "metadata": {
    "id": "fe29e8bd",
    "outputId": "923a7bed-4db8-4171-acea-322a042d0e61"
   },
   "outputs": [
    {
     "name": "stdout",
     "output_type": "stream",
     "text": [
      "[1 2 3 4 5]\n",
      "[ 4  8 12 16 20]\n"
     ]
    }
   ],
   "source": [
    "import numpy as np\n",
    "\n",
    "a=np.array([1,2,3,4,5])\n",
    "\n",
    "def func(factor):\n",
    "    global a\n",
    "    a=a*factor\n",
    "        \n",
    "print(a)\n",
    "func(4)\n",
    "print(a)"
   ]
  }
 ],
 "metadata": {
  "colab": {
   "name": "variable_scoping.ipynb",
   "provenance": []
  },
  "kernelspec": {
   "display_name": "Python 3 (ipykernel)",
   "language": "python",
   "name": "python3"
  },
  "language_info": {
   "codemirror_mode": {
    "name": "ipython",
    "version": 3
   },
   "file_extension": ".py",
   "mimetype": "text/x-python",
   "name": "python",
   "nbconvert_exporter": "python",
   "pygments_lexer": "ipython3",
   "version": "3.8.5"
  },
  "latex_envs": {
   "LaTeX_envs_menu_present": true,
   "autoclose": false,
   "autocomplete": true,
   "bibliofile": "biblio.bib",
   "cite_by": "apalike",
   "current_citInitial": 1,
   "eqLabelWithNumbers": true,
   "eqNumInitial": 1,
   "hotkeys": {
    "equation": "Ctrl-E",
    "itemize": "Ctrl-I"
   },
   "labels_anchors": false,
   "latex_user_defs": false,
   "report_style_numbering": false,
   "user_envs_cfg": false
  }
 },
 "nbformat": 4,
 "nbformat_minor": 5
}
