{
 "cells": [
  {
   "cell_type": "markdown",
   "id": "99b0529a-d140-401d-bb18-bb2376d5c6eb",
   "metadata": {},
   "source": [
    "### Write a class providing a method for the numerical determination of the minimum of a given function\n",
    "\n",
    "Suppose for instance to have the function defined below:"
   ]
  },
  {
   "cell_type": "code",
   "execution_count": 1,
   "id": "7c7af851-73d9-446e-a01a-e694c19facf9",
   "metadata": {},
   "outputs": [],
   "source": [
    "import numpy as np\n",
    "import matplotlib.pyplot as plt\n",
    "\n",
    "def polyfun(x):\n",
    "    coef=np.array([2.5, -10., 14., -7., 1.7])\n",
    "    \n",
    "    return np.polyval(coef, x)"
   ]
  },
  {
   "cell_type": "markdown",
   "id": "e294f473-3928-4492-8cae-78eab27403f8",
   "metadata": {},
   "source": [
    "It is a polynomial of the type\n",
    "\n",
    "$$y = c_4x^4 + c_3x^3 + c_2x^2 + c_1x^1 + c_0$$\n",
    "\n",
    "where the coefficients $(c_4, c_3, c_2, c_1, c_0)$ are stored in the array *coef*. The plot of the function in the range $[0., 1.5]$ is presented below:"
   ]
  },
  {
   "cell_type": "code",
   "execution_count": 2,
   "id": "109a6213-072c-4301-b1c4-d0c344280d29",
   "metadata": {},
   "outputs": [
    {
     "data": {
      "image/png": "[encoded data removed]",
      "text/plain": [
       "<Figure size 300x200 with 1 Axes>"
      ]
     },
     "metadata": {},
     "output_type": "display_data"
    }
   ],
   "source": [
    "x_list=np.linspace(0., 1.5, 100)\n",
    "y_list=polyfun(x_list)\n",
    "\n",
    "plt.figure(figsize=(3,2))\n",
    "plt.plot(x_list,y_list)\n",
    "plt.xlabel('x')\n",
    "plt.ylabel('y')\n",
    "plt.show()"
   ]
  },
  {
   "cell_type": "markdown",
   "id": "45b65cdd-bf81-4f9f-af55-49f787e94966",
   "metadata": {},
   "source": [
    "so, the minimum of $y$ in that range is not far from $x=0.5$.\n",
    "\n",
    "One simple strategy for finding the minimum employes the method *argmin* from the *numpy* library; precisely:\n",
    "\n",
    "- compute the list of *y* values for a list of *x* values around the *guessed* minimum (0.5);\n",
    "- find the position of the minimum value of *y* within the *y* list  (*pos=argmin(y)*)\n",
    "- find the *x* value, within the *x* list, corresponding to the minimum *y* (*x\\[pos\\]*)\n",
    "\n",
    "Write down your own code and compare it with the class defined in the module *exercise_4_complete.py*, whose usage is illustrated in the cell below:"
   ]
  },
  {
   "cell_type": "code",
   "execution_count": 3,
   "id": "e2baa1cd-fe59-45ca-8e8d-88be28830aa1",
   "metadata": {},
   "outputs": [
    {
     "name": "stdout",
     "output_type": "stream",
     "text": [
      "\n",
      "\n",
      "Iteration:   1; range: 2.0000e+00;  x_diff: 1.1111e-01; deriv: 3.4414e-01; x_min_approx: 3.88888889e-01\n",
      "Iteration:   2; range: 1.1852e-01;  x_diff: 1.4815e-01; deriv: 3.0196e-02; x_min_approx: 3.51851852e-01\n",
      "Iteration:   3; range: 3.1605e-02;  x_diff: 3.9506e-02; deriv: 6.5362e-02; x_min_approx: 3.91358025e-01\n",
      "Iteration:   4; range: 8.4280e-03;  x_diff: 3.5117e-03; deriv: 2.1362e-02; x_min_approx: 3.94869684e-01\n",
      "Iteration:   5; range: 2.2475e-03;  x_diff: 9.3644e-04; deriv: 9.2817e-03; x_min_approx: 3.95806127e-01\n",
      "Iteration:   6; range: 5.9932e-04;  x_diff: 2.4972e-04; deriv: 2.3135e-03; x_min_approx: 3.95556409e-01\n",
      "Iteration:   7; range: 1.5982e-04;  x_diff: 6.6591e-05; deriv: 4.5006e-04; x_min_approx: 3.95489818e-01\n",
      "Iteration:   8; range: 4.2619e-05;  x_diff: 1.7758e-05; deriv: 2.1802e-04; x_min_approx: 3.95507575e-01\n",
      "Iteration:   9; range: 1.1365e-05;  x_diff: 1.4206e-05; deriv: 1.4667e-05; x_min_approx: 3.95493369e-01\n",
      "Iteration:  10; range: 3.0307e-06;  x_diff: 3.7883e-06; deriv: 1.7025e-05; x_min_approx: 3.95497157e-01\n",
      "Iteration:  11; range: 8.0817e-07;  x_diff: 1.0102e-06; deriv: 2.5634e-06; x_min_approx: 3.95496147e-01\n",
      "Iteration:  12; range: 2.1551e-07;  x_diff: 8.9797e-08; deriv: 4.9455e-08; x_min_approx: 3.95496057e-01\n",
      "Iteration:  13; range: 5.7470e-08;  x_diff: 7.1838e-08; deriv: 9.2728e-08; x_min_approx: 3.95496129e-01\n",
      "Iteration:  14; range: 1.5325e-08;  x_diff: 6.3856e-09; deriv: 0.0000e+00; x_min_approx: 3.95496136e-01\n",
      "Iteration:  15; range: 4.0868e-09;  x_diff: 8.5141e-09; deriv: 1.0867e-07; x_min_approx: 3.95496144e-01\n",
      "Iteration:  16; range: 1.0898e-09;  x_diff: 3.1786e-09; deriv: 2.0375e-07; x_min_approx: 3.95496141e-01\n",
      "Iteration:  17; range: 2.9061e-10;  x_diff: 6.0545e-10; deriv: 7.6405e-07; x_min_approx: 3.95496140e-01\n",
      "\n",
      "Number of function calls: 1707\n",
      "\n",
      "Minimum found at  3.9549614e-01;  fun = 0.5639\n"
     ]
    }
   ],
   "source": [
    "from exercise_4_complete import Mini\n",
    "\n",
    "Mini.set_precision(1e-9)\n",
    "Mini.findmin(polyfun, 0.5)"
   ]
  }
 ],
 "metadata": {
  "kernelspec": {
   "display_name": "Python 3 (ipykernel)",
   "language": "python",
   "name": "python3"
  },
  "language_info": {
   "codemirror_mode": {
    "name": "ipython",
    "version": 3
   },
   "file_extension": ".py",
   "mimetype": "text/x-python",
   "name": "python",
   "nbconvert_exporter": "python",
   "pygments_lexer": "ipython3",
   "version": "3.12.7"
  }
 },
 "nbformat": 4,
 "nbformat_minor": 5
}
