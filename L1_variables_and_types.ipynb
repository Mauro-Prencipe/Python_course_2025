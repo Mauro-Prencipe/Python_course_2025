{
 "cells": [
  {
   "cell_type": "markdown",
   "id": "3daa23c1",
   "metadata": {},
   "source": [
    "# Python course 2025\n",
    "\n",
    "This first notebook illustrates some basic notions about variables and variable types, together with some basic manipolations and operations on them. The types of variables that are going to be considered are: \n",
    "\n",
    "- integer (native python)\n",
    "- float   (native python)\n",
    "- list    (native python)\n",
    "- tuple   (native python)\n",
    "- string  (native python)\n",
    "- array   (numpy)\n",
    "- boolean (native python)\n",
    "- dictionary (native python)\n",
    "- set (native python)\n",
    "\n",
    "## Variable types \n",
    "\n",
    "### *Native* Python\n",
    "\n",
    "- *Assignment* of a *value* to a *variable*. \n",
    "- The ' = ' symbol corresponds to the ***assignment instruction***. \n",
    "- The assigned value determines the *type* of the variable being assigned   "
   ]
  },
  {
   "cell_type": "code",
   "execution_count": 1,
   "id": "8f4e8322",
   "metadata": {},
   "outputs": [
    {
     "name": "stdout",
     "output_type": "stream",
     "text": [
      "Type of a: <class 'int'>\n",
      "Type of b: <class 'float'>\n"
     ]
    }
   ],
   "source": [
    "a=1\n",
    "print(\"Type of a:\",type(a))\n",
    "\n",
    "b=1.\n",
    "print(\"Type of b:\",type(b))"
   ]
  },
  {
   "cell_type": "markdown",
   "id": "9c61256e",
   "metadata": {},
   "source": [
    "In the example above, *a* is an *integer variable*, whereas *b* is a *floating point variable*. They correspond to two different types. \n",
    "\n",
    "- The command *type(variable)* provides the type of the *variable*\n",
    "- <class 'int'>, as the response from *type(a)*, indicates that *a*, whose type is *integer*, is an *instance* of the *class* *int*. Such class has quite a number or *methods* (functions operating on instances of the class) that can be shown by using the command *help* on the name of the instance:  "
   ]
  },
  {
   "cell_type": "code",
   "execution_count": 2,
   "id": "4b4f827d",
   "metadata": {},
   "outputs": [
    {
     "name": "stdout",
     "output_type": "stream",
     "text": [
      "Help on int object:\n",
      "\n",
      "class int(object)\n",
      " |  int([x]) -> integer\n",
      " |  int(x, base=10) -> integer\n",
      " |\n",
      " |  Convert a number or string to an integer, or return 0 if no arguments\n",
      " |  are given.  If x is a number, return x.__int__().  For floating point\n",
      " |  numbers, this truncates towards zero.\n",
      " |\n",
      " |  If x is not a number or if base is given, then x must be a string,\n",
      " |  bytes, or bytearray instance representing an integer literal in the\n",
      " |  given base.  The literal can be preceded by '+' or '-' and be surrounded\n",
      " |  by whitespace.  The base defaults to 10.  Valid bases are 0 and 2-36.\n",
      " |  Base 0 means to interpret the base from the string as an integer literal.\n",
      " |  >>> int('0b100', base=0)\n",
      " |  4\n",
      " |\n",
      " |  Built-in subclasses:\n",
      " |      bool\n",
      " |\n",
      " |  Methods defined here:\n",
      " |\n",
      " |  __abs__(self, /)\n",
      " |      abs(self)\n",
      " |\n",
      " |  __add__(self, value, /)\n",
      " |      Return self+value.\n",
      " |\n",
      " |  __and__(self, value, /)\n",
      " |      Return self&value.\n",
      " |\n",
      " |  __bool__(self, /)\n",
      " |      True if self else False\n",
      " |\n",
      " |  __ceil__(...)\n",
      " |      Ceiling of an Integral returns itself.\n",
      " |\n",
      " |  __divmod__(self, value, /)\n",
      " |      Return divmod(self, value).\n",
      " |\n",
      " |  __eq__(self, value, /)\n",
      " |      Return self==value.\n",
      " |\n",
      " |  __float__(self, /)\n",
      " |      float(self)\n",
      " |\n",
      " |  __floor__(...)\n",
      " |      Flooring an Integral returns itself.\n",
      " |\n",
      " |  __floordiv__(self, value, /)\n",
      " |      Return self//value.\n",
      " |\n",
      " |  __format__(self, format_spec, /)\n",
      " |      Convert to a string according to format_spec.\n",
      " |\n",
      " |  __ge__(self, value, /)\n",
      " |      Return self>=value.\n",
      " |\n",
      " |  __getattribute__(self, name, /)\n",
      " |      Return getattr(self, name).\n",
      " |\n",
      " |  __getnewargs__(self, /)\n",
      " |\n",
      " |  __gt__(self, value, /)\n",
      " |      Return self>value.\n",
      " |\n",
      " |  __hash__(self, /)\n",
      " |      Return hash(self).\n",
      " |\n",
      " |  __index__(self, /)\n",
      " |      Return self converted to an integer, if self is suitable for use as an index into a list.\n",
      " |\n",
      " |  __int__(self, /)\n",
      " |      int(self)\n",
      " |\n",
      " |  __invert__(self, /)\n",
      " |      ~self\n",
      " |\n",
      " |  __le__(self, value, /)\n",
      " |      Return self<=value.\n",
      " |\n",
      " |  __lshift__(self, value, /)\n",
      " |      Return self<<value.\n",
      " |\n",
      " |  __lt__(self, value, /)\n",
      " |      Return self<value.\n",
      " |\n",
      " |  __mod__(self, value, /)\n",
      " |      Return self%value.\n",
      " |\n",
      " |  __mul__(self, value, /)\n",
      " |      Return self*value.\n",
      " |\n",
      " |  __ne__(self, value, /)\n",
      " |      Return self!=value.\n",
      " |\n",
      " |  __neg__(self, /)\n",
      " |      -self\n",
      " |\n",
      " |  __or__(self, value, /)\n",
      " |      Return self|value.\n",
      " |\n",
      " |  __pos__(self, /)\n",
      " |      +self\n",
      " |\n",
      " |  __pow__(self, value, mod=None, /)\n",
      " |      Return pow(self, value, mod).\n",
      " |\n",
      " |  __radd__(self, value, /)\n",
      " |      Return value+self.\n",
      " |\n",
      " |  __rand__(self, value, /)\n",
      " |      Return value&self.\n",
      " |\n",
      " |  __rdivmod__(self, value, /)\n",
      " |      Return divmod(value, self).\n",
      " |\n",
      " |  __repr__(self, /)\n",
      " |      Return repr(self).\n",
      " |\n",
      " |  __rfloordiv__(self, value, /)\n",
      " |      Return value//self.\n",
      " |\n",
      " |  __rlshift__(self, value, /)\n",
      " |      Return value<<self.\n",
      " |\n",
      " |  __rmod__(self, value, /)\n",
      " |      Return value%self.\n",
      " |\n",
      " |  __rmul__(self, value, /)\n",
      " |      Return value*self.\n",
      " |\n",
      " |  __ror__(self, value, /)\n",
      " |      Return value|self.\n",
      " |\n",
      " |  __round__(...)\n",
      " |      Rounding an Integral returns itself.\n",
      " |\n",
      " |      Rounding with an ndigits argument also returns an integer.\n",
      " |\n",
      " |  __rpow__(self, value, mod=None, /)\n",
      " |      Return pow(value, self, mod).\n",
      " |\n",
      " |  __rrshift__(self, value, /)\n",
      " |      Return value>>self.\n",
      " |\n",
      " |  __rshift__(self, value, /)\n",
      " |      Return self>>value.\n",
      " |\n",
      " |  __rsub__(self, value, /)\n",
      " |      Return value-self.\n",
      " |\n",
      " |  __rtruediv__(self, value, /)\n",
      " |      Return value/self.\n",
      " |\n",
      " |  __rxor__(self, value, /)\n",
      " |      Return value^self.\n",
      " |\n",
      " |  __sizeof__(self, /)\n",
      " |      Returns size in memory, in bytes.\n",
      " |\n",
      " |  __sub__(self, value, /)\n",
      " |      Return self-value.\n",
      " |\n",
      " |  __truediv__(self, value, /)\n",
      " |      Return self/value.\n",
      " |\n",
      " |  __trunc__(...)\n",
      " |      Truncating an Integral returns itself.\n",
      " |\n",
      " |  __xor__(self, value, /)\n",
      " |      Return self^value.\n",
      " |\n",
      " |  as_integer_ratio(self, /)\n",
      " |      Return a pair of integers, whose ratio is equal to the original int.\n",
      " |\n",
      " |      The ratio is in lowest terms and has a positive denominator.\n",
      " |\n",
      " |      >>> (10).as_integer_ratio()\n",
      " |      (10, 1)\n",
      " |      >>> (-10).as_integer_ratio()\n",
      " |      (-10, 1)\n",
      " |      >>> (0).as_integer_ratio()\n",
      " |      (0, 1)\n",
      " |\n",
      " |  bit_count(self, /)\n",
      " |      Number of ones in the binary representation of the absolute value of self.\n",
      " |\n",
      " |      Also known as the population count.\n",
      " |\n",
      " |      >>> bin(13)\n",
      " |      '0b1101'\n",
      " |      >>> (13).bit_count()\n",
      " |      3\n",
      " |\n",
      " |  bit_length(self, /)\n",
      " |      Number of bits necessary to represent self in binary.\n",
      " |\n",
      " |      >>> bin(37)\n",
      " |      '0b100101'\n",
      " |      >>> (37).bit_length()\n",
      " |      6\n",
      " |\n",
      " |  conjugate(...)\n",
      " |      Returns self, the complex conjugate of any int.\n",
      " |\n",
      " |  is_integer(self, /)\n",
      " |      Returns True. Exists for duck type compatibility with float.is_integer.\n",
      " |\n",
      " |  to_bytes(self, /, length=1, byteorder='big', *, signed=False)\n",
      " |      Return an array of bytes representing an integer.\n",
      " |\n",
      " |      length\n",
      " |        Length of bytes object to use.  An OverflowError is raised if the\n",
      " |        integer is not representable with the given number of bytes.  Default\n",
      " |        is length 1.\n",
      " |      byteorder\n",
      " |        The byte order used to represent the integer.  If byteorder is 'big',\n",
      " |        the most significant byte is at the beginning of the byte array.  If\n",
      " |        byteorder is 'little', the most significant byte is at the end of the\n",
      " |        byte array.  To request the native byte order of the host system, use\n",
      " |        `sys.byteorder' as the byte order value.  Default is to use 'big'.\n",
      " |      signed\n",
      " |        Determines whether two's complement is used to represent the integer.\n",
      " |        If signed is False and a negative integer is given, an OverflowError\n",
      " |        is raised.\n",
      " |\n",
      " |  ----------------------------------------------------------------------\n",
      " |  Class methods defined here:\n",
      " |\n",
      " |  from_bytes(bytes, byteorder='big', *, signed=False)\n",
      " |      Return the integer represented by the given array of bytes.\n",
      " |\n",
      " |      bytes\n",
      " |        Holds the array of bytes to convert.  The argument must either\n",
      " |        support the buffer protocol or be an iterable object producing bytes.\n",
      " |        Bytes and bytearray are examples of built-in objects that support the\n",
      " |        buffer protocol.\n",
      " |      byteorder\n",
      " |        The byte order used to represent the integer.  If byteorder is 'big',\n",
      " |        the most significant byte is at the beginning of the byte array.  If\n",
      " |        byteorder is 'little', the most significant byte is at the end of the\n",
      " |        byte array.  To request the native byte order of the host system, use\n",
      " |        `sys.byteorder' as the byte order value.  Default is to use 'big'.\n",
      " |      signed\n",
      " |        Indicates whether two's complement is used to represent the integer.\n",
      " |\n",
      " |  ----------------------------------------------------------------------\n",
      " |  Static methods defined here:\n",
      " |\n",
      " |  __new__(*args, **kwargs)\n",
      " |      Create and return a new object.  See help(type) for accurate signature.\n",
      " |\n",
      " |  ----------------------------------------------------------------------\n",
      " |  Data descriptors defined here:\n",
      " |\n",
      " |  denominator\n",
      " |      the denominator of a rational number in lowest terms\n",
      " |\n",
      " |  imag\n",
      " |      the imaginary part of a complex number\n",
      " |\n",
      " |  numerator\n",
      " |      the numerator of a rational number in lowest terms\n",
      " |\n",
      " |  real\n",
      " |      the real part of a complex number\n",
      "\n"
     ]
    }
   ],
   "source": [
    "help(a)"
   ]
  },
  {
   "cell_type": "markdown",
   "id": "dd26a8d8",
   "metadata": {},
   "source": [
    "Many of the methods of the class are so called *dunder* methods (*dunder* stands for *double underscore* \\_\\_). They are *special* methods for performing the usual and most common operations on integer numbers. For instance, consider the simple addition operation of two integer numbers, one of which is stored in the variable *a* defined above, the other one being the number 2: "
   ]
  },
  {
   "cell_type": "code",
   "execution_count": 3,
   "id": "82bf9a78",
   "metadata": {},
   "outputs": [
    {
     "data": {
      "text/plain": [
       "3"
      ]
     },
     "execution_count": 3,
     "metadata": {},
     "output_type": "execute_result"
    }
   ],
   "source": [
    "a+2"
   ]
  },
  {
   "cell_type": "markdown",
   "id": "a342932f",
   "metadata": {},
   "source": [
    "Under the hood, this operation is performed by invoking the dunder method *add* that takes the value of the instance *a* and sums the value 2 to it. The symbol '+' is associated with the *add method* implemented in the class and, indeed, the operation could be done by explicitly using such dunder method:"
   ]
  },
  {
   "cell_type": "code",
   "execution_count": 4,
   "id": "42c864a5",
   "metadata": {},
   "outputs": [
    {
     "data": {
      "text/plain": [
       "3"
      ]
     },
     "execution_count": 4,
     "metadata": {},
     "output_type": "execute_result"
    }
   ],
   "source": [
    "a.__add__(2)"
   ]
  },
  {
   "cell_type": "markdown",
   "id": "5279001c",
   "metadata": {},
   "source": [
    "Likewise, the *quotient* operation a/b is performed by the *truediv* dunder method; for instance, a/2 is equivalent to a.\\_\\_truediv_\\_(2):"
   ]
  },
  {
   "cell_type": "code",
   "execution_count": 5,
   "id": "00c5293f",
   "metadata": {},
   "outputs": [
    {
     "data": {
      "text/plain": [
       "0.5"
      ]
     },
     "execution_count": 5,
     "metadata": {},
     "output_type": "execute_result"
    }
   ],
   "source": [
    "a.__truediv__(2)"
   ]
  },
  {
   "cell_type": "markdown",
   "id": "9b22aceb",
   "metadata": {},
   "source": [
    "#### Type conversions\n",
    "\n",
    "*a* is assigned as *integer* value; the *float* function converts it into a *floating point number*:"
   ]
  },
  {
   "cell_type": "code",
   "execution_count": 6,
   "id": "6953af78",
   "metadata": {},
   "outputs": [
    {
     "name": "stdout",
     "output_type": "stream",
     "text": [
      "5   type of a: <class 'int'>\n",
      "5.0   type of c: <class 'float'>\n"
     ]
    }
   ],
   "source": [
    "a=5\n",
    "c=float(a)\n",
    "print(a,\"  type of a:\", type(a))\n",
    "print(c,\"  type of c:\", type(c))"
   ]
  },
  {
   "cell_type": "markdown",
   "id": "f99a2a8a",
   "metadata": {},
   "source": [
    "#### Lists\n",
    "\n",
    "List of integers"
   ]
  },
  {
   "cell_type": "code",
   "execution_count": 7,
   "id": "7814203c",
   "metadata": {},
   "outputs": [
    {
     "name": "stdout",
     "output_type": "stream",
     "text": [
      "Type of d: <class 'list'>\n",
      "d[2] =  3 ; type of an element of d: <class 'int'>\n"
     ]
    }
   ],
   "source": [
    "# Define a list (of integers) by using \n",
    "# square brackets\n",
    "\n",
    "d=[1,2,3,4]\n",
    "\n",
    "print(\"Type of d:\",type(d))\n",
    "print(\"d[2] = \",d[2],\"; type of an element of d:\", type(d[2]))"
   ]
  },
  {
   "cell_type": "code",
   "execution_count": 8,
   "id": "cea02185",
   "metadata": {},
   "outputs": [
    {
     "data": {
      "text/plain": [
       "['__add__',\n",
       " '__class__',\n",
       " '__class_getitem__',\n",
       " '__contains__',\n",
       " '__delattr__',\n",
       " '__delitem__',\n",
       " '__dir__',\n",
       " '__doc__',\n",
       " '__eq__',\n",
       " '__format__',\n",
       " '__ge__',\n",
       " '__getattribute__',\n",
       " '__getitem__',\n",
       " '__getstate__',\n",
       " '__gt__',\n",
       " '__hash__',\n",
       " '__iadd__',\n",
       " '__imul__',\n",
       " '__init__',\n",
       " '__init_subclass__',\n",
       " '__iter__',\n",
       " '__le__',\n",
       " '__len__',\n",
       " '__lt__',\n",
       " '__mul__',\n",
       " '__ne__',\n",
       " '__new__',\n",
       " '__reduce__',\n",
       " '__reduce_ex__',\n",
       " '__repr__',\n",
       " '__reversed__',\n",
       " '__rmul__',\n",
       " '__setattr__',\n",
       " '__setitem__',\n",
       " '__sizeof__',\n",
       " '__str__',\n",
       " '__subclasshook__',\n",
       " 'append',\n",
       " 'clear',\n",
       " 'copy',\n",
       " 'count',\n",
       " 'extend',\n",
       " 'index',\n",
       " 'insert',\n",
       " 'pop',\n",
       " 'remove',\n",
       " 'reverse',\n",
       " 'sort']"
      ]
     },
     "execution_count": 8,
     "metadata": {},
     "output_type": "execute_result"
    }
   ],
   "source": [
    "dir(d)  # dir makes a list of all the methods available for the class: in this case, the class 'list' to which the variable 'd' belongs"
   ]
  },
  {
   "cell_type": "markdown",
   "id": "93347eb3",
   "metadata": {},
   "source": [
    "An example of *method* (not a *dunder method*) of the *list class*: "
   ]
  },
  {
   "cell_type": "code",
   "execution_count": 9,
   "id": "49420118",
   "metadata": {},
   "outputs": [
    {
     "data": {
      "text/plain": [
       "3"
      ]
     },
     "execution_count": 9,
     "metadata": {},
     "output_type": "execute_result"
    }
   ],
   "source": [
    "d=[1,2,2,3,4,5,4,6,4]\n",
    "d.count(4)"
   ]
  },
  {
   "cell_type": "markdown",
   "id": "1185c068",
   "metadata": {},
   "source": [
    "*d.count(4)* counts the number of occurrences of the number 4 within the list *d*. \n",
    "\n",
    "Note the syntax of the expression: \n",
    "- *count* is a method of the *list* class and, as such, it can operate on all of the instances of the class itself;\n",
    "- *d* is an instance of such class (also said *object* of the class);\n",
    "- to apply a method of the class to an object belonging to the same class, use the syntax  ***object.method(args)***,  where *args* is whatever argument the method can accept. \n",
    "\n",
    "\n",
    "The elements of a list can be of different types:"
   ]
  },
  {
   "cell_type": "code",
   "execution_count": 10,
   "id": "0747c71d",
   "metadata": {},
   "outputs": [
    {
     "name": "stdout",
     "output_type": "stream",
     "text": [
      "Type of e: <class 'list'>\n",
      "1     - type of the element 0  of e: <class 'int'>\n",
      "1     - type of the element 1  of e: <class 'str'>\n",
      "1.0     - type of the element 2  of e: <class 'float'>\n"
     ]
    }
   ],
   "source": [
    "e=[1, \"1\", 1.]\n",
    "print(\"Type of e:\",type(e))\n",
    "\n",
    "for ip in [0, 1, 2]:\n",
    "    print(e[ip],\"    - type of the element\", ip, \" of e:\", type(e[ip]))"
   ]
  },
  {
   "cell_type": "markdown",
   "id": "57c87128",
   "metadata": {},
   "source": [
    "Elements of lists can be *reassigned*"
   ]
  },
  {
   "cell_type": "code",
   "execution_count": 11,
   "id": "42304e19",
   "metadata": {},
   "outputs": [
    {
     "name": "stdout",
     "output_type": "stream",
     "text": [
      "[1, 2, 1.0]\n"
     ]
    }
   ],
   "source": [
    "e[1]=2\n",
    "print(e)"
   ]
  },
  {
   "cell_type": "markdown",
   "id": "101168f8",
   "metadata": {},
   "source": [
    "Note that the *index* of an *iterable* must be an integer number... otherwise you get an error:"
   ]
  },
  {
   "cell_type": "code",
   "execution_count": 12,
   "id": "a6d3dc6e",
   "metadata": {},
   "outputs": [
    {
     "ename": "TypeError",
     "evalue": "list indices must be integers or slices, not float",
     "output_type": "error",
     "traceback": [
      "\u001b[1;31m---------------------------------------------------------------------------\u001b[0m",
      "\u001b[1;31mTypeError\u001b[0m                                 Traceback (most recent call last)",
      "Cell \u001b[1;32mIn[12], line 4\u001b[0m\n\u001b[0;32m      1\u001b[0m a\u001b[38;5;241m=\u001b[39m[\u001b[38;5;241m0\u001b[39m,\u001b[38;5;241m1\u001b[39m,\u001b[38;5;241m2\u001b[39m,\u001b[38;5;241m3\u001b[39m]\n\u001b[0;32m      2\u001b[0m ip\u001b[38;5;241m=\u001b[39m\u001b[38;5;241m1.\u001b[39m\n\u001b[1;32m----> 4\u001b[0m a[ip]\n",
      "\u001b[1;31mTypeError\u001b[0m: list indices must be integers or slices, not float"
     ]
    }
   ],
   "source": [
    "a=[0,1,2,3]\n",
    "ip=1.\n",
    "\n",
    "a[ip]"
   ]
  },
  {
   "cell_type": "markdown",
   "id": "a04591fe",
   "metadata": {},
   "source": [
    "#### Tuples"
   ]
  },
  {
   "cell_type": "code",
   "execution_count": 13,
   "id": "960a7d4e",
   "metadata": {},
   "outputs": [
    {
     "name": "stdout",
     "output_type": "stream",
     "text": [
      "(1, 2, 3) <class 'tuple'>\n"
     ]
    }
   ],
   "source": [
    "f=(1,2,3)\n",
    "print(f, type(f))"
   ]
  },
  {
   "cell_type": "markdown",
   "id": "15ead8c8",
   "metadata": {},
   "source": [
    "Elements of tuples *cannot be reassigned*... any attempt to reassign an element of a tuple results in an error:"
   ]
  },
  {
   "cell_type": "code",
   "execution_count": 14,
   "id": "3998423b",
   "metadata": {},
   "outputs": [
    {
     "ename": "TypeError",
     "evalue": "'tuple' object does not support item assignment",
     "output_type": "error",
     "traceback": [
      "\u001b[1;31m---------------------------------------------------------------------------\u001b[0m",
      "\u001b[1;31mTypeError\u001b[0m                                 Traceback (most recent call last)",
      "Cell \u001b[1;32mIn[14], line 1\u001b[0m\n\u001b[1;32m----> 1\u001b[0m f[\u001b[38;5;241m2\u001b[39m]\u001b[38;5;241m=\u001b[39m\u001b[38;5;241m4\u001b[39m\n",
      "\u001b[1;31mTypeError\u001b[0m: 'tuple' object does not support item assignment"
     ]
    }
   ],
   "source": [
    "f[2]=4"
   ]
  },
  {
   "cell_type": "markdown",
   "id": "c012133d",
   "metadata": {},
   "source": [
    "#### Size of lists (and tuples)"
   ]
  },
  {
   "cell_type": "code",
   "execution_count": 16,
   "id": "ff847a8f",
   "metadata": {},
   "outputs": [
    {
     "data": {
      "text/plain": [
       "9"
      ]
     },
     "execution_count": 16,
     "metadata": {},
     "output_type": "execute_result"
    }
   ],
   "source": [
    "len(d)"
   ]
  },
  {
   "cell_type": "markdown",
   "id": "ab7ebf1a-e951-40a8-9186-54ae0eafe382",
   "metadata": {},
   "source": [
    "Note that *len* is not a method of the class list; rather, it is a *built-in* function of the *Python kernel*. However a *dunder* method \\_\\_len\\_\\_ is defined in the list class, that also returns the length of a list object: "
   ]
  },
  {
   "cell_type": "code",
   "execution_count": 17,
   "id": "30ba43e8-7cfb-41dc-ac04-aedc73807286",
   "metadata": {},
   "outputs": [
    {
     "data": {
      "text/plain": [
       "9"
      ]
     },
     "execution_count": 17,
     "metadata": {},
     "output_type": "execute_result"
    }
   ],
   "source": [
    "d.__len__()"
   ]
  },
  {
   "cell_type": "markdown",
   "id": "d5f06a25-a399-439a-a9b2-52d3c3354e9a",
   "metadata": {},
   "source": [
    "List of lists:"
   ]
  },
  {
   "cell_type": "code",
   "execution_count": 18,
   "id": "a6d59180",
   "metadata": {},
   "outputs": [],
   "source": [
    "g=[[1,2,3,4],[5,6,7,8]]"
   ]
  },
  {
   "cell_type": "code",
   "execution_count": 19,
   "id": "e85ab7a8",
   "metadata": {},
   "outputs": [
    {
     "data": {
      "text/plain": [
       "[[1, 2, 3, 4], [5, 6, 7, 8]]"
      ]
     },
     "execution_count": 19,
     "metadata": {},
     "output_type": "execute_result"
    }
   ],
   "source": [
    "g"
   ]
  },
  {
   "cell_type": "code",
   "execution_count": 20,
   "id": "c65d1726",
   "metadata": {},
   "outputs": [
    {
     "name": "stdout",
     "output_type": "stream",
     "text": [
      "[1, 2, 3, 4]\n",
      "[5, 6, 7, 8]\n"
     ]
    }
   ],
   "source": [
    "print(g[0])\n",
    "print(g[1])"
   ]
  },
  {
   "cell_type": "code",
   "execution_count": 21,
   "id": "343bb103",
   "metadata": {},
   "outputs": [
    {
     "name": "stdout",
     "output_type": "stream",
     "text": [
      "2\n",
      "4\n"
     ]
    }
   ],
   "source": [
    "print(len(g))\n",
    "print(len(g[0]))"
   ]
  },
  {
   "cell_type": "markdown",
   "id": "539cc8d4",
   "metadata": {},
   "source": [
    "#### Strings"
   ]
  },
  {
   "cell_type": "code",
   "execution_count": 22,
   "id": "82e5035c",
   "metadata": {},
   "outputs": [
    {
     "name": "stdout",
     "output_type": "stream",
     "text": [
      "this is a string\n"
     ]
    }
   ],
   "source": [
    "h='this is a string'\n",
    "print(h)"
   ]
  },
  {
   "cell_type": "code",
   "execution_count": 23,
   "id": "63bdad83",
   "metadata": {},
   "outputs": [
    {
     "name": "stdout",
     "output_type": "stream",
     "text": [
      "Size of the string:  16\n",
      "Type of ll:    <class 'range'> \n",
      "\n",
      "\n",
      "0 t\n",
      "1 h\n",
      "2 i\n",
      "3 s\n",
      "4  \n",
      "5 i\n",
      "6 s\n",
      "7  \n",
      "8 a\n",
      "9  \n",
      "10 s\n",
      "11 t\n",
      "12 r\n",
      "13 i\n",
      "14 n\n",
      "15 g\n",
      "\n",
      "this is a string"
     ]
    }
   ],
   "source": [
    "size=len(h)\n",
    "ll=range(size)\n",
    "\n",
    "print(\"Size of the string: \", size)\n",
    "print(\"Type of ll:   \",type(ll),\"\\n\\n\")\n",
    "\n",
    "for ip in ll:\n",
    "    print(ip, h[ip])\n",
    "\n",
    "print(\"\")\n",
    "for ip in ll:\n",
    "    print(h[ip], end='')"
   ]
  },
  {
   "cell_type": "markdown",
   "id": "4907b5db",
   "metadata": {},
   "source": [
    "#### Concatenation of lists (operator +)"
   ]
  },
  {
   "cell_type": "code",
   "execution_count": 24,
   "id": "62a80f5a",
   "metadata": {},
   "outputs": [
    {
     "name": "stdout",
     "output_type": "stream",
     "text": [
      "Statement_1 and statement_2\n"
     ]
    }
   ],
   "source": [
    "a=\"Statement_1\"\n",
    "b=\"statement_2\"\n",
    "\n",
    "c=a+\" and \"+b\n",
    "print(c)"
   ]
  },
  {
   "cell_type": "markdown",
   "id": "b333e281",
   "metadata": {},
   "source": [
    "Note that the implementation of the '+' symbol of the class *string* (concatenates *strings*) is different from the implementation given for the *int* (or *float*) class.   \n",
    "\n",
    "The use of different implementations for the same symbol (indeed, *method* assigned to the symbol) is named *polymorphism*.\n",
    "\n",
    "Here is the *concatenation* for numerical lists:"
   ]
  },
  {
   "cell_type": "code",
   "execution_count": 25,
   "id": "e477a930",
   "metadata": {},
   "outputs": [
    {
     "name": "stdout",
     "output_type": "stream",
     "text": [
      "[1, 2, 3, 4, 5]\n"
     ]
    }
   ],
   "source": [
    "a=[1,2,3]\n",
    "b=[4,5]\n",
    "\n",
    "c=a+b\n",
    "print(c)"
   ]
  },
  {
   "cell_type": "code",
   "execution_count": 26,
   "id": "6c363079",
   "metadata": {},
   "outputs": [
    {
     "name": "stdout",
     "output_type": "stream",
     "text": [
      "[[1, 2, 3], [4, 5]]\n"
     ]
    }
   ],
   "source": [
    "c=[a]+[b]\n",
    "print(c)"
   ]
  },
  {
   "cell_type": "markdown",
   "id": "a3afb5e0",
   "metadata": {},
   "source": [
    "##### But..."
   ]
  },
  {
   "cell_type": "code",
   "execution_count": 27,
   "id": "b0780800",
   "metadata": {},
   "outputs": [
    {
     "name": "stdout",
     "output_type": "stream",
     "text": [
      "3\n"
     ]
    }
   ],
   "source": [
    "a=1\n",
    "b=2\n",
    "\n",
    "c=a+b\n",
    "print(c)"
   ]
  },
  {
   "cell_type": "markdown",
   "id": "4a557c4c-aecc-46cb-916d-1c25d7d335b6",
   "metadata": {},
   "source": [
    "where we assigned two integer variables (*a* and *b*) and summed them; in the following cell we convert those two variables in *strings*, by using the *str* function, and then we *sum* them by using the same symbol '+': "
   ]
  },
  {
   "cell_type": "code",
   "execution_count": 28,
   "id": "695161d6",
   "metadata": {},
   "outputs": [
    {
     "name": "stdout",
     "output_type": "stream",
     "text": [
      "12\n"
     ]
    }
   ],
   "source": [
    "a=str(a)\n",
    "b=str(b)\n",
    "\n",
    "c=a+b\n",
    "print(c)"
   ]
  },
  {
   "cell_type": "markdown",
   "id": "89ac4739-3dd3-4e68-9bca-1a708eaf3dd5",
   "metadata": {},
   "source": [
    "*tuples* and *list* can be *concatenated* by using the symbol '+', too: "
   ]
  },
  {
   "cell_type": "code",
   "execution_count": 29,
   "id": "2590a412",
   "metadata": {},
   "outputs": [
    {
     "name": "stdout",
     "output_type": "stream",
     "text": [
      "(1, 2, 3, 4)  - type d:  <class 'tuple'>\n",
      "(1, 2, 3, 4)  - type e:  <class 'tuple'>\n",
      "[1, 2, 3, 4]  - type f:  <class 'list'>\n"
     ]
    }
   ],
   "source": [
    "d=tuple([1,2]+[3,4])\n",
    "e=tuple([1,2]) + tuple([3,4])\n",
    "f=[1,2]+[3,4]\n",
    "\n",
    "print(d, \" - type d: \", type(d))\n",
    "print(e, \" - type e: \", type(e))\n",
    "print(f, \" - type f: \", type(f))"
   ]
  },
  {
   "cell_type": "markdown",
   "id": "b7337253-c06c-412e-b0a5-8e8bcdee2f1e",
   "metadata": {},
   "source": [
    "Note the difference between *d* and *e*: the results are the same, but in *d* we concatenated two lists and *converted* the final list in a *tuple*; in *e* we concatenated two tuples. "
   ]
  },
  {
   "cell_type": "markdown",
   "id": "86c9ed34",
   "metadata": {},
   "source": [
    "#### How to sum lists *element-wise* (*pure* Python)\n",
    "\n",
    "In many cases you want to *sum* the elements of two lists *element-wise* (you don't want to *concatenate* the two lists).\n",
    "\n",
    "You have a list $[a_1,\\ldots,a_n]$ and a list $[b_1,\\ldots,b_n]$, and you want the new list $[a_1+b_1,\\ldots,a_n+b_n]$. In this case you have to write a few lines of code:"
   ]
  },
  {
   "cell_type": "code",
   "execution_count": 30,
   "id": "aed55ef5",
   "metadata": {},
   "outputs": [
    {
     "name": "stdout",
     "output_type": "stream",
     "text": [
      "[7, 9, 11, 13, 15]\n"
     ]
    }
   ],
   "source": [
    "a=[1,2,3,4,5]     # list a\n",
    "b=[6,7,8,9,10]    # list b\n",
    "\n",
    "c=[]              # prepare the empty list c\n",
    "                  # that will contain the element-wise\n",
    "                  # summation of a and b\n",
    "\n",
    "la=len(a)         # length of list a\n",
    "                  # b must have the same length of a\n",
    "\n",
    "for ip in range(la):   # loop on the elements of the two lists\n",
    "    isum=a[ip]+b[ip]   # sum of the variables a[ip] + b[ip]\n",
    "    c.append(isum)     # the sum is appended to the list c\n",
    "    \n",
    "print(c)"
   ]
  },
  {
   "cell_type": "markdown",
   "id": "c299f6ea-ae5f-4904-9c5e-e88cc26a2152",
   "metadata": {},
   "source": [
    "In the code above, note the use of the *range* function to define a list of integers: if *la* is the length of the list *a*, *range(la)* will set up an *object* for the generation of the list $[0,1,\\ldots,la-1]$"
   ]
  },
  {
   "cell_type": "code",
   "execution_count": 31,
   "id": "d2ca9b29-c735-4579-8901-25323c4021da",
   "metadata": {},
   "outputs": [
    {
     "name": "stdout",
     "output_type": "stream",
     "text": [
      "range(0, 5) <class 'range'>\n",
      "[0, 1, 2, 3, 4]\n"
     ]
    }
   ],
   "source": [
    "la=5\n",
    "rla=range(la)\n",
    "list_la=list(rla)\n",
    "\n",
    "print(rla, type(rla))\n",
    "print(list_la)"
   ]
  },
  {
   "cell_type": "markdown",
   "id": "d4c100ea-4165-4e32-8280-58b683e6c627",
   "metadata": {},
   "source": [
    "You see that *range(la)* is a new type of object: an object of type *range*. It is used to *generate* lists of integers."
   ]
  },
  {
   "cell_type": "markdown",
   "id": "f84dcc35",
   "metadata": {},
   "source": [
    "Another method to sum lists element-wise, which is useful even in the case that the two lists have not the same length, makes use of the *zip* function:"
   ]
  },
  {
   "cell_type": "code",
   "execution_count": 32,
   "id": "3af78db5",
   "metadata": {},
   "outputs": [
    {
     "name": "stdout",
     "output_type": "stream",
     "text": [
      "[7, 9, 11, 13, 15]\n"
     ]
    }
   ],
   "source": [
    "# Lists of same length\n",
    "\n",
    "a=[1,2,3,4,5]\n",
    "b=[6,7,8,9,10]\n",
    "c=[]\n",
    "\n",
    "for ia, ib in zip(a, b):\n",
    "    isum=ia+ib\n",
    "    c.append(isum)\n",
    "    \n",
    "print(c)"
   ]
  },
  {
   "cell_type": "markdown",
   "id": "30b9211c",
   "metadata": {},
   "source": [
    "What if *a* and *b* are lists of different length?"
   ]
  },
  {
   "cell_type": "code",
   "execution_count": 33,
   "id": "0a4c4f6a",
   "metadata": {},
   "outputs": [
    {
     "name": "stdout",
     "output_type": "stream",
     "text": [
      "[7, 9, 11, 13]\n"
     ]
    }
   ],
   "source": [
    "a=[1,2,3,4,5]\n",
    "b=[6,7,8,9]\n",
    "c=[]\n",
    "\n",
    "for ia, ib in zip(a, b):\n",
    "    isum=ia+ib\n",
    "    c.append(isum)\n",
    "    \n",
    "print(c)"
   ]
  },
  {
   "cell_type": "markdown",
   "id": "afe247b9",
   "metadata": {},
   "source": [
    "Note that an error occurs if you try to sum lists of different length by using the first method shown above:"
   ]
  },
  {
   "cell_type": "code",
   "execution_count": 34,
   "id": "f88a6a04",
   "metadata": {},
   "outputs": [
    {
     "ename": "IndexError",
     "evalue": "list index out of range",
     "output_type": "error",
     "traceback": [
      "\u001b[1;31m---------------------------------------------------------------------------\u001b[0m",
      "\u001b[1;31mIndexError\u001b[0m                                Traceback (most recent call last)",
      "Cell \u001b[1;32mIn[34], line 8\u001b[0m\n\u001b[0;32m      5\u001b[0m la\u001b[38;5;241m=\u001b[39m\u001b[38;5;28mlen\u001b[39m(a)\n\u001b[0;32m      7\u001b[0m \u001b[38;5;28;01mfor\u001b[39;00m ip \u001b[38;5;129;01min\u001b[39;00m \u001b[38;5;28mrange\u001b[39m(la):\n\u001b[1;32m----> 8\u001b[0m     isum\u001b[38;5;241m=\u001b[39ma[ip]\u001b[38;5;241m+\u001b[39mb[ip]\n\u001b[0;32m      9\u001b[0m     c\u001b[38;5;241m.\u001b[39mappend(isum)\n\u001b[0;32m     11\u001b[0m \u001b[38;5;28mprint\u001b[39m(c)\n",
      "\u001b[1;31mIndexError\u001b[0m: list index out of range"
     ]
    }
   ],
   "source": [
    "a=[1,2,3,4,5]\n",
    "b=[6,7,8,9]\n",
    "c=[]\n",
    "\n",
    "la=len(a)\n",
    "\n",
    "for ip in range(la):\n",
    "    isum=a[ip]+b[ip]\n",
    "    c.append(isum)\n",
    "    \n",
    "print(c)"
   ]
  },
  {
   "cell_type": "markdown",
   "id": "a7f7b104-7aae-493f-8daa-dabf9a9da466",
   "metadata": {},
   "source": [
    "The *zip* function sets up for the construction of a list obtained by *pair-wise* coupling the elements of the lists given as arguments to the function itself. Such coupling proceeds up to the end of the shortest list. \n",
    "\n",
    "The result of *zip* is an object of the class *zip*.   "
   ]
  },
  {
   "cell_type": "code",
   "execution_count": 35,
   "id": "3334c384-89ee-4bd9-aee3-eb9e8006873d",
   "metadata": {},
   "outputs": [
    {
     "name": "stdout",
     "output_type": "stream",
     "text": [
      "<class 'zip'>\n",
      "[(1, 10), (2, 11), (3, 12)]\n"
     ]
    }
   ],
   "source": [
    "a=[1,2,3]\n",
    "b=[10,11,12,14]\n",
    "\n",
    "z=zip(a,b)\n",
    "print(type(z))\n",
    "print(list(z))  "
   ]
  },
  {
   "cell_type": "markdown",
   "id": "58d3e0c5",
   "metadata": {},
   "source": [
    "#### Sorting Python lists"
   ]
  },
  {
   "cell_type": "code",
   "execution_count": 36,
   "id": "f5db1c38",
   "metadata": {},
   "outputs": [
    {
     "name": "stdout",
     "output_type": "stream",
     "text": [
      "Original list:  [4, 3, 2, 1]\n",
      "Sorted list:    [1, 2, 3, 4]\n"
     ]
    }
   ],
   "source": [
    "a=list([4,3,2,1])\n",
    "print(\"Original list: \", a)\n",
    "\n",
    "a.sort()\n",
    "print(\"Sorted list:   \",a)"
   ]
  },
  {
   "cell_type": "markdown",
   "id": "3ac97c2e-417a-4173-89ba-0e3b14a2b424",
   "metadata": {},
   "source": [
    "Note that this sorting operation is an *in-place* one: the original list is substituted by the sorted list (that is, the original list is *lost*...). Wanting to preserve the original list *a*, one might think that by creating a new variable *b* to store *a*, before the sorting, is enough to the purpose. But..."
   ]
  },
  {
   "cell_type": "code",
   "execution_count": 37,
   "id": "bf76a971-9a26-4d1a-8407-5c6688cb69a9",
   "metadata": {},
   "outputs": [
    {
     "name": "stdout",
     "output_type": "stream",
     "text": [
      "[1, 2, 3, 4]\n",
      "[1, 2, 3, 4]\n"
     ]
    }
   ],
   "source": [
    "a=list([4,3,2,1])\n",
    "b=a\n",
    "a.sort()\n",
    "print(a)\n",
    "print(b)"
   ]
  },
  {
   "cell_type": "markdown",
   "id": "a9364cb5-d3e9-4a0f-97a4-9130c618ca4b",
   "metadata": {},
   "source": [
    "More on this behaviour later... Just note here that the correct way to work in a case like this is: "
   ]
  },
  {
   "cell_type": "code",
   "execution_count": 38,
   "id": "94e4abb9-1794-4aec-b25c-ca0c91792d29",
   "metadata": {},
   "outputs": [
    {
     "name": "stdout",
     "output_type": "stream",
     "text": [
      "Sorted list:  [1, 2, 3, 4]\n",
      "Original list:  [4, 3, 2, 1]\n"
     ]
    }
   ],
   "source": [
    "a=list([4,3,2,1])\n",
    "b=a.copy()\n",
    "\n",
    "a.sort()\n",
    "print(\"Sorted list: \", a)\n",
    "print(\"Original list: \", b)"
   ]
  },
  {
   "cell_type": "markdown",
   "id": "536863c7-b3d7-440d-9763-1f2c3cdd0404",
   "metadata": {},
   "source": [
    "where the method *copy* of the *class list* has been used to produce a new copy of the *a* list, which is then stored in the variable *b*. "
   ]
  },
  {
   "cell_type": "markdown",
   "id": "478a10fe",
   "metadata": {},
   "source": [
    "***Reverse*** sorting "
   ]
  },
  {
   "cell_type": "code",
   "execution_count": 39,
   "id": "027b09c4",
   "metadata": {},
   "outputs": [
    {
     "name": "stdout",
     "output_type": "stream",
     "text": [
      "[10, 8, 6, 5, 3, 1]\n"
     ]
    }
   ],
   "source": [
    "a=list([10, 3, 5, 6, 1, 8])\n",
    "a.sort(reverse=True)\n",
    "print(a)"
   ]
  },
  {
   "cell_type": "markdown",
   "id": "dbbd2f32",
   "metadata": {},
   "source": [
    "### Numpy \n",
    "\n",
    "**Num**erical **Py**thon: one of the most important library (technically: a *module*) of Python"
   ]
  },
  {
   "cell_type": "code",
   "execution_count": 40,
   "id": "e287561f",
   "metadata": {},
   "outputs": [
    {
     "name": "stdout",
     "output_type": "stream",
     "text": [
      "[1 2 3 4 5]   - type of a <class 'numpy.ndarray'>\n"
     ]
    }
   ],
   "source": [
    "import numpy as np   # import the numpy module with the 'np' alias\n",
    "\n",
    "a=np.array([1,2,3,4,5])\n",
    "print(a, \"  - type of a\", type(a))"
   ]
  },
  {
   "cell_type": "code",
   "execution_count": 41,
   "id": "088d01da",
   "metadata": {},
   "outputs": [
    {
     "name": "stdout",
     "output_type": "stream",
     "text": [
      "5\n"
     ]
    }
   ],
   "source": [
    "print(len(a))   # size of a"
   ]
  },
  {
   "cell_type": "markdown",
   "id": "baa5c613",
   "metadata": {},
   "source": [
    "... but *size* is also an *attribute* of *a*"
   ]
  },
  {
   "cell_type": "code",
   "execution_count": 42,
   "id": "fb972f0b",
   "metadata": {},
   "outputs": [
    {
     "name": "stdout",
     "output_type": "stream",
     "text": [
      "5\n"
     ]
    }
   ],
   "source": [
    "print(a.size)   # size is also an attribute of the array"
   ]
  },
  {
   "cell_type": "markdown",
   "id": "0b213af4",
   "metadata": {},
   "source": [
    "... and *a* has also a *dtype* attribute:"
   ]
  },
  {
   "cell_type": "code",
   "execution_count": 43,
   "id": "0f081fa8",
   "metadata": {},
   "outputs": [
    {
     "data": {
      "text/plain": [
       "dtype('int32')"
      ]
     },
     "execution_count": 43,
     "metadata": {},
     "output_type": "execute_result"
    }
   ],
   "source": [
    "a.dtype"
   ]
  },
  {
   "cell_type": "markdown",
   "id": "d909a664",
   "metadata": {},
   "source": [
    "List of *attributes* and *methods* of a numpy array:"
   ]
  },
  {
   "cell_type": "code",
   "execution_count": 44,
   "id": "d20c985b",
   "metadata": {},
   "outputs": [
    {
     "name": "stdout",
     "output_type": "stream",
     "text": [
      "Help on ndarray object:\n",
      "\n",
      "class ndarray(builtins.object)\n",
      " |  ndarray(shape, dtype=float, buffer=None, offset=0,\n",
      " |          strides=None, order=None)\n",
      " |\n",
      " |  An array object represents a multidimensional, homogeneous array\n",
      " |  of fixed-size items.  An associated data-type object describes the\n",
      " |  format of each element in the array (its byte-order, how many bytes it\n",
      " |  occupies in memory, whether it is an integer, a floating point number,\n",
      " |  or something else, etc.)\n",
      " |\n",
      " |  Arrays should be constructed using `array`, `zeros` or `empty` (refer\n",
      " |  to the See Also section below).  The parameters given here refer to\n",
      " |  a low-level method (`ndarray(...)`) for instantiating an array.\n",
      " |\n",
      " |  For more information, refer to the `numpy` module and examine the\n",
      " |  methods and attributes of an array.\n",
      " |\n",
      " |  Parameters\n",
      " |  ----------\n",
      " |  (for the __new__ method; see Notes below)\n",
      " |\n",
      " |  shape : tuple of ints\n",
      " |      Shape of created array.\n",
      " |  dtype : data-type, optional\n",
      " |      Any object that can be interpreted as a numpy data type.\n",
      " |  buffer : object exposing buffer interface, optional\n",
      " |      Used to fill the array with data.\n",
      " |  offset : int, optional\n",
      " |      Offset of array data in buffer.\n",
      " |  strides : tuple of ints, optional\n",
      " |      Strides of data in memory.\n",
      " |  order : {'C', 'F'}, optional\n",
      " |      Row-major (C-style) or column-major (Fortran-style) order.\n",
      " |\n",
      " |  Attributes\n",
      " |  ----------\n",
      " |  T : ndarray\n",
      " |      Transpose of the array.\n",
      " |  data : buffer\n",
      " |      The array's elements, in memory.\n",
      " |  dtype : dtype object\n",
      " |      Describes the format of the elements in the array.\n",
      " |  flags : dict\n",
      " |      Dictionary containing information related to memory use, e.g.,\n",
      " |      'C_CONTIGUOUS', 'OWNDATA', 'WRITEABLE', etc.\n",
      " |  flat : numpy.flatiter object\n",
      " |      Flattened version of the array as an iterator.  The iterator\n",
      " |      allows assignments, e.g., ``x.flat = 3`` (See `ndarray.flat` for\n",
      " |      assignment examples; TODO).\n",
      " |  imag : ndarray\n",
      " |      Imaginary part of the array.\n",
      " |  real : ndarray\n",
      " |      Real part of the array.\n",
      " |  size : int\n",
      " |      Number of elements in the array.\n",
      " |  itemsize : int\n",
      " |      The memory use of each array element in bytes.\n",
      " |  nbytes : int\n",
      " |      The total number of bytes required to store the array data,\n",
      " |      i.e., ``itemsize * size``.\n",
      " |  ndim : int\n",
      " |      The array's number of dimensions.\n",
      " |  shape : tuple of ints\n",
      " |      Shape of the array.\n",
      " |  strides : tuple of ints\n",
      " |      The step-size required to move from one element to the next in\n",
      " |      memory. For example, a contiguous ``(3, 4)`` array of type\n",
      " |      ``int16`` in C-order has strides ``(8, 2)``.  This implies that\n",
      " |      to move from element to element in memory requires jumps of 2 bytes.\n",
      " |      To move from row-to-row, one needs to jump 8 bytes at a time\n",
      " |      (``2 * 4``).\n",
      " |  ctypes : ctypes object\n",
      " |      Class containing properties of the array needed for interaction\n",
      " |      with ctypes.\n",
      " |  base : ndarray\n",
      " |      If the array is a view into another array, that array is its `base`\n",
      " |      (unless that array is also a view).  The `base` array is where the\n",
      " |      array data is actually stored.\n",
      " |\n",
      " |  See Also\n",
      " |  --------\n",
      " |  array : Construct an array.\n",
      " |  zeros : Create an array, each element of which is zero.\n",
      " |  empty : Create an array, but leave its allocated memory unchanged (i.e.,\n",
      " |          it contains \"garbage\").\n",
      " |  dtype : Create a data-type.\n",
      " |  numpy.typing.NDArray : An ndarray alias :term:`generic <generic type>`\n",
      " |                         w.r.t. its `dtype.type <numpy.dtype.type>`.\n",
      " |\n",
      " |  Notes\n",
      " |  -----\n",
      " |  There are two modes of creating an array using ``__new__``:\n",
      " |\n",
      " |  1. If `buffer` is None, then only `shape`, `dtype`, and `order`\n",
      " |     are used.\n",
      " |  2. If `buffer` is an object exposing the buffer interface, then\n",
      " |     all keywords are interpreted.\n",
      " |\n",
      " |  No ``__init__`` method is needed because the array is fully initialized\n",
      " |  after the ``__new__`` method.\n",
      " |\n",
      " |  Examples\n",
      " |  --------\n",
      " |  These examples illustrate the low-level `ndarray` constructor.  Refer\n",
      " |  to the `See Also` section above for easier ways of constructing an\n",
      " |  ndarray.\n",
      " |\n",
      " |  First mode, `buffer` is None:\n",
      " |\n",
      " |  >>> np.ndarray(shape=(2,2), dtype=float, order='F')\n",
      " |  array([[0.0e+000, 0.0e+000], # random\n",
      " |         [     nan, 2.5e-323]])\n",
      " |\n",
      " |  Second mode:\n",
      " |\n",
      " |  >>> np.ndarray((2,), buffer=np.array([1,2,3]),\n",
      " |  ...            offset=np.int_().itemsize,\n",
      " |  ...            dtype=int) # offset = 1*itemsize, i.e. skip first element\n",
      " |  array([2, 3])\n",
      " |\n",
      " |  Methods defined here:\n",
      " |\n",
      " |  __abs__(self, /)\n",
      " |      abs(self)\n",
      " |\n",
      " |  __add__(self, value, /)\n",
      " |      Return self+value.\n",
      " |\n",
      " |  __and__(self, value, /)\n",
      " |      Return self&value.\n",
      " |\n",
      " |  __array__(...)\n",
      " |      a.__array__([dtype], /)\n",
      " |\n",
      " |      Returns either a new reference to self if dtype is not given or a new array\n",
      " |      of provided data type if dtype is different from the current dtype of the\n",
      " |      array.\n",
      " |\n",
      " |  __array_finalize__(...)\n",
      " |      a.__array_finalize__(obj, /)\n",
      " |\n",
      " |      Present so subclasses can call super. Does nothing.\n",
      " |\n",
      " |  __array_function__(...)\n",
      " |\n",
      " |  __array_prepare__(...)\n",
      " |      a.__array_prepare__(array[, context], /)\n",
      " |\n",
      " |      Returns a view of `array` with the same type as self.\n",
      " |\n",
      " |  __array_ufunc__(...)\n",
      " |\n",
      " |  __array_wrap__(...)\n",
      " |      a.__array_wrap__(array[, context], /)\n",
      " |\n",
      " |      Returns a view of `array` with the same type as self.\n",
      " |\n",
      " |  __bool__(self, /)\n",
      " |      True if self else False\n",
      " |\n",
      " |  __buffer__(self, flags, /)\n",
      " |      Return a buffer object that exposes the underlying memory of the object.\n",
      " |\n",
      " |  __complex__(...)\n",
      " |\n",
      " |  __contains__(self, key, /)\n",
      " |      Return bool(key in self).\n",
      " |\n",
      " |  __copy__(...)\n",
      " |      a.__copy__()\n",
      " |\n",
      " |      Used if :func:`copy.copy` is called on an array. Returns a copy of the array.\n",
      " |\n",
      " |      Equivalent to ``a.copy(order='K')``.\n",
      " |\n",
      " |  __deepcopy__(...)\n",
      " |      a.__deepcopy__(memo, /)\n",
      " |\n",
      " |      Used if :func:`copy.deepcopy` is called on an array.\n",
      " |\n",
      " |  __delitem__(self, key, /)\n",
      " |      Delete self[key].\n",
      " |\n",
      " |  __divmod__(self, value, /)\n",
      " |      Return divmod(self, value).\n",
      " |\n",
      " |  __dlpack__(...)\n",
      " |      a.__dlpack__(*, stream=None)\n",
      " |\n",
      " |      DLPack Protocol: Part of the Array API.\n",
      " |\n",
      " |  __dlpack_device__(...)\n",
      " |      a.__dlpack_device__()\n",
      " |\n",
      " |      DLPack Protocol: Part of the Array API.\n",
      " |\n",
      " |  __eq__(self, value, /)\n",
      " |      Return self==value.\n",
      " |\n",
      " |  __float__(self, /)\n",
      " |      float(self)\n",
      " |\n",
      " |  __floordiv__(self, value, /)\n",
      " |      Return self//value.\n",
      " |\n",
      " |  __format__(...)\n",
      " |      Default object formatter.\n",
      " |\n",
      " |      Return str(self) if format_spec is empty. Raise TypeError otherwise.\n",
      " |\n",
      " |  __ge__(self, value, /)\n",
      " |      Return self>=value.\n",
      " |\n",
      " |  __getitem__(self, key, /)\n",
      " |      Return self[key].\n",
      " |\n",
      " |  __gt__(self, value, /)\n",
      " |      Return self>value.\n",
      " |\n",
      " |  __iadd__(self, value, /)\n",
      " |      Return self+=value.\n",
      " |\n",
      " |  __iand__(self, value, /)\n",
      " |      Return self&=value.\n",
      " |\n",
      " |  __ifloordiv__(self, value, /)\n",
      " |      Return self//=value.\n",
      " |\n",
      " |  __ilshift__(self, value, /)\n",
      " |      Return self<<=value.\n",
      " |\n",
      " |  __imatmul__(self, value, /)\n",
      " |      Return self@=value.\n",
      " |\n",
      " |  __imod__(self, value, /)\n",
      " |      Return self%=value.\n",
      " |\n",
      " |  __imul__(self, value, /)\n",
      " |      Return self*=value.\n",
      " |\n",
      " |  __index__(self, /)\n",
      " |      Return self converted to an integer, if self is suitable for use as an index into a list.\n",
      " |\n",
      " |  __int__(self, /)\n",
      " |      int(self)\n",
      " |\n",
      " |  __invert__(self, /)\n",
      " |      ~self\n",
      " |\n",
      " |  __ior__(self, value, /)\n",
      " |      Return self|=value.\n",
      " |\n",
      " |  __ipow__(self, value, /)\n",
      " |      Return self**=value.\n",
      " |\n",
      " |  __irshift__(self, value, /)\n",
      " |      Return self>>=value.\n",
      " |\n",
      " |  __isub__(self, value, /)\n",
      " |      Return self-=value.\n",
      " |\n",
      " |  __iter__(self, /)\n",
      " |      Implement iter(self).\n",
      " |\n",
      " |  __itruediv__(self, value, /)\n",
      " |      Return self/=value.\n",
      " |\n",
      " |  __ixor__(self, value, /)\n",
      " |      Return self^=value.\n",
      " |\n",
      " |  __le__(self, value, /)\n",
      " |      Return self<=value.\n",
      " |\n",
      " |  __len__(self, /)\n",
      " |      Return len(self).\n",
      " |\n",
      " |  __lshift__(self, value, /)\n",
      " |      Return self<<value.\n",
      " |\n",
      " |  __lt__(self, value, /)\n",
      " |      Return self<value.\n",
      " |\n",
      " |  __matmul__(self, value, /)\n",
      " |      Return self@value.\n",
      " |\n",
      " |  __mod__(self, value, /)\n",
      " |      Return self%value.\n",
      " |\n",
      " |  __mul__(self, value, /)\n",
      " |      Return self*value.\n",
      " |\n",
      " |  __ne__(self, value, /)\n",
      " |      Return self!=value.\n",
      " |\n",
      " |  __neg__(self, /)\n",
      " |      -self\n",
      " |\n",
      " |  __or__(self, value, /)\n",
      " |      Return self|value.\n",
      " |\n",
      " |  __pos__(self, /)\n",
      " |      +self\n",
      " |\n",
      " |  __pow__(self, value, mod=None, /)\n",
      " |      Return pow(self, value, mod).\n",
      " |\n",
      " |  __radd__(self, value, /)\n",
      " |      Return value+self.\n",
      " |\n",
      " |  __rand__(self, value, /)\n",
      " |      Return value&self.\n",
      " |\n",
      " |  __rdivmod__(self, value, /)\n",
      " |      Return divmod(value, self).\n",
      " |\n",
      " |  __reduce__(...)\n",
      " |      a.__reduce__()\n",
      " |\n",
      " |      For pickling.\n",
      " |\n",
      " |  __reduce_ex__(...)\n",
      " |      Helper for pickle.\n",
      " |\n",
      " |  __repr__(self, /)\n",
      " |      Return repr(self).\n",
      " |\n",
      " |  __rfloordiv__(self, value, /)\n",
      " |      Return value//self.\n",
      " |\n",
      " |  __rlshift__(self, value, /)\n",
      " |      Return value<<self.\n",
      " |\n",
      " |  __rmatmul__(self, value, /)\n",
      " |      Return value@self.\n",
      " |\n",
      " |  __rmod__(self, value, /)\n",
      " |      Return value%self.\n",
      " |\n",
      " |  __rmul__(self, value, /)\n",
      " |      Return value*self.\n",
      " |\n",
      " |  __ror__(self, value, /)\n",
      " |      Return value|self.\n",
      " |\n",
      " |  __rpow__(self, value, mod=None, /)\n",
      " |      Return pow(value, self, mod).\n",
      " |\n",
      " |  __rrshift__(self, value, /)\n",
      " |      Return value>>self.\n",
      " |\n",
      " |  __rshift__(self, value, /)\n",
      " |      Return self>>value.\n",
      " |\n",
      " |  __rsub__(self, value, /)\n",
      " |      Return value-self.\n",
      " |\n",
      " |  __rtruediv__(self, value, /)\n",
      " |      Return value/self.\n",
      " |\n",
      " |  __rxor__(self, value, /)\n",
      " |      Return value^self.\n",
      " |\n",
      " |  __setitem__(self, key, value, /)\n",
      " |      Set self[key] to value.\n",
      " |\n",
      " |  __setstate__(...)\n",
      " |      a.__setstate__(state, /)\n",
      " |\n",
      " |      For unpickling.\n",
      " |\n",
      " |      The `state` argument must be a sequence that contains the following\n",
      " |      elements:\n",
      " |\n",
      " |      Parameters\n",
      " |      ----------\n",
      " |      version : int\n",
      " |          optional pickle version. If omitted defaults to 0.\n",
      " |      shape : tuple\n",
      " |      dtype : data-type\n",
      " |      isFortran : bool\n",
      " |      rawdata : string or list\n",
      " |          a binary string with the data (or a list if 'a' is an object array)\n",
      " |\n",
      " |  __sizeof__(...)\n",
      " |      Size of object in memory, in bytes.\n",
      " |\n",
      " |  __str__(self, /)\n",
      " |      Return str(self).\n",
      " |\n",
      " |  __sub__(self, value, /)\n",
      " |      Return self-value.\n",
      " |\n",
      " |  __truediv__(self, value, /)\n",
      " |      Return self/value.\n",
      " |\n",
      " |  __xor__(self, value, /)\n",
      " |      Return self^value.\n",
      " |\n",
      " |  all(...)\n",
      " |      a.all(axis=None, out=None, keepdims=False, *, where=True)\n",
      " |\n",
      " |      Returns True if all elements evaluate to True.\n",
      " |\n",
      " |      Refer to `numpy.all` for full documentation.\n",
      " |\n",
      " |      See Also\n",
      " |      --------\n",
      " |      numpy.all : equivalent function\n",
      " |\n",
      " |  any(...)\n",
      " |      a.any(axis=None, out=None, keepdims=False, *, where=True)\n",
      " |\n",
      " |      Returns True if any of the elements of `a` evaluate to True.\n",
      " |\n",
      " |      Refer to `numpy.any` for full documentation.\n",
      " |\n",
      " |      See Also\n",
      " |      --------\n",
      " |      numpy.any : equivalent function\n",
      " |\n",
      " |  argmax(...)\n",
      " |      a.argmax(axis=None, out=None, *, keepdims=False)\n",
      " |\n",
      " |      Return indices of the maximum values along the given axis.\n",
      " |\n",
      " |      Refer to `numpy.argmax` for full documentation.\n",
      " |\n",
      " |      See Also\n",
      " |      --------\n",
      " |      numpy.argmax : equivalent function\n",
      " |\n",
      " |  argmin(...)\n",
      " |      a.argmin(axis=None, out=None, *, keepdims=False)\n",
      " |\n",
      " |      Return indices of the minimum values along the given axis.\n",
      " |\n",
      " |      Refer to `numpy.argmin` for detailed documentation.\n",
      " |\n",
      " |      See Also\n",
      " |      --------\n",
      " |      numpy.argmin : equivalent function\n",
      " |\n",
      " |  argpartition(...)\n",
      " |      a.argpartition(kth, axis=-1, kind='introselect', order=None)\n",
      " |\n",
      " |      Returns the indices that would partition this array.\n",
      " |\n",
      " |      Refer to `numpy.argpartition` for full documentation.\n",
      " |\n",
      " |      .. versionadded:: 1.8.0\n",
      " |\n",
      " |      See Also\n",
      " |      --------\n",
      " |      numpy.argpartition : equivalent function\n",
      " |\n",
      " |  argsort(...)\n",
      " |      a.argsort(axis=-1, kind=None, order=None)\n",
      " |\n",
      " |      Returns the indices that would sort this array.\n",
      " |\n",
      " |      Refer to `numpy.argsort` for full documentation.\n",
      " |\n",
      " |      See Also\n",
      " |      --------\n",
      " |      numpy.argsort : equivalent function\n",
      " |\n",
      " |  astype(...)\n",
      " |      a.astype(dtype, order='K', casting='unsafe', subok=True, copy=True)\n",
      " |\n",
      " |      Copy of the array, cast to a specified type.\n",
      " |\n",
      " |      Parameters\n",
      " |      ----------\n",
      " |      dtype : str or dtype\n",
      " |          Typecode or data-type to which the array is cast.\n",
      " |      order : {'C', 'F', 'A', 'K'}, optional\n",
      " |          Controls the memory layout order of the result.\n",
      " |          'C' means C order, 'F' means Fortran order, 'A'\n",
      " |          means 'F' order if all the arrays are Fortran contiguous,\n",
      " |          'C' order otherwise, and 'K' means as close to the\n",
      " |          order the array elements appear in memory as possible.\n",
      " |          Default is 'K'.\n",
      " |      casting : {'no', 'equiv', 'safe', 'same_kind', 'unsafe'}, optional\n",
      " |          Controls what kind of data casting may occur. Defaults to 'unsafe'\n",
      " |          for backwards compatibility.\n",
      " |\n",
      " |            * 'no' means the data types should not be cast at all.\n",
      " |            * 'equiv' means only byte-order changes are allowed.\n",
      " |            * 'safe' means only casts which can preserve values are allowed.\n",
      " |            * 'same_kind' means only safe casts or casts within a kind,\n",
      " |              like float64 to float32, are allowed.\n",
      " |            * 'unsafe' means any data conversions may be done.\n",
      " |      subok : bool, optional\n",
      " |          If True, then sub-classes will be passed-through (default), otherwise\n",
      " |          the returned array will be forced to be a base-class array.\n",
      " |      copy : bool, optional\n",
      " |          By default, astype always returns a newly allocated array. If this\n",
      " |          is set to false, and the `dtype`, `order`, and `subok`\n",
      " |          requirements are satisfied, the input array is returned instead\n",
      " |          of a copy.\n",
      " |\n",
      " |      Returns\n",
      " |      -------\n",
      " |      arr_t : ndarray\n",
      " |          Unless `copy` is False and the other conditions for returning the input\n",
      " |          array are satisfied (see description for `copy` input parameter), `arr_t`\n",
      " |          is a new array of the same shape as the input array, with dtype, order\n",
      " |          given by `dtype`, `order`.\n",
      " |\n",
      " |      Notes\n",
      " |      -----\n",
      " |      .. versionchanged:: 1.17.0\n",
      " |         Casting between a simple data type and a structured one is possible only\n",
      " |         for \"unsafe\" casting.  Casting to multiple fields is allowed, but\n",
      " |         casting from multiple fields is not.\n",
      " |\n",
      " |      .. versionchanged:: 1.9.0\n",
      " |         Casting from numeric to string types in 'safe' casting mode requires\n",
      " |         that the string dtype length is long enough to store the max\n",
      " |         integer/float value converted.\n",
      " |\n",
      " |      Raises\n",
      " |      ------\n",
      " |      ComplexWarning\n",
      " |          When casting from complex to float or int. To avoid this,\n",
      " |          one should use ``a.real.astype(t)``.\n",
      " |\n",
      " |      Examples\n",
      " |      --------\n",
      " |      >>> x = np.array([1, 2, 2.5])\n",
      " |      >>> x\n",
      " |      array([1. ,  2. ,  2.5])\n",
      " |\n",
      " |      >>> x.astype(int)\n",
      " |      array([1, 2, 2])\n",
      " |\n",
      " |  byteswap(...)\n",
      " |      a.byteswap(inplace=False)\n",
      " |\n",
      " |      Swap the bytes of the array elements\n",
      " |\n",
      " |      Toggle between low-endian and big-endian data representation by\n",
      " |      returning a byteswapped array, optionally swapped in-place.\n",
      " |      Arrays of byte-strings are not swapped. The real and imaginary\n",
      " |      parts of a complex number are swapped individually.\n",
      " |\n",
      " |      Parameters\n",
      " |      ----------\n",
      " |      inplace : bool, optional\n",
      " |          If ``True``, swap bytes in-place, default is ``False``.\n",
      " |\n",
      " |      Returns\n",
      " |      -------\n",
      " |      out : ndarray\n",
      " |          The byteswapped array. If `inplace` is ``True``, this is\n",
      " |          a view to self.\n",
      " |\n",
      " |      Examples\n",
      " |      --------\n",
      " |      >>> A = np.array([1, 256, 8755], dtype=np.int16)\n",
      " |      >>> list(map(hex, A))\n",
      " |      ['0x1', '0x100', '0x2233']\n",
      " |      >>> A.byteswap(inplace=True)\n",
      " |      array([  256,     1, 13090], dtype=int16)\n",
      " |      >>> list(map(hex, A))\n",
      " |      ['0x100', '0x1', '0x3322']\n",
      " |\n",
      " |      Arrays of byte-strings are not swapped\n",
      " |\n",
      " |      >>> A = np.array([b'ceg', b'fac'])\n",
      " |      >>> A.byteswap()\n",
      " |      array([b'ceg', b'fac'], dtype='|S3')\n",
      " |\n",
      " |      ``A.newbyteorder().byteswap()`` produces an array with the same values\n",
      " |        but different representation in memory\n",
      " |\n",
      " |      >>> A = np.array([1, 2, 3])\n",
      " |      >>> A.view(np.uint8)\n",
      " |      array([1, 0, 0, 0, 0, 0, 0, 0, 2, 0, 0, 0, 0, 0, 0, 0, 3, 0, 0, 0, 0, 0,\n",
      " |             0, 0], dtype=uint8)\n",
      " |      >>> A.newbyteorder().byteswap(inplace=True)\n",
      " |      array([1, 2, 3])\n",
      " |      >>> A.view(np.uint8)\n",
      " |      array([0, 0, 0, 0, 0, 0, 0, 1, 0, 0, 0, 0, 0, 0, 0, 2, 0, 0, 0, 0, 0, 0,\n",
      " |             0, 3], dtype=uint8)\n",
      " |\n",
      " |  choose(...)\n",
      " |      a.choose(choices, out=None, mode='raise')\n",
      " |\n",
      " |      Use an index array to construct a new array from a set of choices.\n",
      " |\n",
      " |      Refer to `numpy.choose` for full documentation.\n",
      " |\n",
      " |      See Also\n",
      " |      --------\n",
      " |      numpy.choose : equivalent function\n",
      " |\n",
      " |  clip(...)\n",
      " |      a.clip(min=None, max=None, out=None, **kwargs)\n",
      " |\n",
      " |      Return an array whose values are limited to ``[min, max]``.\n",
      " |      One of max or min must be given.\n",
      " |\n",
      " |      Refer to `numpy.clip` for full documentation.\n",
      " |\n",
      " |      See Also\n",
      " |      --------\n",
      " |      numpy.clip : equivalent function\n",
      " |\n",
      " |  compress(...)\n",
      " |      a.compress(condition, axis=None, out=None)\n",
      " |\n",
      " |      Return selected slices of this array along given axis.\n",
      " |\n",
      " |      Refer to `numpy.compress` for full documentation.\n",
      " |\n",
      " |      See Also\n",
      " |      --------\n",
      " |      numpy.compress : equivalent function\n",
      " |\n",
      " |  conj(...)\n",
      " |      a.conj()\n",
      " |\n",
      " |      Complex-conjugate all elements.\n",
      " |\n",
      " |      Refer to `numpy.conjugate` for full documentation.\n",
      " |\n",
      " |      See Also\n",
      " |      --------\n",
      " |      numpy.conjugate : equivalent function\n",
      " |\n",
      " |  conjugate(...)\n",
      " |      a.conjugate()\n",
      " |\n",
      " |      Return the complex conjugate, element-wise.\n",
      " |\n",
      " |      Refer to `numpy.conjugate` for full documentation.\n",
      " |\n",
      " |      See Also\n",
      " |      --------\n",
      " |      numpy.conjugate : equivalent function\n",
      " |\n",
      " |  copy(...)\n",
      " |      a.copy(order='C')\n",
      " |\n",
      " |      Return a copy of the array.\n",
      " |\n",
      " |      Parameters\n",
      " |      ----------\n",
      " |      order : {'C', 'F', 'A', 'K'}, optional\n",
      " |          Controls the memory layout of the copy. 'C' means C-order,\n",
      " |          'F' means F-order, 'A' means 'F' if `a` is Fortran contiguous,\n",
      " |          'C' otherwise. 'K' means match the layout of `a` as closely\n",
      " |          as possible. (Note that this function and :func:`numpy.copy` are very\n",
      " |          similar but have different default values for their order=\n",
      " |          arguments, and this function always passes sub-classes through.)\n",
      " |\n",
      " |      See also\n",
      " |      --------\n",
      " |      numpy.copy : Similar function with different default behavior\n",
      " |      numpy.copyto\n",
      " |\n",
      " |      Notes\n",
      " |      -----\n",
      " |      This function is the preferred method for creating an array copy.  The\n",
      " |      function :func:`numpy.copy` is similar, but it defaults to using order 'K',\n",
      " |      and will not pass sub-classes through by default.\n",
      " |\n",
      " |      Examples\n",
      " |      --------\n",
      " |      >>> x = np.array([[1,2,3],[4,5,6]], order='F')\n",
      " |\n",
      " |      >>> y = x.copy()\n",
      " |\n",
      " |      >>> x.fill(0)\n",
      " |\n",
      " |      >>> x\n",
      " |      array([[0, 0, 0],\n",
      " |             [0, 0, 0]])\n",
      " |\n",
      " |      >>> y\n",
      " |      array([[1, 2, 3],\n",
      " |             [4, 5, 6]])\n",
      " |\n",
      " |      >>> y.flags['C_CONTIGUOUS']\n",
      " |      True\n",
      " |\n",
      " |  cumprod(...)\n",
      " |      a.cumprod(axis=None, dtype=None, out=None)\n",
      " |\n",
      " |      Return the cumulative product of the elements along the given axis.\n",
      " |\n",
      " |      Refer to `numpy.cumprod` for full documentation.\n",
      " |\n",
      " |      See Also\n",
      " |      --------\n",
      " |      numpy.cumprod : equivalent function\n",
      " |\n",
      " |  cumsum(...)\n",
      " |      a.cumsum(axis=None, dtype=None, out=None)\n",
      " |\n",
      " |      Return the cumulative sum of the elements along the given axis.\n",
      " |\n",
      " |      Refer to `numpy.cumsum` for full documentation.\n",
      " |\n",
      " |      See Also\n",
      " |      --------\n",
      " |      numpy.cumsum : equivalent function\n",
      " |\n",
      " |  diagonal(...)\n",
      " |      a.diagonal(offset=0, axis1=0, axis2=1)\n",
      " |\n",
      " |      Return specified diagonals. In NumPy 1.9 the returned array is a\n",
      " |      read-only view instead of a copy as in previous NumPy versions.  In\n",
      " |      a future version the read-only restriction will be removed.\n",
      " |\n",
      " |      Refer to :func:`numpy.diagonal` for full documentation.\n",
      " |\n",
      " |      See Also\n",
      " |      --------\n",
      " |      numpy.diagonal : equivalent function\n",
      " |\n",
      " |  dot(...)\n",
      " |\n",
      " |  dump(...)\n",
      " |      a.dump(file)\n",
      " |\n",
      " |      Dump a pickle of the array to the specified file.\n",
      " |      The array can be read back with pickle.load or numpy.load.\n",
      " |\n",
      " |      Parameters\n",
      " |      ----------\n",
      " |      file : str or Path\n",
      " |          A string naming the dump file.\n",
      " |\n",
      " |          .. versionchanged:: 1.17.0\n",
      " |              `pathlib.Path` objects are now accepted.\n",
      " |\n",
      " |  dumps(...)\n",
      " |      a.dumps()\n",
      " |\n",
      " |      Returns the pickle of the array as a string.\n",
      " |      pickle.loads will convert the string back to an array.\n",
      " |\n",
      " |      Parameters\n",
      " |      ----------\n",
      " |      None\n",
      " |\n",
      " |  fill(...)\n",
      " |      a.fill(value)\n",
      " |\n",
      " |      Fill the array with a scalar value.\n",
      " |\n",
      " |      Parameters\n",
      " |      ----------\n",
      " |      value : scalar\n",
      " |          All elements of `a` will be assigned this value.\n",
      " |\n",
      " |      Examples\n",
      " |      --------\n",
      " |      >>> a = np.array([1, 2])\n",
      " |      >>> a.fill(0)\n",
      " |      >>> a\n",
      " |      array([0, 0])\n",
      " |      >>> a = np.empty(2)\n",
      " |      >>> a.fill(1)\n",
      " |      >>> a\n",
      " |      array([1.,  1.])\n",
      " |\n",
      " |      Fill expects a scalar value and always behaves the same as assigning\n",
      " |      to a single array element.  The following is a rare example where this\n",
      " |      distinction is important:\n",
      " |\n",
      " |      >>> a = np.array([None, None], dtype=object)\n",
      " |      >>> a[0] = np.array(3)\n",
      " |      >>> a\n",
      " |      array([array(3), None], dtype=object)\n",
      " |      >>> a.fill(np.array(3))\n",
      " |      >>> a\n",
      " |      array([array(3), array(3)], dtype=object)\n",
      " |\n",
      " |      Where other forms of assignments will unpack the array being assigned:\n",
      " |\n",
      " |      >>> a[...] = np.array(3)\n",
      " |      >>> a\n",
      " |      array([3, 3], dtype=object)\n",
      " |\n",
      " |  flatten(...)\n",
      " |      a.flatten(order='C')\n",
      " |\n",
      " |      Return a copy of the array collapsed into one dimension.\n",
      " |\n",
      " |      Parameters\n",
      " |      ----------\n",
      " |      order : {'C', 'F', 'A', 'K'}, optional\n",
      " |          'C' means to flatten in row-major (C-style) order.\n",
      " |          'F' means to flatten in column-major (Fortran-\n",
      " |          style) order. 'A' means to flatten in column-major\n",
      " |          order if `a` is Fortran *contiguous* in memory,\n",
      " |          row-major order otherwise. 'K' means to flatten\n",
      " |          `a` in the order the elements occur in memory.\n",
      " |          The default is 'C'.\n",
      " |\n",
      " |      Returns\n",
      " |      -------\n",
      " |      y : ndarray\n",
      " |          A copy of the input array, flattened to one dimension.\n",
      " |\n",
      " |      See Also\n",
      " |      --------\n",
      " |      ravel : Return a flattened array.\n",
      " |      flat : A 1-D flat iterator over the array.\n",
      " |\n",
      " |      Examples\n",
      " |      --------\n",
      " |      >>> a = np.array([[1,2], [3,4]])\n",
      " |      >>> a.flatten()\n",
      " |      array([1, 2, 3, 4])\n",
      " |      >>> a.flatten('F')\n",
      " |      array([1, 3, 2, 4])\n",
      " |\n",
      " |  getfield(...)\n",
      " |      a.getfield(dtype, offset=0)\n",
      " |\n",
      " |      Returns a field of the given array as a certain type.\n",
      " |\n",
      " |      A field is a view of the array data with a given data-type. The values in\n",
      " |      the view are determined by the given type and the offset into the current\n",
      " |      array in bytes. The offset needs to be such that the view dtype fits in the\n",
      " |      array dtype; for example an array of dtype complex128 has 16-byte elements.\n",
      " |      If taking a view with a 32-bit integer (4 bytes), the offset needs to be\n",
      " |      between 0 and 12 bytes.\n",
      " |\n",
      " |      Parameters\n",
      " |      ----------\n",
      " |      dtype : str or dtype\n",
      " |          The data type of the view. The dtype size of the view can not be larger\n",
      " |          than that of the array itself.\n",
      " |      offset : int\n",
      " |          Number of bytes to skip before beginning the element view.\n",
      " |\n",
      " |      Examples\n",
      " |      --------\n",
      " |      >>> x = np.diag([1.+1.j]*2)\n",
      " |      >>> x[1, 1] = 2 + 4.j\n",
      " |      >>> x\n",
      " |      array([[1.+1.j,  0.+0.j],\n",
      " |             [0.+0.j,  2.+4.j]])\n",
      " |      >>> x.getfield(np.float64)\n",
      " |      array([[1.,  0.],\n",
      " |             [0.,  2.]])\n",
      " |\n",
      " |      By choosing an offset of 8 bytes we can select the complex part of the\n",
      " |      array for our view:\n",
      " |\n",
      " |      >>> x.getfield(np.float64, offset=8)\n",
      " |      array([[1.,  0.],\n",
      " |             [0.,  4.]])\n",
      " |\n",
      " |  item(...)\n",
      " |      a.item(*args)\n",
      " |\n",
      " |      Copy an element of an array to a standard Python scalar and return it.\n",
      " |\n",
      " |      Parameters\n",
      " |      ----------\n",
      " |      \\*args : Arguments (variable number and type)\n",
      " |\n",
      " |          * none: in this case, the method only works for arrays\n",
      " |            with one element (`a.size == 1`), which element is\n",
      " |            copied into a standard Python scalar object and returned.\n",
      " |\n",
      " |          * int_type: this argument is interpreted as a flat index into\n",
      " |            the array, specifying which element to copy and return.\n",
      " |\n",
      " |          * tuple of int_types: functions as does a single int_type argument,\n",
      " |            except that the argument is interpreted as an nd-index into the\n",
      " |            array.\n",
      " |\n",
      " |      Returns\n",
      " |      -------\n",
      " |      z : Standard Python scalar object\n",
      " |          A copy of the specified element of the array as a suitable\n",
      " |          Python scalar\n",
      " |\n",
      " |      Notes\n",
      " |      -----\n",
      " |      When the data type of `a` is longdouble or clongdouble, item() returns\n",
      " |      a scalar array object because there is no available Python scalar that\n",
      " |      would not lose information. Void arrays return a buffer object for item(),\n",
      " |      unless fields are defined, in which case a tuple is returned.\n",
      " |\n",
      " |      `item` is very similar to a[args], except, instead of an array scalar,\n",
      " |      a standard Python scalar is returned. This can be useful for speeding up\n",
      " |      access to elements of the array and doing arithmetic on elements of the\n",
      " |      array using Python's optimized math.\n",
      " |\n",
      " |      Examples\n",
      " |      --------\n",
      " |      >>> np.random.seed(123)\n",
      " |      >>> x = np.random.randint(9, size=(3, 3))\n",
      " |      >>> x\n",
      " |      array([[2, 2, 6],\n",
      " |             [1, 3, 6],\n",
      " |             [1, 0, 1]])\n",
      " |      >>> x.item(3)\n",
      " |      1\n",
      " |      >>> x.item(7)\n",
      " |      0\n",
      " |      >>> x.item((0, 1))\n",
      " |      2\n",
      " |      >>> x.item((2, 2))\n",
      " |      1\n",
      " |\n",
      " |  itemset(...)\n",
      " |      a.itemset(*args)\n",
      " |\n",
      " |      Insert scalar into an array (scalar is cast to array's dtype, if possible)\n",
      " |\n",
      " |      There must be at least 1 argument, and define the last argument\n",
      " |      as *item*.  Then, ``a.itemset(*args)`` is equivalent to but faster\n",
      " |      than ``a[args] = item``.  The item should be a scalar value and `args`\n",
      " |      must select a single item in the array `a`.\n",
      " |\n",
      " |      Parameters\n",
      " |      ----------\n",
      " |      \\*args : Arguments\n",
      " |          If one argument: a scalar, only used in case `a` is of size 1.\n",
      " |          If two arguments: the last argument is the value to be set\n",
      " |          and must be a scalar, the first argument specifies a single array\n",
      " |          element location. It is either an int or a tuple.\n",
      " |\n",
      " |      Notes\n",
      " |      -----\n",
      " |      Compared to indexing syntax, `itemset` provides some speed increase\n",
      " |      for placing a scalar into a particular location in an `ndarray`,\n",
      " |      if you must do this.  However, generally this is discouraged:\n",
      " |      among other problems, it complicates the appearance of the code.\n",
      " |      Also, when using `itemset` (and `item`) inside a loop, be sure\n",
      " |      to assign the methods to a local variable to avoid the attribute\n",
      " |      look-up at each loop iteration.\n",
      " |\n",
      " |      Examples\n",
      " |      --------\n",
      " |      >>> np.random.seed(123)\n",
      " |      >>> x = np.random.randint(9, size=(3, 3))\n",
      " |      >>> x\n",
      " |      array([[2, 2, 6],\n",
      " |             [1, 3, 6],\n",
      " |             [1, 0, 1]])\n",
      " |      >>> x.itemset(4, 0)\n",
      " |      >>> x.itemset((2, 2), 9)\n",
      " |      >>> x\n",
      " |      array([[2, 2, 6],\n",
      " |             [1, 0, 6],\n",
      " |             [1, 0, 9]])\n",
      " |\n",
      " |  max(...)\n",
      " |      a.max(axis=None, out=None, keepdims=False, initial=<no value>, where=True)\n",
      " |\n",
      " |      Return the maximum along a given axis.\n",
      " |\n",
      " |      Refer to `numpy.amax` for full documentation.\n",
      " |\n",
      " |      See Also\n",
      " |      --------\n",
      " |      numpy.amax : equivalent function\n",
      " |\n",
      " |  mean(...)\n",
      " |      a.mean(axis=None, dtype=None, out=None, keepdims=False, *, where=True)\n",
      " |\n",
      " |      Returns the average of the array elements along given axis.\n",
      " |\n",
      " |      Refer to `numpy.mean` for full documentation.\n",
      " |\n",
      " |      See Also\n",
      " |      --------\n",
      " |      numpy.mean : equivalent function\n",
      " |\n",
      " |  min(...)\n",
      " |      a.min(axis=None, out=None, keepdims=False, initial=<no value>, where=True)\n",
      " |\n",
      " |      Return the minimum along a given axis.\n",
      " |\n",
      " |      Refer to `numpy.amin` for full documentation.\n",
      " |\n",
      " |      See Also\n",
      " |      --------\n",
      " |      numpy.amin : equivalent function\n",
      " |\n",
      " |  newbyteorder(...)\n",
      " |      arr.newbyteorder(new_order='S', /)\n",
      " |\n",
      " |      Return the array with the same data viewed with a different byte order.\n",
      " |\n",
      " |      Equivalent to::\n",
      " |\n",
      " |          arr.view(arr.dtype.newbytorder(new_order))\n",
      " |\n",
      " |      Changes are also made in all fields and sub-arrays of the array data\n",
      " |      type.\n",
      " |\n",
      " |\n",
      " |\n",
      " |      Parameters\n",
      " |      ----------\n",
      " |      new_order : string, optional\n",
      " |          Byte order to force; a value from the byte order specifications\n",
      " |          below. `new_order` codes can be any of:\n",
      " |\n",
      " |          * 'S' - swap dtype from current to opposite endian\n",
      " |          * {'<', 'little'} - little endian\n",
      " |          * {'>', 'big'} - big endian\n",
      " |          * {'=', 'native'} - native order, equivalent to `sys.byteorder`\n",
      " |          * {'|', 'I'} - ignore (no change to byte order)\n",
      " |\n",
      " |          The default value ('S') results in swapping the current\n",
      " |          byte order.\n",
      " |\n",
      " |\n",
      " |      Returns\n",
      " |      -------\n",
      " |      new_arr : array\n",
      " |          New array object with the dtype reflecting given change to the\n",
      " |          byte order.\n",
      " |\n",
      " |  nonzero(...)\n",
      " |      a.nonzero()\n",
      " |\n",
      " |      Return the indices of the elements that are non-zero.\n",
      " |\n",
      " |      Refer to `numpy.nonzero` for full documentation.\n",
      " |\n",
      " |      See Also\n",
      " |      --------\n",
      " |      numpy.nonzero : equivalent function\n",
      " |\n",
      " |  partition(...)\n",
      " |      a.partition(kth, axis=-1, kind='introselect', order=None)\n",
      " |\n",
      " |      Rearranges the elements in the array in such a way that the value of the\n",
      " |      element in kth position is in the position it would be in a sorted array.\n",
      " |      All elements smaller than the kth element are moved before this element and\n",
      " |      all equal or greater are moved behind it. The ordering of the elements in\n",
      " |      the two partitions is undefined.\n",
      " |\n",
      " |      .. versionadded:: 1.8.0\n",
      " |\n",
      " |      Parameters\n",
      " |      ----------\n",
      " |      kth : int or sequence of ints\n",
      " |          Element index to partition by. The kth element value will be in its\n",
      " |          final sorted position and all smaller elements will be moved before it\n",
      " |          and all equal or greater elements behind it.\n",
      " |          The order of all elements in the partitions is undefined.\n",
      " |          If provided with a sequence of kth it will partition all elements\n",
      " |          indexed by kth of them into their sorted position at once.\n",
      " |\n",
      " |          .. deprecated:: 1.22.0\n",
      " |              Passing booleans as index is deprecated.\n",
      " |      axis : int, optional\n",
      " |          Axis along which to sort. Default is -1, which means sort along the\n",
      " |          last axis.\n",
      " |      kind : {'introselect'}, optional\n",
      " |          Selection algorithm. Default is 'introselect'.\n",
      " |      order : str or list of str, optional\n",
      " |          When `a` is an array with fields defined, this argument specifies\n",
      " |          which fields to compare first, second, etc. A single field can\n",
      " |          be specified as a string, and not all fields need to be specified,\n",
      " |          but unspecified fields will still be used, in the order in which\n",
      " |          they come up in the dtype, to break ties.\n",
      " |\n",
      " |      See Also\n",
      " |      --------\n",
      " |      numpy.partition : Return a partitioned copy of an array.\n",
      " |      argpartition : Indirect partition.\n",
      " |      sort : Full sort.\n",
      " |\n",
      " |      Notes\n",
      " |      -----\n",
      " |      See ``np.partition`` for notes on the different algorithms.\n",
      " |\n",
      " |      Examples\n",
      " |      --------\n",
      " |      >>> a = np.array([3, 4, 2, 1])\n",
      " |      >>> a.partition(3)\n",
      " |      >>> a\n",
      " |      array([2, 1, 3, 4])\n",
      " |\n",
      " |      >>> a.partition((1, 3))\n",
      " |      >>> a\n",
      " |      array([1, 2, 3, 4])\n",
      " |\n",
      " |  prod(...)\n",
      " |      a.prod(axis=None, dtype=None, out=None, keepdims=False, initial=1, where=True)\n",
      " |\n",
      " |      Return the product of the array elements over the given axis\n",
      " |\n",
      " |      Refer to `numpy.prod` for full documentation.\n",
      " |\n",
      " |      See Also\n",
      " |      --------\n",
      " |      numpy.prod : equivalent function\n",
      " |\n",
      " |  ptp(...)\n",
      " |      a.ptp(axis=None, out=None, keepdims=False)\n",
      " |\n",
      " |      Peak to peak (maximum - minimum) value along a given axis.\n",
      " |\n",
      " |      Refer to `numpy.ptp` for full documentation.\n",
      " |\n",
      " |      See Also\n",
      " |      --------\n",
      " |      numpy.ptp : equivalent function\n",
      " |\n",
      " |  put(...)\n",
      " |      a.put(indices, values, mode='raise')\n",
      " |\n",
      " |      Set ``a.flat[n] = values[n]`` for all `n` in indices.\n",
      " |\n",
      " |      Refer to `numpy.put` for full documentation.\n",
      " |\n",
      " |      See Also\n",
      " |      --------\n",
      " |      numpy.put : equivalent function\n",
      " |\n",
      " |  ravel(...)\n",
      " |      a.ravel([order])\n",
      " |\n",
      " |      Return a flattened array.\n",
      " |\n",
      " |      Refer to `numpy.ravel` for full documentation.\n",
      " |\n",
      " |      See Also\n",
      " |      --------\n",
      " |      numpy.ravel : equivalent function\n",
      " |\n",
      " |      ndarray.flat : a flat iterator on the array.\n",
      " |\n",
      " |  repeat(...)\n",
      " |      a.repeat(repeats, axis=None)\n",
      " |\n",
      " |      Repeat elements of an array.\n",
      " |\n",
      " |      Refer to `numpy.repeat` for full documentation.\n",
      " |\n",
      " |      See Also\n",
      " |      --------\n",
      " |      numpy.repeat : equivalent function\n",
      " |\n",
      " |  reshape(...)\n",
      " |      a.reshape(shape, order='C')\n",
      " |\n",
      " |      Returns an array containing the same data with a new shape.\n",
      " |\n",
      " |      Refer to `numpy.reshape` for full documentation.\n",
      " |\n",
      " |      See Also\n",
      " |      --------\n",
      " |      numpy.reshape : equivalent function\n",
      " |\n",
      " |      Notes\n",
      " |      -----\n",
      " |      Unlike the free function `numpy.reshape`, this method on `ndarray` allows\n",
      " |      the elements of the shape parameter to be passed in as separate arguments.\n",
      " |      For example, ``a.reshape(10, 11)`` is equivalent to\n",
      " |      ``a.reshape((10, 11))``.\n",
      " |\n",
      " |  resize(...)\n",
      " |      a.resize(new_shape, refcheck=True)\n",
      " |\n",
      " |      Change shape and size of array in-place.\n",
      " |\n",
      " |      Parameters\n",
      " |      ----------\n",
      " |      new_shape : tuple of ints, or `n` ints\n",
      " |          Shape of resized array.\n",
      " |      refcheck : bool, optional\n",
      " |          If False, reference count will not be checked. Default is True.\n",
      " |\n",
      " |      Returns\n",
      " |      -------\n",
      " |      None\n",
      " |\n",
      " |      Raises\n",
      " |      ------\n",
      " |      ValueError\n",
      " |          If `a` does not own its own data or references or views to it exist,\n",
      " |          and the data memory must be changed.\n",
      " |          PyPy only: will always raise if the data memory must be changed, since\n",
      " |          there is no reliable way to determine if references or views to it\n",
      " |          exist.\n",
      " |\n",
      " |      SystemError\n",
      " |          If the `order` keyword argument is specified. This behaviour is a\n",
      " |          bug in NumPy.\n",
      " |\n",
      " |      See Also\n",
      " |      --------\n",
      " |      resize : Return a new array with the specified shape.\n",
      " |\n",
      " |      Notes\n",
      " |      -----\n",
      " |      This reallocates space for the data area if necessary.\n",
      " |\n",
      " |      Only contiguous arrays (data elements consecutive in memory) can be\n",
      " |      resized.\n",
      " |\n",
      " |      The purpose of the reference count check is to make sure you\n",
      " |      do not use this array as a buffer for another Python object and then\n",
      " |      reallocate the memory. However, reference counts can increase in\n",
      " |      other ways so if you are sure that you have not shared the memory\n",
      " |      for this array with another Python object, then you may safely set\n",
      " |      `refcheck` to False.\n",
      " |\n",
      " |      Examples\n",
      " |      --------\n",
      " |      Shrinking an array: array is flattened (in the order that the data are\n",
      " |      stored in memory), resized, and reshaped:\n",
      " |\n",
      " |      >>> a = np.array([[0, 1], [2, 3]], order='C')\n",
      " |      >>> a.resize((2, 1))\n",
      " |      >>> a\n",
      " |      array([[0],\n",
      " |             [1]])\n",
      " |\n",
      " |      >>> a = np.array([[0, 1], [2, 3]], order='F')\n",
      " |      >>> a.resize((2, 1))\n",
      " |      >>> a\n",
      " |      array([[0],\n",
      " |             [2]])\n",
      " |\n",
      " |      Enlarging an array: as above, but missing entries are filled with zeros:\n",
      " |\n",
      " |      >>> b = np.array([[0, 1], [2, 3]])\n",
      " |      >>> b.resize(2, 3) # new_shape parameter doesn't have to be a tuple\n",
      " |      >>> b\n",
      " |      array([[0, 1, 2],\n",
      " |             [3, 0, 0]])\n",
      " |\n",
      " |      Referencing an array prevents resizing...\n",
      " |\n",
      " |      >>> c = a\n",
      " |      >>> a.resize((1, 1))\n",
      " |      Traceback (most recent call last):\n",
      " |      ...\n",
      " |      ValueError: cannot resize an array that references or is referenced ...\n",
      " |\n",
      " |      Unless `refcheck` is False:\n",
      " |\n",
      " |      >>> a.resize((1, 1), refcheck=False)\n",
      " |      >>> a\n",
      " |      array([[0]])\n",
      " |      >>> c\n",
      " |      array([[0]])\n",
      " |\n",
      " |  round(...)\n",
      " |      a.round(decimals=0, out=None)\n",
      " |\n",
      " |      Return `a` with each element rounded to the given number of decimals.\n",
      " |\n",
      " |      Refer to `numpy.around` for full documentation.\n",
      " |\n",
      " |      See Also\n",
      " |      --------\n",
      " |      numpy.around : equivalent function\n",
      " |\n",
      " |  searchsorted(...)\n",
      " |      a.searchsorted(v, side='left', sorter=None)\n",
      " |\n",
      " |      Find indices where elements of v should be inserted in a to maintain order.\n",
      " |\n",
      " |      For full documentation, see `numpy.searchsorted`\n",
      " |\n",
      " |      See Also\n",
      " |      --------\n",
      " |      numpy.searchsorted : equivalent function\n",
      " |\n",
      " |  setfield(...)\n",
      " |      a.setfield(val, dtype, offset=0)\n",
      " |\n",
      " |      Put a value into a specified place in a field defined by a data-type.\n",
      " |\n",
      " |      Place `val` into `a`'s field defined by `dtype` and beginning `offset`\n",
      " |      bytes into the field.\n",
      " |\n",
      " |      Parameters\n",
      " |      ----------\n",
      " |      val : object\n",
      " |          Value to be placed in field.\n",
      " |      dtype : dtype object\n",
      " |          Data-type of the field in which to place `val`.\n",
      " |      offset : int, optional\n",
      " |          The number of bytes into the field at which to place `val`.\n",
      " |\n",
      " |      Returns\n",
      " |      -------\n",
      " |      None\n",
      " |\n",
      " |      See Also\n",
      " |      --------\n",
      " |      getfield\n",
      " |\n",
      " |      Examples\n",
      " |      --------\n",
      " |      >>> x = np.eye(3)\n",
      " |      >>> x.getfield(np.float64)\n",
      " |      array([[1.,  0.,  0.],\n",
      " |             [0.,  1.,  0.],\n",
      " |             [0.,  0.,  1.]])\n",
      " |      >>> x.setfield(3, np.int32)\n",
      " |      >>> x.getfield(np.int32)\n",
      " |      array([[3, 3, 3],\n",
      " |             [3, 3, 3],\n",
      " |             [3, 3, 3]], dtype=int32)\n",
      " |      >>> x\n",
      " |      array([[1.0e+000, 1.5e-323, 1.5e-323],\n",
      " |             [1.5e-323, 1.0e+000, 1.5e-323],\n",
      " |             [1.5e-323, 1.5e-323, 1.0e+000]])\n",
      " |      >>> x.setfield(np.eye(3), np.int32)\n",
      " |      >>> x\n",
      " |      array([[1.,  0.,  0.],\n",
      " |             [0.,  1.,  0.],\n",
      " |             [0.,  0.,  1.]])\n",
      " |\n",
      " |  setflags(...)\n",
      " |      a.setflags(write=None, align=None, uic=None)\n",
      " |\n",
      " |      Set array flags WRITEABLE, ALIGNED, WRITEBACKIFCOPY,\n",
      " |      respectively.\n",
      " |\n",
      " |      These Boolean-valued flags affect how numpy interprets the memory\n",
      " |      area used by `a` (see Notes below). The ALIGNED flag can only\n",
      " |      be set to True if the data is actually aligned according to the type.\n",
      " |      The WRITEBACKIFCOPY and flag can never be set\n",
      " |      to True. The flag WRITEABLE can only be set to True if the array owns its\n",
      " |      own memory, or the ultimate owner of the memory exposes a writeable buffer\n",
      " |      interface, or is a string. (The exception for string is made so that\n",
      " |      unpickling can be done without copying memory.)\n",
      " |\n",
      " |      Parameters\n",
      " |      ----------\n",
      " |      write : bool, optional\n",
      " |          Describes whether or not `a` can be written to.\n",
      " |      align : bool, optional\n",
      " |          Describes whether or not `a` is aligned properly for its type.\n",
      " |      uic : bool, optional\n",
      " |          Describes whether or not `a` is a copy of another \"base\" array.\n",
      " |\n",
      " |      Notes\n",
      " |      -----\n",
      " |      Array flags provide information about how the memory area used\n",
      " |      for the array is to be interpreted. There are 7 Boolean flags\n",
      " |      in use, only four of which can be changed by the user:\n",
      " |      WRITEBACKIFCOPY, WRITEABLE, and ALIGNED.\n",
      " |\n",
      " |      WRITEABLE (W) the data area can be written to;\n",
      " |\n",
      " |      ALIGNED (A) the data and strides are aligned appropriately for the hardware\n",
      " |      (as determined by the compiler);\n",
      " |\n",
      " |      WRITEBACKIFCOPY (X) this array is a copy of some other array (referenced\n",
      " |      by .base). When the C-API function PyArray_ResolveWritebackIfCopy is\n",
      " |      called, the base array will be updated with the contents of this array.\n",
      " |\n",
      " |      All flags can be accessed using the single (upper case) letter as well\n",
      " |      as the full name.\n",
      " |\n",
      " |      Examples\n",
      " |      --------\n",
      " |      >>> y = np.array([[3, 1, 7],\n",
      " |      ...               [2, 0, 0],\n",
      " |      ...               [8, 5, 9]])\n",
      " |      >>> y\n",
      " |      array([[3, 1, 7],\n",
      " |             [2, 0, 0],\n",
      " |             [8, 5, 9]])\n",
      " |      >>> y.flags\n",
      " |        C_CONTIGUOUS : True\n",
      " |        F_CONTIGUOUS : False\n",
      " |        OWNDATA : True\n",
      " |        WRITEABLE : True\n",
      " |        ALIGNED : True\n",
      " |        WRITEBACKIFCOPY : False\n",
      " |      >>> y.setflags(write=0, align=0)\n",
      " |      >>> y.flags\n",
      " |        C_CONTIGUOUS : True\n",
      " |        F_CONTIGUOUS : False\n",
      " |        OWNDATA : True\n",
      " |        WRITEABLE : False\n",
      " |        ALIGNED : False\n",
      " |        WRITEBACKIFCOPY : False\n",
      " |      >>> y.setflags(uic=1)\n",
      " |      Traceback (most recent call last):\n",
      " |        File \"<stdin>\", line 1, in <module>\n",
      " |      ValueError: cannot set WRITEBACKIFCOPY flag to True\n",
      " |\n",
      " |  sort(...)\n",
      " |      a.sort(axis=-1, kind=None, order=None)\n",
      " |\n",
      " |      Sort an array in-place. Refer to `numpy.sort` for full documentation.\n",
      " |\n",
      " |      Parameters\n",
      " |      ----------\n",
      " |      axis : int, optional\n",
      " |          Axis along which to sort. Default is -1, which means sort along the\n",
      " |          last axis.\n",
      " |      kind : {'quicksort', 'mergesort', 'heapsort', 'stable'}, optional\n",
      " |          Sorting algorithm. The default is 'quicksort'. Note that both 'stable'\n",
      " |          and 'mergesort' use timsort under the covers and, in general, the\n",
      " |          actual implementation will vary with datatype. The 'mergesort' option\n",
      " |          is retained for backwards compatibility.\n",
      " |\n",
      " |          .. versionchanged:: 1.15.0\n",
      " |             The 'stable' option was added.\n",
      " |\n",
      " |      order : str or list of str, optional\n",
      " |          When `a` is an array with fields defined, this argument specifies\n",
      " |          which fields to compare first, second, etc.  A single field can\n",
      " |          be specified as a string, and not all fields need be specified,\n",
      " |          but unspecified fields will still be used, in the order in which\n",
      " |          they come up in the dtype, to break ties.\n",
      " |\n",
      " |      See Also\n",
      " |      --------\n",
      " |      numpy.sort : Return a sorted copy of an array.\n",
      " |      numpy.argsort : Indirect sort.\n",
      " |      numpy.lexsort : Indirect stable sort on multiple keys.\n",
      " |      numpy.searchsorted : Find elements in sorted array.\n",
      " |      numpy.partition: Partial sort.\n",
      " |\n",
      " |      Notes\n",
      " |      -----\n",
      " |      See `numpy.sort` for notes on the different sorting algorithms.\n",
      " |\n",
      " |      Examples\n",
      " |      --------\n",
      " |      >>> a = np.array([[1,4], [3,1]])\n",
      " |      >>> a.sort(axis=1)\n",
      " |      >>> a\n",
      " |      array([[1, 4],\n",
      " |             [1, 3]])\n",
      " |      >>> a.sort(axis=0)\n",
      " |      >>> a\n",
      " |      array([[1, 3],\n",
      " |             [1, 4]])\n",
      " |\n",
      " |      Use the `order` keyword to specify a field to use when sorting a\n",
      " |      structured array:\n",
      " |\n",
      " |      >>> a = np.array([('a', 2), ('c', 1)], dtype=[('x', 'S1'), ('y', int)])\n",
      " |      >>> a.sort(order='y')\n",
      " |      >>> a\n",
      " |      array([(b'c', 1), (b'a', 2)],\n",
      " |            dtype=[('x', 'S1'), ('y', '<i8')])\n",
      " |\n",
      " |  squeeze(...)\n",
      " |      a.squeeze(axis=None)\n",
      " |\n",
      " |      Remove axes of length one from `a`.\n",
      " |\n",
      " |      Refer to `numpy.squeeze` for full documentation.\n",
      " |\n",
      " |      See Also\n",
      " |      --------\n",
      " |      numpy.squeeze : equivalent function\n",
      " |\n",
      " |  std(...)\n",
      " |      a.std(axis=None, dtype=None, out=None, ddof=0, keepdims=False, *, where=True)\n",
      " |\n",
      " |      Returns the standard deviation of the array elements along given axis.\n",
      " |\n",
      " |      Refer to `numpy.std` for full documentation.\n",
      " |\n",
      " |      See Also\n",
      " |      --------\n",
      " |      numpy.std : equivalent function\n",
      " |\n",
      " |  sum(...)\n",
      " |      a.sum(axis=None, dtype=None, out=None, keepdims=False, initial=0, where=True)\n",
      " |\n",
      " |      Return the sum of the array elements over the given axis.\n",
      " |\n",
      " |      Refer to `numpy.sum` for full documentation.\n",
      " |\n",
      " |      See Also\n",
      " |      --------\n",
      " |      numpy.sum : equivalent function\n",
      " |\n",
      " |  swapaxes(...)\n",
      " |      a.swapaxes(axis1, axis2)\n",
      " |\n",
      " |      Return a view of the array with `axis1` and `axis2` interchanged.\n",
      " |\n",
      " |      Refer to `numpy.swapaxes` for full documentation.\n",
      " |\n",
      " |      See Also\n",
      " |      --------\n",
      " |      numpy.swapaxes : equivalent function\n",
      " |\n",
      " |  take(...)\n",
      " |      a.take(indices, axis=None, out=None, mode='raise')\n",
      " |\n",
      " |      Return an array formed from the elements of `a` at the given indices.\n",
      " |\n",
      " |      Refer to `numpy.take` for full documentation.\n",
      " |\n",
      " |      See Also\n",
      " |      --------\n",
      " |      numpy.take : equivalent function\n",
      " |\n",
      " |  tobytes(...)\n",
      " |      a.tobytes(order='C')\n",
      " |\n",
      " |      Construct Python bytes containing the raw data bytes in the array.\n",
      " |\n",
      " |      Constructs Python bytes showing a copy of the raw contents of\n",
      " |      data memory. The bytes object is produced in C-order by default.\n",
      " |      This behavior is controlled by the ``order`` parameter.\n",
      " |\n",
      " |      .. versionadded:: 1.9.0\n",
      " |\n",
      " |      Parameters\n",
      " |      ----------\n",
      " |      order : {'C', 'F', 'A'}, optional\n",
      " |          Controls the memory layout of the bytes object. 'C' means C-order,\n",
      " |          'F' means F-order, 'A' (short for *Any*) means 'F' if `a` is\n",
      " |          Fortran contiguous, 'C' otherwise. Default is 'C'.\n",
      " |\n",
      " |      Returns\n",
      " |      -------\n",
      " |      s : bytes\n",
      " |          Python bytes exhibiting a copy of `a`'s raw data.\n",
      " |\n",
      " |      See also\n",
      " |      --------\n",
      " |      frombuffer\n",
      " |          Inverse of this operation, construct a 1-dimensional array from Python\n",
      " |          bytes.\n",
      " |\n",
      " |      Examples\n",
      " |      --------\n",
      " |      >>> x = np.array([[0, 1], [2, 3]], dtype='<u2')\n",
      " |      >>> x.tobytes()\n",
      " |      b'\\x00\\x00\\x01\\x00\\x02\\x00\\x03\\x00'\n",
      " |      >>> x.tobytes('C') == x.tobytes()\n",
      " |      True\n",
      " |      >>> x.tobytes('F')\n",
      " |      b'\\x00\\x00\\x02\\x00\\x01\\x00\\x03\\x00'\n",
      " |\n",
      " |  tofile(...)\n",
      " |      a.tofile(fid, sep=\"\", format=\"%s\")\n",
      " |\n",
      " |      Write array to a file as text or binary (default).\n",
      " |\n",
      " |      Data is always written in 'C' order, independent of the order of `a`.\n",
      " |      The data produced by this method can be recovered using the function\n",
      " |      fromfile().\n",
      " |\n",
      " |      Parameters\n",
      " |      ----------\n",
      " |      fid : file or str or Path\n",
      " |          An open file object, or a string containing a filename.\n",
      " |\n",
      " |          .. versionchanged:: 1.17.0\n",
      " |              `pathlib.Path` objects are now accepted.\n",
      " |\n",
      " |      sep : str\n",
      " |          Separator between array items for text output.\n",
      " |          If \"\" (empty), a binary file is written, equivalent to\n",
      " |          ``file.write(a.tobytes())``.\n",
      " |      format : str\n",
      " |          Format string for text file output.\n",
      " |          Each entry in the array is formatted to text by first converting\n",
      " |          it to the closest Python type, and then using \"format\" % item.\n",
      " |\n",
      " |      Notes\n",
      " |      -----\n",
      " |      This is a convenience function for quick storage of array data.\n",
      " |      Information on endianness and precision is lost, so this method is not a\n",
      " |      good choice for files intended to archive data or transport data between\n",
      " |      machines with different endianness. Some of these problems can be overcome\n",
      " |      by outputting the data as text files, at the expense of speed and file\n",
      " |      size.\n",
      " |\n",
      " |      When fid is a file object, array contents are directly written to the\n",
      " |      file, bypassing the file object's ``write`` method. As a result, tofile\n",
      " |      cannot be used with files objects supporting compression (e.g., GzipFile)\n",
      " |      or file-like objects that do not support ``fileno()`` (e.g., BytesIO).\n",
      " |\n",
      " |  tolist(...)\n",
      " |      a.tolist()\n",
      " |\n",
      " |      Return the array as an ``a.ndim``-levels deep nested list of Python scalars.\n",
      " |\n",
      " |      Return a copy of the array data as a (nested) Python list.\n",
      " |      Data items are converted to the nearest compatible builtin Python type, via\n",
      " |      the `~numpy.ndarray.item` function.\n",
      " |\n",
      " |      If ``a.ndim`` is 0, then since the depth of the nested list is 0, it will\n",
      " |      not be a list at all, but a simple Python scalar.\n",
      " |\n",
      " |      Parameters\n",
      " |      ----------\n",
      " |      none\n",
      " |\n",
      " |      Returns\n",
      " |      -------\n",
      " |      y : object, or list of object, or list of list of object, or ...\n",
      " |          The possibly nested list of array elements.\n",
      " |\n",
      " |      Notes\n",
      " |      -----\n",
      " |      The array may be recreated via ``a = np.array(a.tolist())``, although this\n",
      " |      may sometimes lose precision.\n",
      " |\n",
      " |      Examples\n",
      " |      --------\n",
      " |      For a 1D array, ``a.tolist()`` is almost the same as ``list(a)``,\n",
      " |      except that ``tolist`` changes numpy scalars to Python scalars:\n",
      " |\n",
      " |      >>> a = np.uint32([1, 2])\n",
      " |      >>> a_list = list(a)\n",
      " |      >>> a_list\n",
      " |      [1, 2]\n",
      " |      >>> type(a_list[0])\n",
      " |      <class 'numpy.uint32'>\n",
      " |      >>> a_tolist = a.tolist()\n",
      " |      >>> a_tolist\n",
      " |      [1, 2]\n",
      " |      >>> type(a_tolist[0])\n",
      " |      <class 'int'>\n",
      " |\n",
      " |      Additionally, for a 2D array, ``tolist`` applies recursively:\n",
      " |\n",
      " |      >>> a = np.array([[1, 2], [3, 4]])\n",
      " |      >>> list(a)\n",
      " |      [array([1, 2]), array([3, 4])]\n",
      " |      >>> a.tolist()\n",
      " |      [[1, 2], [3, 4]]\n",
      " |\n",
      " |      The base case for this recursion is a 0D array:\n",
      " |\n",
      " |      >>> a = np.array(1)\n",
      " |      >>> list(a)\n",
      " |      Traceback (most recent call last):\n",
      " |        ...\n",
      " |      TypeError: iteration over a 0-d array\n",
      " |      >>> a.tolist()\n",
      " |      1\n",
      " |\n",
      " |  tostring(...)\n",
      " |      a.tostring(order='C')\n",
      " |\n",
      " |      A compatibility alias for `tobytes`, with exactly the same behavior.\n",
      " |\n",
      " |      Despite its name, it returns `bytes` not `str`\\ s.\n",
      " |\n",
      " |      .. deprecated:: 1.19.0\n",
      " |\n",
      " |  trace(...)\n",
      " |      a.trace(offset=0, axis1=0, axis2=1, dtype=None, out=None)\n",
      " |\n",
      " |      Return the sum along diagonals of the array.\n",
      " |\n",
      " |      Refer to `numpy.trace` for full documentation.\n",
      " |\n",
      " |      See Also\n",
      " |      --------\n",
      " |      numpy.trace : equivalent function\n",
      " |\n",
      " |  transpose(...)\n",
      " |      a.transpose(*axes)\n",
      " |\n",
      " |      Returns a view of the array with axes transposed.\n",
      " |\n",
      " |      Refer to `numpy.transpose` for full documentation.\n",
      " |\n",
      " |      Parameters\n",
      " |      ----------\n",
      " |      axes : None, tuple of ints, or `n` ints\n",
      " |\n",
      " |       * None or no argument: reverses the order of the axes.\n",
      " |\n",
      " |       * tuple of ints: `i` in the `j`-th place in the tuple means that the\n",
      " |         array's `i`-th axis becomes the transposed array's `j`-th axis.\n",
      " |\n",
      " |       * `n` ints: same as an n-tuple of the same ints (this form is\n",
      " |         intended simply as a \"convenience\" alternative to the tuple form).\n",
      " |\n",
      " |      Returns\n",
      " |      -------\n",
      " |      p : ndarray\n",
      " |          View of the array with its axes suitably permuted.\n",
      " |\n",
      " |      See Also\n",
      " |      --------\n",
      " |      transpose : Equivalent function.\n",
      " |      ndarray.T : Array property returning the array transposed.\n",
      " |      ndarray.reshape : Give a new shape to an array without changing its data.\n",
      " |\n",
      " |      Examples\n",
      " |      --------\n",
      " |      >>> a = np.array([[1, 2], [3, 4]])\n",
      " |      >>> a\n",
      " |      array([[1, 2],\n",
      " |             [3, 4]])\n",
      " |      >>> a.transpose()\n",
      " |      array([[1, 3],\n",
      " |             [2, 4]])\n",
      " |      >>> a.transpose((1, 0))\n",
      " |      array([[1, 3],\n",
      " |             [2, 4]])\n",
      " |      >>> a.transpose(1, 0)\n",
      " |      array([[1, 3],\n",
      " |             [2, 4]])\n",
      " |\n",
      " |      >>> a = np.array([1, 2, 3, 4])\n",
      " |      >>> a\n",
      " |      array([1, 2, 3, 4])\n",
      " |      >>> a.transpose()\n",
      " |      array([1, 2, 3, 4])\n",
      " |\n",
      " |  var(...)\n",
      " |      a.var(axis=None, dtype=None, out=None, ddof=0, keepdims=False, *, where=True)\n",
      " |\n",
      " |      Returns the variance of the array elements, along given axis.\n",
      " |\n",
      " |      Refer to `numpy.var` for full documentation.\n",
      " |\n",
      " |      See Also\n",
      " |      --------\n",
      " |      numpy.var : equivalent function\n",
      " |\n",
      " |  view(...)\n",
      " |      a.view([dtype][, type])\n",
      " |\n",
      " |      New view of array with the same data.\n",
      " |\n",
      " |      .. note::\n",
      " |          Passing None for ``dtype`` is different from omitting the parameter,\n",
      " |          since the former invokes ``dtype(None)`` which is an alias for\n",
      " |          ``dtype('float_')``.\n",
      " |\n",
      " |      Parameters\n",
      " |      ----------\n",
      " |      dtype : data-type or ndarray sub-class, optional\n",
      " |          Data-type descriptor of the returned view, e.g., float32 or int16.\n",
      " |          Omitting it results in the view having the same data-type as `a`.\n",
      " |          This argument can also be specified as an ndarray sub-class, which\n",
      " |          then specifies the type of the returned object (this is equivalent to\n",
      " |          setting the ``type`` parameter).\n",
      " |      type : Python type, optional\n",
      " |          Type of the returned view, e.g., ndarray or matrix.  Again, omission\n",
      " |          of the parameter results in type preservation.\n",
      " |\n",
      " |      Notes\n",
      " |      -----\n",
      " |      ``a.view()`` is used two different ways:\n",
      " |\n",
      " |      ``a.view(some_dtype)`` or ``a.view(dtype=some_dtype)`` constructs a view\n",
      " |      of the array's memory with a different data-type.  This can cause a\n",
      " |      reinterpretation of the bytes of memory.\n",
      " |\n",
      " |      ``a.view(ndarray_subclass)`` or ``a.view(type=ndarray_subclass)`` just\n",
      " |      returns an instance of `ndarray_subclass` that looks at the same array\n",
      " |      (same shape, dtype, etc.)  This does not cause a reinterpretation of the\n",
      " |      memory.\n",
      " |\n",
      " |      For ``a.view(some_dtype)``, if ``some_dtype`` has a different number of\n",
      " |      bytes per entry than the previous dtype (for example, converting a regular\n",
      " |      array to a structured array), then the last axis of ``a`` must be\n",
      " |      contiguous. This axis will be resized in the result.\n",
      " |\n",
      " |      .. versionchanged:: 1.23.0\n",
      " |         Only the last axis needs to be contiguous. Previously, the entire array\n",
      " |         had to be C-contiguous.\n",
      " |\n",
      " |      Examples\n",
      " |      --------\n",
      " |      >>> x = np.array([(1, 2)], dtype=[('a', np.int8), ('b', np.int8)])\n",
      " |\n",
      " |      Viewing array data using a different type and dtype:\n",
      " |\n",
      " |      >>> y = x.view(dtype=np.int16, type=np.matrix)\n",
      " |      >>> y\n",
      " |      matrix([[513]], dtype=int16)\n",
      " |      >>> print(type(y))\n",
      " |      <class 'numpy.matrix'>\n",
      " |\n",
      " |      Creating a view on a structured array so it can be used in calculations\n",
      " |\n",
      " |      >>> x = np.array([(1, 2),(3,4)], dtype=[('a', np.int8), ('b', np.int8)])\n",
      " |      >>> xv = x.view(dtype=np.int8).reshape(-1,2)\n",
      " |      >>> xv\n",
      " |      array([[1, 2],\n",
      " |             [3, 4]], dtype=int8)\n",
      " |      >>> xv.mean(0)\n",
      " |      array([2.,  3.])\n",
      " |\n",
      " |      Making changes to the view changes the underlying array\n",
      " |\n",
      " |      >>> xv[0,1] = 20\n",
      " |      >>> x\n",
      " |      array([(1, 20), (3,  4)], dtype=[('a', 'i1'), ('b', 'i1')])\n",
      " |\n",
      " |      Using a view to convert an array to a recarray:\n",
      " |\n",
      " |      >>> z = x.view(np.recarray)\n",
      " |      >>> z.a\n",
      " |      array([1, 3], dtype=int8)\n",
      " |\n",
      " |      Views share data:\n",
      " |\n",
      " |      >>> x[0] = (9, 10)\n",
      " |      >>> z[0]\n",
      " |      (9, 10)\n",
      " |\n",
      " |      Views that change the dtype size (bytes per entry) should normally be\n",
      " |      avoided on arrays defined by slices, transposes, fortran-ordering, etc.:\n",
      " |\n",
      " |      >>> x = np.array([[1, 2, 3], [4, 5, 6]], dtype=np.int16)\n",
      " |      >>> y = x[:, ::2]\n",
      " |      >>> y\n",
      " |      array([[1, 3],\n",
      " |             [4, 6]], dtype=int16)\n",
      " |      >>> y.view(dtype=[('width', np.int16), ('length', np.int16)])\n",
      " |      Traceback (most recent call last):\n",
      " |          ...\n",
      " |      ValueError: To change to a dtype of a different size, the last axis must be contiguous\n",
      " |      >>> z = y.copy()\n",
      " |      >>> z.view(dtype=[('width', np.int16), ('length', np.int16)])\n",
      " |      array([[(1, 3)],\n",
      " |             [(4, 6)]], dtype=[('width', '<i2'), ('length', '<i2')])\n",
      " |\n",
      " |      However, views that change dtype are totally fine for arrays with a\n",
      " |      contiguous last axis, even if the rest of the axes are not C-contiguous:\n",
      " |\n",
      " |      >>> x = np.arange(2 * 3 * 4, dtype=np.int8).reshape(2, 3, 4)\n",
      " |      >>> x.transpose(1, 0, 2).view(np.int16)\n",
      " |      array([[[ 256,  770],\n",
      " |              [3340, 3854]],\n",
      " |      <BLANKLINE>\n",
      " |             [[1284, 1798],\n",
      " |              [4368, 4882]],\n",
      " |      <BLANKLINE>\n",
      " |             [[2312, 2826],\n",
      " |              [5396, 5910]]], dtype=int16)\n",
      " |\n",
      " |  ----------------------------------------------------------------------\n",
      " |  Class methods defined here:\n",
      " |\n",
      " |  __class_getitem__(...)\n",
      " |      a.__class_getitem__(item, /)\n",
      " |\n",
      " |      Return a parametrized wrapper around the `~numpy.ndarray` type.\n",
      " |\n",
      " |      .. versionadded:: 1.22\n",
      " |\n",
      " |      Returns\n",
      " |      -------\n",
      " |      alias : types.GenericAlias\n",
      " |          A parametrized `~numpy.ndarray` type.\n",
      " |\n",
      " |      Examples\n",
      " |      --------\n",
      " |      >>> from typing import Any\n",
      " |      >>> import numpy as np\n",
      " |\n",
      " |      >>> np.ndarray[Any, np.dtype[Any]]\n",
      " |      numpy.ndarray[typing.Any, numpy.dtype[typing.Any]]\n",
      " |\n",
      " |      See Also\n",
      " |      --------\n",
      " |      :pep:`585` : Type hinting generics in standard collections.\n",
      " |      numpy.typing.NDArray : An ndarray alias :term:`generic <generic type>`\n",
      " |                          w.r.t. its `dtype.type <numpy.dtype.type>`.\n",
      " |\n",
      " |  ----------------------------------------------------------------------\n",
      " |  Static methods defined here:\n",
      " |\n",
      " |  __new__(*args, **kwargs)\n",
      " |      Create and return a new object.  See help(type) for accurate signature.\n",
      " |\n",
      " |  ----------------------------------------------------------------------\n",
      " |  Data descriptors defined here:\n",
      " |\n",
      " |  T\n",
      " |      View of the transposed array.\n",
      " |\n",
      " |      Same as ``self.transpose()``.\n",
      " |\n",
      " |      Examples\n",
      " |      --------\n",
      " |      >>> a = np.array([[1, 2], [3, 4]])\n",
      " |      >>> a\n",
      " |      array([[1, 2],\n",
      " |             [3, 4]])\n",
      " |      >>> a.T\n",
      " |      array([[1, 3],\n",
      " |             [2, 4]])\n",
      " |\n",
      " |      >>> a = np.array([1, 2, 3, 4])\n",
      " |      >>> a\n",
      " |      array([1, 2, 3, 4])\n",
      " |      >>> a.T\n",
      " |      array([1, 2, 3, 4])\n",
      " |\n",
      " |      See Also\n",
      " |      --------\n",
      " |      transpose\n",
      " |\n",
      " |  __array_interface__\n",
      " |      Array protocol: Python side.\n",
      " |\n",
      " |  __array_priority__\n",
      " |      Array priority.\n",
      " |\n",
      " |  __array_struct__\n",
      " |      Array protocol: C-struct side.\n",
      " |\n",
      " |  base\n",
      " |      Base object if memory is from some other object.\n",
      " |\n",
      " |      Examples\n",
      " |      --------\n",
      " |      The base of an array that owns its memory is None:\n",
      " |\n",
      " |      >>> x = np.array([1,2,3,4])\n",
      " |      >>> x.base is None\n",
      " |      True\n",
      " |\n",
      " |      Slicing creates a view, whose memory is shared with x:\n",
      " |\n",
      " |      >>> y = x[2:]\n",
      " |      >>> y.base is x\n",
      " |      True\n",
      " |\n",
      " |  ctypes\n",
      " |      An object to simplify the interaction of the array with the ctypes\n",
      " |      module.\n",
      " |\n",
      " |      This attribute creates an object that makes it easier to use arrays\n",
      " |      when calling shared libraries with the ctypes module. The returned\n",
      " |      object has, among others, data, shape, and strides attributes (see\n",
      " |      Notes below) which themselves return ctypes objects that can be used\n",
      " |      as arguments to a shared library.\n",
      " |\n",
      " |      Parameters\n",
      " |      ----------\n",
      " |      None\n",
      " |\n",
      " |      Returns\n",
      " |      -------\n",
      " |      c : Python object\n",
      " |          Possessing attributes data, shape, strides, etc.\n",
      " |\n",
      " |      See Also\n",
      " |      --------\n",
      " |      numpy.ctypeslib\n",
      " |\n",
      " |      Notes\n",
      " |      -----\n",
      " |      Below are the public attributes of this object which were documented\n",
      " |      in \"Guide to NumPy\" (we have omitted undocumented public attributes,\n",
      " |      as well as documented private attributes):\n",
      " |\n",
      " |      .. autoattribute:: numpy.core._internal._ctypes.data\n",
      " |          :noindex:\n",
      " |\n",
      " |      .. autoattribute:: numpy.core._internal._ctypes.shape\n",
      " |          :noindex:\n",
      " |\n",
      " |      .. autoattribute:: numpy.core._internal._ctypes.strides\n",
      " |          :noindex:\n",
      " |\n",
      " |      .. automethod:: numpy.core._internal._ctypes.data_as\n",
      " |          :noindex:\n",
      " |\n",
      " |      .. automethod:: numpy.core._internal._ctypes.shape_as\n",
      " |          :noindex:\n",
      " |\n",
      " |      .. automethod:: numpy.core._internal._ctypes.strides_as\n",
      " |          :noindex:\n",
      " |\n",
      " |      If the ctypes module is not available, then the ctypes attribute\n",
      " |      of array objects still returns something useful, but ctypes objects\n",
      " |      are not returned and errors may be raised instead. In particular,\n",
      " |      the object will still have the ``as_parameter`` attribute which will\n",
      " |      return an integer equal to the data attribute.\n",
      " |\n",
      " |      Examples\n",
      " |      --------\n",
      " |      >>> import ctypes\n",
      " |      >>> x = np.array([[0, 1], [2, 3]], dtype=np.int32)\n",
      " |      >>> x\n",
      " |      array([[0, 1],\n",
      " |             [2, 3]], dtype=int32)\n",
      " |      >>> x.ctypes.data\n",
      " |      31962608 # may vary\n",
      " |      >>> x.ctypes.data_as(ctypes.POINTER(ctypes.c_uint32))\n",
      " |      <__main__.LP_c_uint object at 0x7ff2fc1fc200> # may vary\n",
      " |      >>> x.ctypes.data_as(ctypes.POINTER(ctypes.c_uint32)).contents\n",
      " |      c_uint(0)\n",
      " |      >>> x.ctypes.data_as(ctypes.POINTER(ctypes.c_uint64)).contents\n",
      " |      c_ulong(4294967296)\n",
      " |      >>> x.ctypes.shape\n",
      " |      <numpy.core._internal.c_long_Array_2 object at 0x7ff2fc1fce60> # may vary\n",
      " |      >>> x.ctypes.strides\n",
      " |      <numpy.core._internal.c_long_Array_2 object at 0x7ff2fc1ff320> # may vary\n",
      " |\n",
      " |  data\n",
      " |      Python buffer object pointing to the start of the array's data.\n",
      " |\n",
      " |  dtype\n",
      " |      Data-type of the array's elements.\n",
      " |\n",
      " |      .. warning::\n",
      " |\n",
      " |          Setting ``arr.dtype`` is discouraged and may be deprecated in the\n",
      " |          future.  Setting will replace the ``dtype`` without modifying the\n",
      " |          memory (see also `ndarray.view` and `ndarray.astype`).\n",
      " |\n",
      " |      Parameters\n",
      " |      ----------\n",
      " |      None\n",
      " |\n",
      " |      Returns\n",
      " |      -------\n",
      " |      d : numpy dtype object\n",
      " |\n",
      " |      See Also\n",
      " |      --------\n",
      " |      ndarray.astype : Cast the values contained in the array to a new data-type.\n",
      " |      ndarray.view : Create a view of the same data but a different data-type.\n",
      " |      numpy.dtype\n",
      " |\n",
      " |      Examples\n",
      " |      --------\n",
      " |      >>> x\n",
      " |      array([[0, 1],\n",
      " |             [2, 3]])\n",
      " |      >>> x.dtype\n",
      " |      dtype('int32')\n",
      " |      >>> type(x.dtype)\n",
      " |      <type 'numpy.dtype'>\n",
      " |\n",
      " |  flags\n",
      " |      Information about the memory layout of the array.\n",
      " |\n",
      " |      Attributes\n",
      " |      ----------\n",
      " |      C_CONTIGUOUS (C)\n",
      " |          The data is in a single, C-style contiguous segment.\n",
      " |      F_CONTIGUOUS (F)\n",
      " |          The data is in a single, Fortran-style contiguous segment.\n",
      " |      OWNDATA (O)\n",
      " |          The array owns the memory it uses or borrows it from another object.\n",
      " |      WRITEABLE (W)\n",
      " |          The data area can be written to.  Setting this to False locks\n",
      " |          the data, making it read-only.  A view (slice, etc.) inherits WRITEABLE\n",
      " |          from its base array at creation time, but a view of a writeable\n",
      " |          array may be subsequently locked while the base array remains writeable.\n",
      " |          (The opposite is not true, in that a view of a locked array may not\n",
      " |          be made writeable.  However, currently, locking a base object does not\n",
      " |          lock any views that already reference it, so under that circumstance it\n",
      " |          is possible to alter the contents of a locked array via a previously\n",
      " |          created writeable view onto it.)  Attempting to change a non-writeable\n",
      " |          array raises a RuntimeError exception.\n",
      " |      ALIGNED (A)\n",
      " |          The data and all elements are aligned appropriately for the hardware.\n",
      " |      WRITEBACKIFCOPY (X)\n",
      " |          This array is a copy of some other array. The C-API function\n",
      " |          PyArray_ResolveWritebackIfCopy must be called before deallocating\n",
      " |          to the base array will be updated with the contents of this array.\n",
      " |      FNC\n",
      " |          F_CONTIGUOUS and not C_CONTIGUOUS.\n",
      " |      FORC\n",
      " |          F_CONTIGUOUS or C_CONTIGUOUS (one-segment test).\n",
      " |      BEHAVED (B)\n",
      " |          ALIGNED and WRITEABLE.\n",
      " |      CARRAY (CA)\n",
      " |          BEHAVED and C_CONTIGUOUS.\n",
      " |      FARRAY (FA)\n",
      " |          BEHAVED and F_CONTIGUOUS and not C_CONTIGUOUS.\n",
      " |\n",
      " |      Notes\n",
      " |      -----\n",
      " |      The `flags` object can be accessed dictionary-like (as in ``a.flags['WRITEABLE']``),\n",
      " |      or by using lowercased attribute names (as in ``a.flags.writeable``). Short flag\n",
      " |      names are only supported in dictionary access.\n",
      " |\n",
      " |      Only the WRITEBACKIFCOPY, WRITEABLE, and ALIGNED flags can be\n",
      " |      changed by the user, via direct assignment to the attribute or dictionary\n",
      " |      entry, or by calling `ndarray.setflags`.\n",
      " |\n",
      " |      The array flags cannot be set arbitrarily:\n",
      " |\n",
      " |      - WRITEBACKIFCOPY can only be set ``False``.\n",
      " |      - ALIGNED can only be set ``True`` if the data is truly aligned.\n",
      " |      - WRITEABLE can only be set ``True`` if the array owns its own memory\n",
      " |        or the ultimate owner of the memory exposes a writeable buffer\n",
      " |        interface or is a string.\n",
      " |\n",
      " |      Arrays can be both C-style and Fortran-style contiguous simultaneously.\n",
      " |      This is clear for 1-dimensional arrays, but can also be true for higher\n",
      " |      dimensional arrays.\n",
      " |\n",
      " |      Even for contiguous arrays a stride for a given dimension\n",
      " |      ``arr.strides[dim]`` may be *arbitrary* if ``arr.shape[dim] == 1``\n",
      " |      or the array has no elements.\n",
      " |      It does *not* generally hold that ``self.strides[-1] == self.itemsize``\n",
      " |      for C-style contiguous arrays or ``self.strides[0] == self.itemsize`` for\n",
      " |      Fortran-style contiguous arrays is true.\n",
      " |\n",
      " |  flat\n",
      " |      A 1-D iterator over the array.\n",
      " |\n",
      " |      This is a `numpy.flatiter` instance, which acts similarly to, but is not\n",
      " |      a subclass of, Python's built-in iterator object.\n",
      " |\n",
      " |      See Also\n",
      " |      --------\n",
      " |      flatten : Return a copy of the array collapsed into one dimension.\n",
      " |\n",
      " |      flatiter\n",
      " |\n",
      " |      Examples\n",
      " |      --------\n",
      " |      >>> x = np.arange(1, 7).reshape(2, 3)\n",
      " |      >>> x\n",
      " |      array([[1, 2, 3],\n",
      " |             [4, 5, 6]])\n",
      " |      >>> x.flat[3]\n",
      " |      4\n",
      " |      >>> x.T\n",
      " |      array([[1, 4],\n",
      " |             [2, 5],\n",
      " |             [3, 6]])\n",
      " |      >>> x.T.flat[3]\n",
      " |      5\n",
      " |      >>> type(x.flat)\n",
      " |      <class 'numpy.flatiter'>\n",
      " |\n",
      " |      An assignment example:\n",
      " |\n",
      " |      >>> x.flat = 3; x\n",
      " |      array([[3, 3, 3],\n",
      " |             [3, 3, 3]])\n",
      " |      >>> x.flat[[1,4]] = 1; x\n",
      " |      array([[3, 1, 3],\n",
      " |             [3, 1, 3]])\n",
      " |\n",
      " |  imag\n",
      " |      The imaginary part of the array.\n",
      " |\n",
      " |      Examples\n",
      " |      --------\n",
      " |      >>> x = np.sqrt([1+0j, 0+1j])\n",
      " |      >>> x.imag\n",
      " |      array([ 0.        ,  0.70710678])\n",
      " |      >>> x.imag.dtype\n",
      " |      dtype('float64')\n",
      " |\n",
      " |  itemsize\n",
      " |      Length of one array element in bytes.\n",
      " |\n",
      " |      Examples\n",
      " |      --------\n",
      " |      >>> x = np.array([1,2,3], dtype=np.float64)\n",
      " |      >>> x.itemsize\n",
      " |      8\n",
      " |      >>> x = np.array([1,2,3], dtype=np.complex128)\n",
      " |      >>> x.itemsize\n",
      " |      16\n",
      " |\n",
      " |  nbytes\n",
      " |      Total bytes consumed by the elements of the array.\n",
      " |\n",
      " |      Notes\n",
      " |      -----\n",
      " |      Does not include memory consumed by non-element attributes of the\n",
      " |      array object.\n",
      " |\n",
      " |      See Also\n",
      " |      --------\n",
      " |      sys.getsizeof\n",
      " |          Memory consumed by the object itself without parents in case view.\n",
      " |          This does include memory consumed by non-element attributes.\n",
      " |\n",
      " |      Examples\n",
      " |      --------\n",
      " |      >>> x = np.zeros((3,5,2), dtype=np.complex128)\n",
      " |      >>> x.nbytes\n",
      " |      480\n",
      " |      >>> np.prod(x.shape) * x.itemsize\n",
      " |      480\n",
      " |\n",
      " |  ndim\n",
      " |      Number of array dimensions.\n",
      " |\n",
      " |      Examples\n",
      " |      --------\n",
      " |      >>> x = np.array([1, 2, 3])\n",
      " |      >>> x.ndim\n",
      " |      1\n",
      " |      >>> y = np.zeros((2, 3, 4))\n",
      " |      >>> y.ndim\n",
      " |      3\n",
      " |\n",
      " |  real\n",
      " |      The real part of the array.\n",
      " |\n",
      " |      Examples\n",
      " |      --------\n",
      " |      >>> x = np.sqrt([1+0j, 0+1j])\n",
      " |      >>> x.real\n",
      " |      array([ 1.        ,  0.70710678])\n",
      " |      >>> x.real.dtype\n",
      " |      dtype('float64')\n",
      " |\n",
      " |      See Also\n",
      " |      --------\n",
      " |      numpy.real : equivalent function\n",
      " |\n",
      " |  shape\n",
      " |      Tuple of array dimensions.\n",
      " |\n",
      " |      The shape property is usually used to get the current shape of an array,\n",
      " |      but may also be used to reshape the array in-place by assigning a tuple of\n",
      " |      array dimensions to it.  As with `numpy.reshape`, one of the new shape\n",
      " |      dimensions can be -1, in which case its value is inferred from the size of\n",
      " |      the array and the remaining dimensions. Reshaping an array in-place will\n",
      " |      fail if a copy is required.\n",
      " |\n",
      " |      .. warning::\n",
      " |\n",
      " |          Setting ``arr.shape`` is discouraged and may be deprecated in the\n",
      " |          future.  Using `ndarray.reshape` is the preferred approach.\n",
      " |\n",
      " |      Examples\n",
      " |      --------\n",
      " |      >>> x = np.array([1, 2, 3, 4])\n",
      " |      >>> x.shape\n",
      " |      (4,)\n",
      " |      >>> y = np.zeros((2, 3, 4))\n",
      " |      >>> y.shape\n",
      " |      (2, 3, 4)\n",
      " |      >>> y.shape = (3, 8)\n",
      " |      >>> y\n",
      " |      array([[ 0.,  0.,  0.,  0.,  0.,  0.,  0.,  0.],\n",
      " |             [ 0.,  0.,  0.,  0.,  0.,  0.,  0.,  0.],\n",
      " |             [ 0.,  0.,  0.,  0.,  0.,  0.,  0.,  0.]])\n",
      " |      >>> y.shape = (3, 6)\n",
      " |      Traceback (most recent call last):\n",
      " |        File \"<stdin>\", line 1, in <module>\n",
      " |      ValueError: total size of new array must be unchanged\n",
      " |      >>> np.zeros((4,2))[::2].shape = (-1,)\n",
      " |      Traceback (most recent call last):\n",
      " |        File \"<stdin>\", line 1, in <module>\n",
      " |      AttributeError: Incompatible shape for in-place modification. Use\n",
      " |      `.reshape()` to make a copy with the desired shape.\n",
      " |\n",
      " |      See Also\n",
      " |      --------\n",
      " |      numpy.shape : Equivalent getter function.\n",
      " |      numpy.reshape : Function similar to setting ``shape``.\n",
      " |      ndarray.reshape : Method similar to setting ``shape``.\n",
      " |\n",
      " |  size\n",
      " |      Number of elements in the array.\n",
      " |\n",
      " |      Equal to ``np.prod(a.shape)``, i.e., the product of the array's\n",
      " |      dimensions.\n",
      " |\n",
      " |      Notes\n",
      " |      -----\n",
      " |      `a.size` returns a standard arbitrary precision Python integer. This\n",
      " |      may not be the case with other methods of obtaining the same value\n",
      " |      (like the suggested ``np.prod(a.shape)``, which returns an instance\n",
      " |      of ``np.int_``), and may be relevant if the value is used further in\n",
      " |      calculations that may overflow a fixed size integer type.\n",
      " |\n",
      " |      Examples\n",
      " |      --------\n",
      " |      >>> x = np.zeros((3, 5, 2), dtype=np.complex128)\n",
      " |      >>> x.size\n",
      " |      30\n",
      " |      >>> np.prod(x.shape)\n",
      " |      30\n",
      " |\n",
      " |  strides\n",
      " |      Tuple of bytes to step in each dimension when traversing an array.\n",
      " |\n",
      " |      The byte offset of element ``(i[0], i[1], ..., i[n])`` in an array `a`\n",
      " |      is::\n",
      " |\n",
      " |          offset = sum(np.array(i) * a.strides)\n",
      " |\n",
      " |      A more detailed explanation of strides can be found in the\n",
      " |      \"ndarray.rst\" file in the NumPy reference guide.\n",
      " |\n",
      " |      .. warning::\n",
      " |\n",
      " |          Setting ``arr.strides`` is discouraged and may be deprecated in the\n",
      " |          future.  `numpy.lib.stride_tricks.as_strided` should be preferred\n",
      " |          to create a new view of the same data in a safer way.\n",
      " |\n",
      " |      Notes\n",
      " |      -----\n",
      " |      Imagine an array of 32-bit integers (each 4 bytes)::\n",
      " |\n",
      " |        x = np.array([[0, 1, 2, 3, 4],\n",
      " |                      [5, 6, 7, 8, 9]], dtype=np.int32)\n",
      " |\n",
      " |      This array is stored in memory as 40 bytes, one after the other\n",
      " |      (known as a contiguous block of memory).  The strides of an array tell\n",
      " |      us how many bytes we have to skip in memory to move to the next position\n",
      " |      along a certain axis.  For example, we have to skip 4 bytes (1 value) to\n",
      " |      move to the next column, but 20 bytes (5 values) to get to the same\n",
      " |      position in the next row.  As such, the strides for the array `x` will be\n",
      " |      ``(20, 4)``.\n",
      " |\n",
      " |      See Also\n",
      " |      --------\n",
      " |      numpy.lib.stride_tricks.as_strided\n",
      " |\n",
      " |      Examples\n",
      " |      --------\n",
      " |      >>> y = np.reshape(np.arange(2*3*4), (2,3,4))\n",
      " |      >>> y\n",
      " |      array([[[ 0,  1,  2,  3],\n",
      " |              [ 4,  5,  6,  7],\n",
      " |              [ 8,  9, 10, 11]],\n",
      " |             [[12, 13, 14, 15],\n",
      " |              [16, 17, 18, 19],\n",
      " |              [20, 21, 22, 23]]])\n",
      " |      >>> y.strides\n",
      " |      (48, 16, 4)\n",
      " |      >>> y[1,1,1]\n",
      " |      17\n",
      " |      >>> offset=sum(y.strides * np.array((1,1,1)))\n",
      " |      >>> offset/y.itemsize\n",
      " |      17\n",
      " |\n",
      " |      >>> x = np.reshape(np.arange(5*6*7*8), (5,6,7,8)).transpose(2,3,1,0)\n",
      " |      >>> x.strides\n",
      " |      (32, 4, 224, 1344)\n",
      " |      >>> i = np.array([3,5,2,2])\n",
      " |      >>> offset = sum(i * x.strides)\n",
      " |      >>> x[3,5,2,2]\n",
      " |      813\n",
      " |      >>> offset / x.itemsize\n",
      " |      813\n",
      " |\n",
      " |  ----------------------------------------------------------------------\n",
      " |  Data and other attributes defined here:\n",
      " |\n",
      " |  __hash__ = None\n",
      "\n"
     ]
    }
   ],
   "source": [
    "help(a)"
   ]
  },
  {
   "cell_type": "markdown",
   "id": "68025c1f",
   "metadata": {},
   "source": [
    "The type of an array can be forced to be different from the default. This is done by using the *dtype* keyword. For instance:"
   ]
  },
  {
   "cell_type": "code",
   "execution_count": 45,
   "id": "cf1ec200",
   "metadata": {},
   "outputs": [
    {
     "name": "stdout",
     "output_type": "stream",
     "text": [
      "int64\n"
     ]
    }
   ],
   "source": [
    "a=np.array([1,2,3,4,5], dtype=np.int64)\n",
    "print(a.dtype)"
   ]
  },
  {
   "cell_type": "code",
   "execution_count": 46,
   "id": "69cfdd7a",
   "metadata": {},
   "outputs": [
    {
     "name": "stdout",
     "output_type": "stream",
     "text": [
      "[1. 2. 3. 4. 5.]\n",
      "float64\n"
     ]
    }
   ],
   "source": [
    "b=np.array([1,2,3,4,5], dtype=float)\n",
    "print(b)\n",
    "print(b.dtype)"
   ]
  },
  {
   "cell_type": "markdown",
   "id": "0511b0ec",
   "metadata": {},
   "source": [
    "Note that: "
   ]
  },
  {
   "cell_type": "code",
   "execution_count": 47,
   "id": "42bf9c9b",
   "metadata": {},
   "outputs": [
    {
     "name": "stdout",
     "output_type": "stream",
     "text": [
      "['1' '2' '3' '4' '5']\n"
     ]
    }
   ],
   "source": [
    "c=np.array([1,2,3,4,5],dtype=str)\n",
    "print(c)"
   ]
  },
  {
   "cell_type": "markdown",
   "id": "b3c4df0d",
   "metadata": {},
   "source": [
    "#### Type conversion"
   ]
  },
  {
   "cell_type": "code",
   "execution_count": 48,
   "id": "be150127",
   "metadata": {},
   "outputs": [
    {
     "name": "stdout",
     "output_type": "stream",
     "text": [
      "Type of d_np: float64;  d_np: [1. 2. 3. 4. 5.]\n"
     ]
    }
   ],
   "source": [
    "d=[1,2,3,4,5]\n",
    "d_np=np.array(d, dtype=float)\n",
    "print(\"Type of d_np: %s;  d_np: %s\" % (d_np.dtype, d_np))"
   ]
  },
  {
   "cell_type": "markdown",
   "id": "52d75278-c92a-4a2a-a26f-fbd46cd12b8e",
   "metadata": {},
   "source": [
    "Note above that *d* was defined as a Python list (and not as a numpy array); then *d* was given as an argument to the numpy function *array*, by also specifying *dtype=float*; the function *array* produces a numpy array whose elements are floating point numbers (64 bits representation).\n",
    "\n",
    "Here we define a numpy array of integers (64 bits representation) by using the *int64* numpy function, starting from a Python list: "
   ]
  },
  {
   "cell_type": "code",
   "execution_count": 49,
   "id": "857d3dfb",
   "metadata": {},
   "outputs": [
    {
     "name": "stdout",
     "output_type": "stream",
     "text": [
      "Type: <class 'numpy.ndarray'>,  dtype: int64,  list: [1 2 3 4 5]\n"
     ]
    }
   ],
   "source": [
    "d_int64=np.int64(d)\n",
    "print(\"Type: %s,  dtype: %s,  list: %s\" % (type(d_int64), d_int64.dtype, d_int64))"
   ]
  },
  {
   "cell_type": "markdown",
   "id": "2330d968",
   "metadata": {},
   "source": [
    "#### The elements of a numpy array must be of the same type\n",
    "\n",
    "In case they are not, they are automatically converted into the appropriate type..."
   ]
  },
  {
   "cell_type": "code",
   "execution_count": 50,
   "id": "bc7fadb5",
   "metadata": {},
   "outputs": [
    {
     "name": "stdout",
     "output_type": "stream",
     "text": [
      "['1' '2.1' '3.0']\n"
     ]
    }
   ],
   "source": [
    "a=np.array([1,'2.1',3.])\n",
    "print(a)"
   ]
  },
  {
   "cell_type": "markdown",
   "id": "a6b5d2db",
   "metadata": {},
   "source": [
    "#### Possible issues with *type* (*Advanced*)\n",
    "\n",
    "Imagine that you have an integer variable $a$ that was assigned to the numer 2000, and that you have an integer variable $b$ set to 9. You want to calculate the power $a^b$, and then assign the result to the variable $c$: $c=a^b$"
   ]
  },
  {
   "cell_type": "code",
   "execution_count": 51,
   "id": "983e6bf2",
   "metadata": {},
   "outputs": [
    {
     "name": "stdout",
     "output_type": "stream",
     "text": [
      "c:  512000000000000000000000000000 type(c):  <class 'int'>\n",
      "Number of bits required to represent c:  99\n"
     ]
    }
   ],
   "source": [
    "a=2000\n",
    "b=9\n",
    "c=a**b   # **: a^b 'power' operation\n",
    "\n",
    "c_bit_len=c.bit_length()  # number of bits employed to represent c\n",
    "\n",
    "print(\"c: \", c, \"type(c): \", type(c))\n",
    "print(\"Number of bits required to represent c: \", c_bit_len)"
   ]
  },
  {
   "cell_type": "markdown",
   "id": "4d968049",
   "metadata": {},
   "source": [
    "Note that *bit_length* is a method of the class *int*. Python has virtually no limits in representing integer numbers, as the number of bits (or bytes) required in each case is chosen at *runtime* accordingly. \n",
    "\n",
    "Now, imagine that you will instead *fix* such number of bits for representing your number (let's say *b*). You can do that within *numpy* by the method *dtype*. The way is not so straightfoward, anyway:"
   ]
  },
  {
   "cell_type": "code",
   "execution_count": 52,
   "id": "863c6367",
   "metadata": {},
   "outputs": [
    {
     "name": "stdout",
     "output_type": "stream",
     "text": [
      "9 <class 'numpy.int32'>\n"
     ]
    }
   ],
   "source": [
    "# assign 9 to the variable b; \n",
    "# b is a normal Python variable of int type\n",
    "b=9\n",
    "\n",
    "# convert the type of b to a 'int32' numpy type \n",
    "b=np.dtype('int32').type(b)\n",
    "print(b, type(b))"
   ]
  },
  {
   "cell_type": "markdown",
   "id": "a157147d",
   "metadata": {},
   "source": [
    "Now, compute the power $a^b$"
   ]
  },
  {
   "cell_type": "code",
   "execution_count": 53,
   "id": "c75890bc",
   "metadata": {},
   "outputs": [
    {
     "data": {
      "text/plain": [
       "0"
      ]
     },
     "execution_count": 53,
     "metadata": {},
     "output_type": "execute_result"
    }
   ],
   "source": [
    "a**b"
   ]
  },
  {
   "cell_type": "markdown",
   "id": "e7f393eb",
   "metadata": {},
   "source": [
    "That is: a **completely wrong result!** That's because we got an *overflow*: the result of such computation is *forced* to be represented by an ***int32*** numpy number, but 32 bits are definitely not enough to do that... We verify that indeed"
   ]
  },
  {
   "cell_type": "code",
   "execution_count": 54,
   "id": "6b2ecae1",
   "metadata": {},
   "outputs": [
    {
     "data": {
      "text/plain": [
       "numpy.int32"
      ]
     },
     "execution_count": 54,
     "metadata": {},
     "output_type": "execute_result"
    }
   ],
   "source": [
    "type(a**b)"
   ]
  },
  {
   "cell_type": "markdown",
   "id": "258c6ef1",
   "metadata": {},
   "source": [
    "whereas, as we saw above, to represent $a^b$, at least 99 bits are required:"
   ]
  },
  {
   "cell_type": "code",
   "execution_count": 55,
   "id": "0b9e5333",
   "metadata": {},
   "outputs": [
    {
     "name": "stdout",
     "output_type": "stream",
     "text": [
      "99\n"
     ]
    }
   ],
   "source": [
    "a=2000\n",
    "b=9\n",
    "c=a**b\n",
    "print(c.bit_length())"
   ]
  },
  {
   "cell_type": "markdown",
   "id": "fdfb7176",
   "metadata": {},
   "source": [
    "A *workaround* is, within numpy, to declare *b* to be of type *object*; this will not put limits to the dimension of the binary representation: "
   ]
  },
  {
   "cell_type": "code",
   "execution_count": 56,
   "id": "e6813b11",
   "metadata": {},
   "outputs": [
    {
     "name": "stdout",
     "output_type": "stream",
     "text": [
      "9 <class 'int'>\n",
      "512000000000000000000000000000\n"
     ]
    }
   ],
   "source": [
    "b=np.dtype(object).type(b)\n",
    "\n",
    "print(b, type(b))\n",
    "print(a**b)"
   ]
  },
  {
   "cell_type": "markdown",
   "id": "b64d7a02",
   "metadata": {},
   "source": [
    "Where does all this *really* matter? \n",
    "\n",
    "Imagine that the exponents of your powers come from a numpy array which was initialized with just *zeroes*; then you assigned some integer numbers as elements of the array: "
   ]
  },
  {
   "cell_type": "code",
   "execution_count": 57,
   "id": "756ddf5c",
   "metadata": {},
   "outputs": [
    {
     "name": "stdout",
     "output_type": "stream",
     "text": [
      "<class 'numpy.ndarray'>\n",
      "1 <class 'numpy.int32'>\n",
      "4 <class 'numpy.int32'>\n",
      "9 <class 'numpy.int32'>\n"
     ]
    }
   ],
   "source": [
    "b=np.array([0, 0, 0])\n",
    "b[0]=1\n",
    "b[1]=4\n",
    "b[2]=9\n",
    "\n",
    "print(type(b))\n",
    "_ = [print(b[ip], type(b[ip])) for ip in range(3)]  # more on this syntax later..."
   ]
  },
  {
   "cell_type": "markdown",
   "id": "93eeb4a7",
   "metadata": {},
   "source": [
    "As you can see, the type of the elements of the array *b* was automatically set to *int32*. Now, if for instance you want to compute the sum\n",
    "$\\sum_i a^{b_i}$, you are in trouble:"
   ]
  },
  {
   "cell_type": "code",
   "execution_count": 58,
   "id": "0d31663b",
   "metadata": {},
   "outputs": [
    {
     "name": "stdout",
     "output_type": "stream",
     "text": [
      "term n.  0  -->  2000\n",
      "term n.  1  -->  1246822400\n",
      "term n.  2  -->  0\n",
      "\n",
      "Total:  1246824400\n"
     ]
    }
   ],
   "source": [
    "sum_int=0\n",
    "for ip in range(3):\n",
    "    print(\"term n. \", ip,\" --> \", a**b[ip])\n",
    "    sum_int=sum_int+a**b[ip]\n",
    "\n",
    "print(\"\\nTotal: \", sum_int)"
   ]
  },
  {
   "cell_type": "markdown",
   "id": "282746fe",
   "metadata": {},
   "source": [
    "which is a wrong result as the term number 2 is clearly in overflow. A way to proceed to get a correct result is:"
   ]
  },
  {
   "cell_type": "code",
   "execution_count": 59,
   "id": "b32e17aa",
   "metadata": {},
   "outputs": [
    {
     "name": "stdout",
     "output_type": "stream",
     "text": [
      "<class 'numpy.ndarray'>\n",
      "1 <class 'int'>\n",
      "4 <class 'int'>\n",
      "9 <class 'int'>\n",
      "term n.  0  -->  2000\n",
      "term n.  1  -->  16000000000000\n",
      "term n.  2  -->  512000000000000000000000000000\n",
      "\n",
      "Total:  512000000000000016000000002000\n"
     ]
    }
   ],
   "source": [
    "b=np.array([0, 0, 0])\n",
    "b[0]=1\n",
    "b[1]=4\n",
    "b[2]=9\n",
    "\n",
    "b=np.dtype(object).type(b)\n",
    "\n",
    "print(type(b))\n",
    "_ = [print(b[ip], type(b[ip])) for ip in range(3)]\n",
    "\n",
    "sum_int=0\n",
    "for ip in range(3):\n",
    "    print(\"term n. \", ip,\" --> \", a**b[ip])\n",
    "    sum_int=sum_int+a**b[ip]\n",
    "\n",
    "print(\"\\nTotal: \", sum_int)"
   ]
  },
  {
   "cell_type": "markdown",
   "id": "95a85895",
   "metadata": {},
   "source": [
    "Another way is to convert *a* to a *float number*, so that $a^b$ is also represented as a *float* no matter the type of *b*:  "
   ]
  },
  {
   "cell_type": "code",
   "execution_count": 60,
   "id": "15ccc939",
   "metadata": {},
   "outputs": [
    {
     "name": "stdout",
     "output_type": "stream",
     "text": [
      "term n.  0  -->  2000.0\n",
      "term n.  1  -->  16000000000000.0\n",
      "term n.  2  -->  5.12e+29\n",
      "\n",
      "Total: 5.120000000000000068032281968640e+29\n"
     ]
    }
   ],
   "source": [
    "b=np.array([0, 0, 0])\n",
    "b[0]=1\n",
    "b[1]=4\n",
    "b[2]=9\n",
    "\n",
    "a=float(a)\n",
    "\n",
    "sum_float=0.\n",
    "for ip in range(3):\n",
    "    print(\"term n. \", ip,\" --> \", a**b[ip])\n",
    "    sum_float=sum_float+a**b[ip]\n",
    "\n",
    "print(\"\\nTotal: %4.30e\" % sum_float)"
   ]
  },
  {
   "cell_type": "markdown",
   "id": "4e2e8497",
   "metadata": {},
   "source": [
    "Note however the difference between the integer *sum_int* and float *sum_float* variables... \n",
    "\n",
    "Below is a test (==) that returns a *boolean* variable (*True* or *False*) that will be discussed later: "
   ]
  },
  {
   "cell_type": "code",
   "execution_count": 61,
   "id": "757b8534",
   "metadata": {},
   "outputs": [
    {
     "name": "stdout",
     "output_type": "stream",
     "text": [
      "False\n"
     ]
    }
   ],
   "source": [
    "print(sum_int == sum_float)"
   ]
  },
  {
   "cell_type": "markdown",
   "id": "26fec6d3",
   "metadata": {},
   "source": [
    "That is, they do not have the very same value. This has to do with the *integer to float* conversion (floating point numbers are represented at most by 64 bits, but our integer variables require 99 bits); indeed, if we convert to a float number the original integer *sum_int*:"
   ]
  },
  {
   "cell_type": "code",
   "execution_count": 62,
   "id": "8f231193",
   "metadata": {},
   "outputs": [
    {
     "name": "stdout",
     "output_type": "stream",
     "text": [
      "True\n"
     ]
    }
   ],
   "source": [
    "print(float(sum_int) == sum_float)"
   ]
  },
  {
   "cell_type": "markdown",
   "id": "8e450053",
   "metadata": {},
   "source": [
    "Note that in case a much smaller number is considered, let's say 20, there is no difference in *value* between the floating point and integer representations:"
   ]
  },
  {
   "cell_type": "code",
   "execution_count": 63,
   "id": "c439a920",
   "metadata": {},
   "outputs": [
    {
     "name": "stdout",
     "output_type": "stream",
     "text": [
      "True\n"
     ]
    }
   ],
   "source": [
    "t1=20\n",
    "t2=20.\n",
    "\n",
    "print(t1 == t2)"
   ]
  },
  {
   "cell_type": "markdown",
   "id": "f9ce57ec-bb18-42f5-934e-23f42c3f37ab",
   "metadata": {},
   "source": [
    "Nevertheless *t1* and *t2* are not the same variable: they may have the same *value*, but their types are different: "
   ]
  },
  {
   "cell_type": "code",
   "execution_count": 64,
   "id": "109b5e32-26ab-453a-8c36-6c14da8b9bab",
   "metadata": {},
   "outputs": [
    {
     "data": {
      "text/plain": [
       "False"
      ]
     },
     "execution_count": 64,
     "metadata": {},
     "output_type": "execute_result"
    }
   ],
   "source": [
    "t1 is t2  # test if the two variables are the same"
   ]
  },
  {
   "cell_type": "markdown",
   "id": "803cd6b8-c4fa-4383-9a06-fe2835655ac6",
   "metadata": {},
   "source": [
    "### A case study\n",
    "\n",
    "Calculation of specific heat (*Cp*) as a function of the temperature (*T*) according to the power series expression \n",
    "\n",
    "$$Cp=C_1 T + C_2 T^2 + C_3 T^3 + C_4 T^6$$"
   ]
  },
  {
   "cell_type": "code",
   "execution_count": 65,
   "id": "413b1d82-28da-499b-b635-7552cfe4fb60",
   "metadata": {},
   "outputs": [],
   "source": [
    "import numpy as np\n",
    "\n",
    "# exponents of the power series stored as integers of a numpy array \n",
    "power=np.array([1, 2, 3, 6])\n",
    "\n",
    "# coefficients of the series stored as floating point elements of a numpy array\n",
    "coef=np.array([ 1.01881212e+00,  1.28857350e-03, -3.67679726e-06,  3.20975313e-15])\n",
    "\n",
    "# function definition:\n",
    "#          it takes the temperature as argument and\n",
    "#          returns the specific heat at that temperature\n",
    "#          as computed from the power series\n",
    "def cp(temp):\n",
    "    cp_value=0.\n",
    "    for ip in range(len(power)):\n",
    "        cp_value=cp_value+coef[ip]*temp**power[ip]\n",
    "    return cp_value "
   ]
  },
  {
   "cell_type": "markdown",
   "id": "6a72e5f3-6d03-4d33-97da-b7bbe9e5ddc8",
   "metadata": {},
   "source": [
    "Compute the specific heat at 10. and 300. K:"
   ]
  },
  {
   "cell_type": "code",
   "execution_count": 66,
   "id": "63f72607-f394-473b-a2bd-4df35f1af612",
   "metadata": {},
   "outputs": [
    {
     "name": "stdout",
     "output_type": "stream",
     "text": [
      "Cp at 10K:    10.31;  Cp at 300K:   324.68\n"
     ]
    }
   ],
   "source": [
    "cp_10=cp(10.)\n",
    "cp_300=cp(300.)\n",
    "\n",
    "print(\"Cp at 10K: %8.2f;  Cp at 300K: %8.2f\" % (cp_10, cp_300))"
   ]
  },
  {
   "cell_type": "markdown",
   "id": "6d356bfa-8f63-406e-af89-293b0cfc4a84",
   "metadata": {},
   "source": [
    "Now, suppose that instead of specifying the temperature as a floating point number, you enter it as an integer (quite common case):"
   ]
  },
  {
   "cell_type": "code",
   "execution_count": 67,
   "id": "2d521a46-f30e-4a34-9755-01ae3cb1d991",
   "metadata": {},
   "outputs": [
    {
     "name": "stdout",
     "output_type": "stream",
     "text": [
      "Cp at 10K:    10.31;  Cp at 300K:   322.34\n"
     ]
    }
   ],
   "source": [
    "cp_10=cp(10)\n",
    "cp_300=cp(300)\n",
    "\n",
    "print(\"Cp at 10K: %8.2f;  Cp at 300K: %8.2f\" % (cp_10, cp_300))"
   ]
  },
  {
   "cell_type": "markdown",
   "id": "a78344b9-84d9-47c0-9b9f-c8f8a8681a39",
   "metadata": {},
   "source": [
    "No problem at 10K (same result as before) but something strange happened at 300K! \n",
    "\n",
    "We had an overflow problem for the term $C_4T^6$ at 300K: indeed, if $T=300$ is an interger, $300^6$ is a quite large integer that requires 50 bits to be represented:"
   ]
  },
  {
   "cell_type": "code",
   "execution_count": 68,
   "id": "0cb23b2e-ff30-4c72-8c20-94e137df58c1",
   "metadata": {},
   "outputs": [
    {
     "name": "stdout",
     "output_type": "stream",
     "text": [
      "pow: 729000000000000;  bit length:  50\n"
     ]
    }
   ],
   "source": [
    "pow=300**6\n",
    "lb=pow.bit_length()\n",
    "\n",
    "print(\"pow: %15i;  bit length: %3i\" % (pow, lb))  "
   ]
  },
  {
   "cell_type": "markdown",
   "id": "c9a125a9-1442-4f48-b341-99ce1ebb9a9f",
   "metadata": {},
   "source": [
    "but, since the power 6 was from an integer numpy array, the bit length of $300^6$ can be upmost 32: "
   ]
  },
  {
   "cell_type": "code",
   "execution_count": 69,
   "id": "c7d6337b-0363-4904-84f7-0608ae553876",
   "metadata": {},
   "outputs": [
    {
     "name": "stdout",
     "output_type": "stream",
     "text": [
      "Type of pow: <class 'numpy.int32'>; value: -1979019264\n"
     ]
    }
   ],
   "source": [
    "pow=300**power[3]\n",
    "print(\"Type of pow: %s; value: %s\" % (type(pow), pow))"
   ]
  },
  {
   "cell_type": "markdown",
   "id": "280a0a02-a307-45c1-ac32-c776d560e2ae",
   "metadata": {},
   "source": [
    "The resulting number for $T^6$ clearly indicates an overflow. A way to correct a situation like this is:"
   ]
  },
  {
   "cell_type": "code",
   "execution_count": 70,
   "id": "064c053e-206e-4275-b9d5-505f0d179fda",
   "metadata": {},
   "outputs": [
    {
     "name": "stdout",
     "output_type": "stream",
     "text": [
      "Values at 300K: 324.68,  324.68\n"
     ]
    }
   ],
   "source": [
    "def cp(temp):\n",
    "    temp=float(temp)  # <--- convert an integer in float \n",
    "    cp_value=0.\n",
    "    for ip in range(len(power)):\n",
    "        cp_value=cp_value+coef[ip]*temp**power[ip]\n",
    "    return cp_value \n",
    "\n",
    "cp_300a=cp(300.)\n",
    "cp_300b=cp(300)\n",
    "\n",
    "print(\"Values at 300K: %6.2f,  %6.2f\" % (cp_300a, cp_300b))"
   ]
  },
  {
   "cell_type": "markdown",
   "id": "5b43c893-cee9-49e5-a684-fbfb8a19811b",
   "metadata": {},
   "source": [
    "------ End of the case study -------"
   ]
  },
  {
   "cell_type": "markdown",
   "id": "c8b06e3e",
   "metadata": {},
   "source": [
    "#### Summing numpy arrays *element-wise* is very easy... (arrays must have the same size)"
   ]
  },
  {
   "cell_type": "code",
   "execution_count": 71,
   "id": "e873bc88",
   "metadata": {},
   "outputs": [
    {
     "name": "stdout",
     "output_type": "stream",
     "text": [
      "[ 6  8 10 12]\n"
     ]
    }
   ],
   "source": [
    "a=np.array([1,2,3,4])\n",
    "b=np.array([5,6,7,8])\n",
    "\n",
    "c=a+b\n",
    "print(c)"
   ]
  },
  {
   "cell_type": "markdown",
   "id": "8aeae5e7-9d24-4b02-a0fb-6ddc1089370f",
   "metadata": {},
   "source": [
    "Instead, to *concatenate* the two arrays, the *append* numpy function can be used:"
   ]
  },
  {
   "cell_type": "code",
   "execution_count": 72,
   "id": "9d1c50bc-4e64-4dbb-864b-c6b7831f5041",
   "metadata": {},
   "outputs": [
    {
     "name": "stdout",
     "output_type": "stream",
     "text": [
      "[1 2 3 4 5 6 7 8]\n"
     ]
    }
   ],
   "source": [
    "c=np.append(a,b)\n",
    "print(c)"
   ]
  },
  {
   "cell_type": "markdown",
   "id": "eed88103-cc38-475c-8644-fc40041dd28b",
   "metadata": {},
   "source": [
    "Another method to concatenate two (or more) arrays is to use the numpy function *concatenate*"
   ]
  },
  {
   "cell_type": "code",
   "execution_count": 73,
   "id": "f886157b-1401-4a6d-8b5f-5b5830644d9b",
   "metadata": {},
   "outputs": [
    {
     "name": "stdout",
     "output_type": "stream",
     "text": [
      "[1 2 3 4 5 6 7 8]\n"
     ]
    }
   ],
   "source": [
    "print(np.concatenate((a,b)))"
   ]
  },
  {
   "cell_type": "markdown",
   "id": "103ddf72",
   "metadata": {},
   "source": [
    "#### Broadcasting\n",
    "\n",
    "Applying an operation (*element-wise*) to all the elements of a numpy array "
   ]
  },
  {
   "cell_type": "code",
   "execution_count": 74,
   "id": "5d043358",
   "metadata": {},
   "outputs": [
    {
     "name": "stdout",
     "output_type": "stream",
     "text": [
      "a:  [0 1 2 3 4]\n",
      "b:  [ 0 10 20 30 40]\n"
     ]
    }
   ],
   "source": [
    "a=np.array([0,1,2,3,4])\n",
    "b=a*10\n",
    "\n",
    "print(\"a: \", a)\n",
    "print(\"b: \", b)"
   ]
  },
  {
   "cell_type": "markdown",
   "id": "91722bec",
   "metadata": {},
   "source": [
    "Likewise, even a sum can be *broadcasted*:"
   ]
  },
  {
   "cell_type": "code",
   "execution_count": 75,
   "id": "3575ccf0",
   "metadata": {},
   "outputs": [
    {
     "name": "stdout",
     "output_type": "stream",
     "text": [
      "a:  [0 1 2 3 4]\n",
      "b:  [10 11 12 13 14]\n"
     ]
    }
   ],
   "source": [
    "a=np.array([0,1,2,3,4])\n",
    "b=a+10\n",
    "\n",
    "print(\"a: \", a)\n",
    "print(\"b: \", b)"
   ]
  },
  {
   "cell_type": "markdown",
   "id": "7849d6ab",
   "metadata": {},
   "source": [
    "Note that *broadcasting* doesn't work for python lists (indeed, it operates in a different way...). Eg.: "
   ]
  },
  {
   "cell_type": "code",
   "execution_count": 76,
   "id": "2901f7f2",
   "metadata": {},
   "outputs": [
    {
     "data": {
      "text/plain": [
       "[1, 2, 3, 4, 1, 2, 3, 4]"
      ]
     },
     "execution_count": 76,
     "metadata": {},
     "output_type": "execute_result"
    }
   ],
   "source": [
    "a=[1,2,3,4]\n",
    "a*2"
   ]
  },
  {
   "cell_type": "markdown",
   "id": "32e16aef",
   "metadata": {},
   "source": [
    "that is: the list is repeated twice.\n",
    "\n",
    "As already seen above, in the case of Python lists, to perform an operation which is equivalent to the numpy broadcasting, some few lines of code must be written: "
   ]
  },
  {
   "cell_type": "code",
   "execution_count": 77,
   "id": "6f4f050e",
   "metadata": {},
   "outputs": [
    {
     "name": "stdout",
     "output_type": "stream",
     "text": [
      "[2, 4, 6, 8]\n"
     ]
    }
   ],
   "source": [
    "for ia in range(len(a)):\n",
    "    a[ia]=2*a[ia]\n",
    "    \n",
    "print(a)"
   ]
  },
  {
   "cell_type": "markdown",
   "id": "9fd4c744",
   "metadata": {},
   "source": [
    "#### Attributes of numpy arrays"
   ]
  },
  {
   "cell_type": "code",
   "execution_count": 78,
   "id": "c4a9d7ab",
   "metadata": {},
   "outputs": [
    {
     "name": "stdout",
     "output_type": "stream",
     "text": [
      "Size:       5\n",
      "Type:       int32\n",
      "Shape:      (5,)\n",
      "Dimension:  1\n"
     ]
    }
   ],
   "source": [
    "a=np.array([0,1,2,3,4])\n",
    "\n",
    "print(\"Size:      \", a.size)\n",
    "print(\"Type:      \", a.dtype)\n",
    "print(\"Shape:     \", a.shape)\n",
    "print(\"Dimension: \", a.ndim)"
   ]
  },
  {
   "cell_type": "code",
   "execution_count": 79,
   "id": "8bb5bde2",
   "metadata": {},
   "outputs": [
    {
     "name": "stdout",
     "output_type": "stream",
     "text": [
      "[[1. 2. 3. 4.]\n",
      " [5. 6. 7. 8.]]\n",
      "\n",
      "Size:       8\n",
      "Type:       float64\n",
      "Shape:      (2, 4)\n",
      "Dimension:  2\n"
     ]
    }
   ],
   "source": [
    "a=np.array([[1,2,3,4],[5,6,7,8]], dtype=np.float64)\n",
    "print(a)\n",
    "\n",
    "print(\"\\nSize:      \", a.size)\n",
    "print(\"Type:      \", a.dtype)\n",
    "print(\"Shape:     \", a.shape)\n",
    "print(\"Dimension: \", a.ndim)"
   ]
  },
  {
   "cell_type": "markdown",
   "id": "25682818-31cb-4a03-bb2f-cdf604b21b81",
   "metadata": {},
   "source": [
    "Getting the elements of an array"
   ]
  },
  {
   "cell_type": "code",
   "execution_count": 80,
   "id": "30ee2aeb-29f6-426f-b507-ffb7d0795b72",
   "metadata": {},
   "outputs": [
    {
     "name": "stdout",
     "output_type": "stream",
     "text": [
      "[1. 2. 3. 4.]\n",
      "7.0\n",
      "7.0\n"
     ]
    }
   ],
   "source": [
    "print(a[0])    # print line 0\n",
    "print(a[1,2])  # print the element in line 1 and column 2\n",
    "print(a[1][2]) # as above... print the element 2 of line 1"
   ]
  },
  {
   "cell_type": "markdown",
   "id": "f6787860",
   "metadata": {},
   "source": [
    "#### Array methods"
   ]
  },
  {
   "cell_type": "code",
   "execution_count": 81,
   "id": "671cf8d4",
   "metadata": {},
   "outputs": [
    {
     "name": "stdout",
     "output_type": "stream",
     "text": [
      "[[1. 2.]\n",
      " [3. 4.]\n",
      " [5. 6.]\n",
      " [7. 8.]]\n",
      "\n",
      "Size:   8\n",
      "Type:   float64\n",
      "Shape:  (4, 2)\n"
     ]
    }
   ],
   "source": [
    "a=a.reshape(4,2)\n",
    "\n",
    "print(a)\n",
    "\n",
    "print(\"\\nSize:  \", a.size)\n",
    "print(\"Type:  \", a.dtype)\n",
    "print(\"Shape: \", a.shape)"
   ]
  },
  {
   "cell_type": "code",
   "execution_count": 82,
   "id": "509bcd75",
   "metadata": {},
   "outputs": [
    {
     "data": {
      "text/plain": [
       "array([[1., 3., 5., 7.],\n",
       "       [2., 4., 6., 8.]])"
      ]
     },
     "execution_count": 82,
     "metadata": {},
     "output_type": "execute_result"
    }
   ],
   "source": [
    "a.transpose()"
   ]
  },
  {
   "cell_type": "markdown",
   "id": "8ee98ec7-9b46-4782-84eb-97cb7906cfd7",
   "metadata": {},
   "source": [
    "The *transpose* method is not *in-place*: the original *a* is preserved*"
   ]
  },
  {
   "cell_type": "code",
   "execution_count": 83,
   "id": "17caf3dc-8d95-4a79-96ed-aee0f54af4c6",
   "metadata": {},
   "outputs": [
    {
     "data": {
      "text/plain": [
       "array([[1., 2.],\n",
       "       [3., 4.],\n",
       "       [5., 6.],\n",
       "       [7., 8.]])"
      ]
     },
     "execution_count": 83,
     "metadata": {},
     "output_type": "execute_result"
    }
   ],
   "source": [
    "a"
   ]
  },
  {
   "cell_type": "markdown",
   "id": "4e0d38ca-bb99-4b59-b6e3-daa560600aad",
   "metadata": {},
   "source": [
    "In case you wanted *a.transpose()* to substitute for *a*, you should explicitly reassign *a*: \n",
    "```\n",
    "a=a.transpose()\n",
    "```\n",
    "\n",
    "Now, you can even *flatten* the array *a*: transform it in a 1D array:"
   ]
  },
  {
   "cell_type": "code",
   "execution_count": 84,
   "id": "d86b7ec4",
   "metadata": {},
   "outputs": [],
   "source": [
    "a=a.flatten()"
   ]
  },
  {
   "cell_type": "code",
   "execution_count": 85,
   "id": "fd8f0d72",
   "metadata": {},
   "outputs": [
    {
     "name": "stdout",
     "output_type": "stream",
     "text": [
      "Array:      [1. 2. 3. 4. 5. 6. 7. 8.]\n",
      "Max:        8.0\n",
      "Min:        1.0\n",
      "Mean:       4.5\n",
      "Dimension:  1\n"
     ]
    }
   ],
   "source": [
    "print(\"Array:     \", a)\n",
    "print(\"Max:       \", a.max())\n",
    "print(\"Min:       \", a.min())\n",
    "print(\"Mean:      \", a.mean())\n",
    "print(\"Dimension: \", a.ndim)"
   ]
  },
  {
   "cell_type": "markdown",
   "id": "46b033c7",
   "metadata": {},
   "source": [
    "#### Slicing"
   ]
  },
  {
   "cell_type": "code",
   "execution_count": 86,
   "id": "1d7a068d",
   "metadata": {},
   "outputs": [
    {
     "name": "stdout",
     "output_type": "stream",
     "text": [
      "[0, 1, 2, 3, 4, 5, 6, 7, 8, 9]\n"
     ]
    }
   ],
   "source": [
    "a=list(range(10))   # a Python list (it is not a numpy array)\n",
    "print(a)"
   ]
  },
  {
   "cell_type": "code",
   "execution_count": 87,
   "id": "26718c19",
   "metadata": {},
   "outputs": [
    {
     "name": "stdout",
     "output_type": "stream",
     "text": [
      "[1, 2, 3, 4]\n",
      "[5, 6, 7, 8]\n",
      "[0, 2, 4, 6, 8]\n",
      "[1, 3, 5, 7, 9]\n"
     ]
    }
   ],
   "source": [
    "print(a[1:5])  # n:m[:s] start, end, [step]\n",
    "print(a[5:-1])\n",
    "print(a[::2])\n",
    "print(a[1::2])"
   ]
  },
  {
   "cell_type": "markdown",
   "id": "cffb3a0b",
   "metadata": {},
   "source": [
    "Index -1 codes for the last but one element of the array"
   ]
  },
  {
   "cell_type": "code",
   "execution_count": 88,
   "id": "f1f04c32",
   "metadata": {},
   "outputs": [
    {
     "name": "stdout",
     "output_type": "stream",
     "text": [
      "[[ 0  1  2  3  4  5]\n",
      " [ 6  7  8  9 10 11]]\n"
     ]
    }
   ],
   "source": [
    "a=np.array([[0,1,2,3,4,5],[6,7,8,9,10,11]])\n",
    "print(a)"
   ]
  },
  {
   "cell_type": "markdown",
   "id": "2306bae0",
   "metadata": {},
   "source": [
    "Get the second row (row index 1) of the array: \n",
    "\n",
    "```\n",
    "a[1,:]\n",
    "\n",
    "```"
   ]
  },
  {
   "cell_type": "code",
   "execution_count": 89,
   "id": "dc69a9eb",
   "metadata": {},
   "outputs": [
    {
     "name": "stdout",
     "output_type": "stream",
     "text": [
      "[ 6  7  8  9 10 11]\n"
     ]
    }
   ],
   "source": [
    "print(a[1,:])"
   ]
  },
  {
   "cell_type": "markdown",
   "id": "42daa75f",
   "metadata": {},
   "source": [
    "Get the third column (index 2) of the array"
   ]
  },
  {
   "cell_type": "code",
   "execution_count": 90,
   "id": "7ecd1a63",
   "metadata": {},
   "outputs": [
    {
     "name": "stdout",
     "output_type": "stream",
     "text": [
      "[2 8]\n"
     ]
    }
   ],
   "source": [
    "print(a[:,2])"
   ]
  },
  {
   "cell_type": "markdown",
   "id": "22364391",
   "metadata": {},
   "source": [
    "#### Sorting numpy arrays "
   ]
  },
  {
   "cell_type": "code",
   "execution_count": 91,
   "id": "39cbc612",
   "metadata": {},
   "outputs": [
    {
     "name": "stdout",
     "output_type": "stream",
     "text": [
      "Original array:  [1 3 5 2 8 7 6 9 4]\n",
      "Sorted array:    [1 2 3 4 5 6 7 8 9]\n"
     ]
    }
   ],
   "source": [
    "a=np.array([1,3,5,2,8,7,6,9,4])\n",
    "print(\"Original array: \", a)\n",
    "\n",
    "a.sort()\n",
    "print(\"Sorted array:   \", a)"
   ]
  },
  {
   "cell_type": "markdown",
   "id": "0a9b6c89",
   "metadata": {},
   "source": [
    "Note in the following the use of the *np.sort* function:"
   ]
  },
  {
   "cell_type": "code",
   "execution_count": 92,
   "id": "2edeff42",
   "metadata": {},
   "outputs": [
    {
     "name": "stdout",
     "output_type": "stream",
     "text": [
      "Original array:  [1 3 5 2 8 7 6 9 4]\n",
      "Sorted array:    [1 2 3 4 5 6 7 8 9]\n",
      "Original array is not modified:  [1 3 5 2 8 7 6 9 4]\n"
     ]
    }
   ],
   "source": [
    "a=np.array([1,3,5,2,8,7,6,9,4])\n",
    "print(\"Original array: \", a)\n",
    "print(\"Sorted array:   \", np.sort(a))\n",
    "print(\"Original array is not modified: \", a)"
   ]
  },
  {
   "cell_type": "markdown",
   "id": "7666bd21-78ee-4b77-9b17-6c912a80b676",
   "metadata": {},
   "source": [
    "Note that, at variance with the sort method of the python lists, the original array is preserved."
   ]
  },
  {
   "cell_type": "markdown",
   "id": "416ca37e",
   "metadata": {},
   "source": [
    "***Reverse*** ordering\n",
    "\n",
    "This exploits a slicing of a (*normal*) sorted array"
   ]
  },
  {
   "cell_type": "code",
   "execution_count": 93,
   "id": "3e88f49d",
   "metadata": {},
   "outputs": [
    {
     "name": "stdout",
     "output_type": "stream",
     "text": [
      "Reverse sorting:  [9 8 7 6 5 3 2 1]\n"
     ]
    }
   ],
   "source": [
    "a=np.array([3,2,1,5,9,8,6,7])\n",
    "a_reverse=np.sort(a)[::-1]\n",
    "\n",
    "print(\"Reverse sorting: \", a_reverse)"
   ]
  },
  {
   "cell_type": "markdown",
   "id": "c5b5f713",
   "metadata": {},
   "source": [
    "Numpy function *argsort*: this returns the *positions* of the elements in the array, from the minimum to the maximum values:"
   ]
  },
  {
   "cell_type": "code",
   "execution_count": 94,
   "id": "0da41258",
   "metadata": {},
   "outputs": [
    {
     "name": "stdout",
     "output_type": "stream",
     "text": [
      "Positions:  [0 3 1 8 2 6 5 4 7]\n"
     ]
    }
   ],
   "source": [
    "a=np.array([1,3,5,2,8,7,6,9,4])\n",
    "pos=np.argsort(a)\n",
    "print(\"Positions: \", pos)"
   ]
  },
  {
   "cell_type": "markdown",
   "id": "c86e1d0b",
   "metadata": {},
   "source": [
    "The *pos* array can then be used to draw elements from the original array, for instance to sort it:"
   ]
  },
  {
   "cell_type": "code",
   "execution_count": 95,
   "id": "dc2f6ba6",
   "metadata": {},
   "outputs": [
    {
     "name": "stdout",
     "output_type": "stream",
     "text": [
      "Sorted array:  [1 2 3 4 5 6 7 8 9]\n"
     ]
    }
   ],
   "source": [
    "print(\"Sorted array: \", a[pos])"
   ]
  },
  {
   "cell_type": "markdown",
   "id": "71dac860",
   "metadata": {},
   "source": [
    "#### Using argsort to sort a 2-dimensional array\n",
    "\n",
    "Here we sort a (2,6)-array according to the elements of the first row"
   ]
  },
  {
   "cell_type": "code",
   "execution_count": 96,
   "id": "796cf4cd",
   "metadata": {},
   "outputs": [
    {
     "name": "stdout",
     "output_type": "stream",
     "text": [
      "[[ 5  3  1  0  4  2]\n",
      " [25  9  1  0 16  4]]\n"
     ]
    }
   ],
   "source": [
    "a=np.array([[5, 3, 1, 0, 4, 2], [25, 9, 1, 0, 16, 4]]) \n",
    "print(a)"
   ]
  },
  {
   "cell_type": "code",
   "execution_count": 97,
   "id": "c83c826f",
   "metadata": {},
   "outputs": [
    {
     "name": "stdout",
     "output_type": "stream",
     "text": [
      "First row:  [5 3 1 0 4 2]\n",
      "Positions:  [3 2 5 1 4 0]\n",
      "Sorted array:\n",
      " [[ 0  1  2  3  4  5]\n",
      " [ 0  1  4  9 16 25]]\n"
     ]
    }
   ],
   "source": [
    "print(\"First row: \", a[0,:])  # print the first row (index 0)\n",
    "\n",
    "pos=np.argsort(a[0,:])        # positions of the elements from min to max\n",
    "print(\"Positions: \", pos)\n",
    "\n",
    "a1=a[0,pos]\n",
    "a2=a[1,pos]\n",
    "\n",
    "a_sorted=np.concatenate(([a1], [a2]))\n",
    "print(\"Sorted array:\\n\", a_sorted)"
   ]
  },
  {
   "cell_type": "markdown",
   "id": "4605227f",
   "metadata": {},
   "source": [
    "#### Minimum and maximum of an array"
   ]
  },
  {
   "cell_type": "code",
   "execution_count": 98,
   "id": "99edee35",
   "metadata": {},
   "outputs": [
    {
     "name": "stdout",
     "output_type": "stream",
     "text": [
      "Minimum of a:  1    - position:  0\n",
      "Maximum of a:  9    - position:  7\n"
     ]
    }
   ],
   "source": [
    "a=np.array([1,3,5,2,8,7,6,9,4])\n",
    "\n",
    "a_min=np.min(a)\n",
    "a_min_pos=np.argmin(a)\n",
    "\n",
    "a_max=np.max(a)\n",
    "a_max_pos=np.argmax(a)\n",
    "\n",
    "print(\"Minimum of a: \", a_min, \"   - position: \", a_min_pos)\n",
    "print(\"Maximum of a: \", a_max, \"   - position: \", a_max_pos)"
   ]
  },
  {
   "cell_type": "markdown",
   "id": "72635a20",
   "metadata": {},
   "source": [
    "#### A simple example: findind the minimum of a simple function in a specified X range\n",
    "\n",
    "$y(x)=2x^4-11x^3+10x^2-3x+90$"
   ]
  },
  {
   "cell_type": "code",
   "execution_count": 99,
   "id": "067038b9",
   "metadata": {},
   "outputs": [
    {
     "name": "stdout",
     "output_type": "stream",
     "text": [
      "X at which Y is minimum:   3.44\n",
      "Value of Y at the minimum: 30.31\n",
      "\n"
     ]
    },
    {
     "data": {
      "image/png": "[encoded data removed]",
      "text/plain": [
       "<Figure size 500x300 with 1 Axes>"
      ]
     },
     "metadata": {},
     "output_type": "display_data"
    }
   ],
   "source": [
    "# Import the \"plotting library\"\n",
    "import matplotlib.pyplot as plt\n",
    "\n",
    "# Create a list of 100 floating point numbers, from\n",
    "# -2. to 5.\n",
    "x=np.linspace(-2,5.0,100)\n",
    "\n",
    "# Create a list of numbers y, by evaluating\n",
    "# the expression below for all the values in\n",
    "# the list x (this is an example of\n",
    "# broadcasting)\n",
    "y=2*x**4-11*x**3+10*x**2-3*x+90\n",
    "\n",
    "y_min=np.min(y)\n",
    "y_min_pos=np.argmin(y)\n",
    "x_min=x[y_min_pos]\n",
    "\n",
    "print(\"X at which Y is minimum:   %3.2f\" % x_min)\n",
    "print(\"Value of Y at the minimum: %3.2f\\n\" % y_min)\n",
    "\n",
    "y0=y_min-30\n",
    "px=(x_min,x_min)\n",
    "py=(y0,y_min)\n",
    "\n",
    "plt.figure(figsize=(5,3))\n",
    "plt.plot(x,y)\n",
    "plt.plot(px,py,\"k--\", linewidth=0.5 )\n",
    "plt.xlabel(\"X\")\n",
    "plt.ylabel(\"Y\")\n",
    "plt.ylim(y0,220)\n",
    "plt.xlim(2,5)\n",
    "plt.text(x_min+0.02, y0+5, \"X = \" + str(x_min.round(2)))\n",
    "plt.show()"
   ]
  },
  {
   "cell_type": "markdown",
   "id": "571f584a",
   "metadata": {},
   "source": [
    "#### Copies of a numpy array\n",
    "\n",
    "Let's have an array *a*, in this case generated by the numpy function *arange* (it produces a list of integers):"
   ]
  },
  {
   "cell_type": "code",
   "execution_count": 100,
   "id": "1b90e092",
   "metadata": {},
   "outputs": [
    {
     "name": "stdout",
     "output_type": "stream",
     "text": [
      "[0 1 2 3 4 5 6 7 8 9]\n"
     ]
    }
   ],
   "source": [
    "a=np.arange(10)\n",
    "print(a)"
   ]
  },
  {
   "cell_type": "markdown",
   "id": "ca6f1928",
   "metadata": {},
   "source": [
    "We could *think* to get a copy (*b*) of our original array *a*, so that we can modify *a* but preserving a *backup copy* of it saved in *b*... "
   ]
  },
  {
   "cell_type": "code",
   "execution_count": 101,
   "id": "9c7ff88a",
   "metadata": {},
   "outputs": [
    {
     "name": "stdout",
     "output_type": "stream",
     "text": [
      "Backup b:    [0 1 2 3 4 5 6 7 8 9]\n",
      "Modified a:  [0 1 4 3 2 5 6 7 8 9]\n"
     ]
    }
   ],
   "source": [
    "b=a\n",
    "print(\"Backup b:   \", b)\n",
    "\n",
    "a[2], a[4] = 4, 2\n",
    "\n",
    "print(\"Modified a: \", a)"
   ]
  },
  {
   "cell_type": "markdown",
   "id": "964b5792",
   "metadata": {},
   "source": [
    "But... let's have a look to *b*, now:"
   ]
  },
  {
   "cell_type": "code",
   "execution_count": 102,
   "id": "b023db1a",
   "metadata": {},
   "outputs": [
    {
     "name": "stdout",
     "output_type": "stream",
     "text": [
      "array b:  [0 1 4 3 2 5 6 7 8 9]\n"
     ]
    }
   ],
   "source": [
    "print(\"array b: \", b)"
   ]
  },
  {
   "cell_type": "markdown",
   "id": "c8b1a3f6-9079-4642-9447-041c8eb13032",
   "metadata": {},
   "source": [
    "So: we don't have our backup... as *a* and *b* are the same object:"
   ]
  },
  {
   "cell_type": "code",
   "execution_count": 103,
   "id": "e1413810-4ab3-4445-b519-4fcfec5bd1ab",
   "metadata": {},
   "outputs": [
    {
     "name": "stdout",
     "output_type": "stream",
     "text": [
      "True\n"
     ]
    }
   ],
   "source": [
    "print(a is b)"
   ]
  },
  {
   "cell_type": "markdown",
   "id": "7180f0f9-1d01-409a-8c71-6fcfd32e4937",
   "metadata": {},
   "source": [
    "Indeed, *a* and *b* are just *labels* that point to the same location in memory... To make a *real* copy of the array *a*, the numpy function *copy* must be used: "
   ]
  },
  {
   "cell_type": "code",
   "execution_count": 104,
   "id": "5a25aa8b",
   "metadata": {},
   "outputs": [
    {
     "name": "stdout",
     "output_type": "stream",
     "text": [
      "Are 'a' and 'b' the same objects? False\n",
      " \n",
      "Modified array a:  [0 1 4 3 2 5 6 7 8 9]\n",
      "Backup array b:    [0 1 2 3 4 5 6 7 8 9]\n"
     ]
    }
   ],
   "source": [
    "a=np.arange(10)\n",
    "b=np.copy(a)\n",
    "\n",
    "print(\"Are 'a' and 'b' the same objects? %r\\n \" % (a is b))\n",
    "\n",
    "a[2], a[4] = 4, 2\n",
    "print(\"Modified array a: \", a)\n",
    "print(\"Backup array b:   \", b)"
   ]
  },
  {
   "cell_type": "markdown",
   "id": "95c3a614",
   "metadata": {},
   "source": [
    "The same is true for Python lists. In this case, to copy a list use the method *copy* associated to the list (that was already seen above):"
   ]
  },
  {
   "cell_type": "code",
   "execution_count": 105,
   "id": "a1e76413",
   "metadata": {},
   "outputs": [
    {
     "name": "stdout",
     "output_type": "stream",
     "text": [
      "List a:  [5, 1, 2, 3]    List b:   [0, 1, 2, 3]\n"
     ]
    }
   ],
   "source": [
    "a=[0,1,2,3]\n",
    "b=a.copy()\n",
    "\n",
    "a[0]=5\n",
    "\n",
    "print(\"List a: \", a, \"   List b:  \", b)"
   ]
  },
  {
   "cell_type": "markdown",
   "id": "0ba8fd68",
   "metadata": {},
   "source": [
    "Let's have a look at the positions in memory of the three *a*, *b* and *c* objects:"
   ]
  },
  {
   "cell_type": "code",
   "execution_count": 106,
   "id": "e96a3cdf",
   "metadata": {},
   "outputs": [
    {
     "name": "stdout",
     "output_type": "stream",
     "text": [
      "0x231a5db9580\n",
      "0x231a5db9580\n",
      "0x231a5d84180\n"
     ]
    }
   ],
   "source": [
    "a=[1,2,3,4]\n",
    "b=a\n",
    "c=a.copy()\n",
    "\n",
    "print(hex(id(a)))\n",
    "print(hex(id(b)))\n",
    "print(hex(id(c)))"
   ]
  },
  {
   "cell_type": "markdown",
   "id": "b9609222",
   "metadata": {},
   "source": [
    "Objects *a* and *b* do occupy the same position in memory: they are the *same* object, just having two different *labels* (*a* and *b*); object *c* occupies a different position.\n",
    "\n",
    "We should distinguish the *address* of a list *versus* the *addresses* of the elements of the list:"
   ]
  },
  {
   "cell_type": "code",
   "execution_count": 107,
   "id": "71d0cd70",
   "metadata": {},
   "outputs": [
    {
     "name": "stdout",
     "output_type": "stream",
     "text": [
      "Address of a:  0x231a5d19ec0 \n",
      "\n",
      "Addresses of the elements of a:\n",
      "0x7ffcecd63998\n",
      "0x7ffcecd639b8\n",
      "0x7ffcecd639d8\n",
      "0x7ffcecd639f8\n",
      "0x7ffcecd63a18\n"
     ]
    }
   ],
   "source": [
    "a=[0, 1, 2, 3, 4]\n",
    "\n",
    "print(\"Address of a: \", hex(id(a)), \"\\n\")\n",
    "\n",
    "print(\"Addresses of the elements of a:\")\n",
    "for ia in range(len(a)):\n",
    "    print(hex(id(a[ia])))"
   ]
  },
  {
   "cell_type": "markdown",
   "id": "79993c4d",
   "metadata": {},
   "source": [
    "As in the case of lists, a given value can be assigned to multiple labels (variable *names*); such *names* point to the same location in memory where the value is stored. \n",
    "\n",
    "However, when one of the variable (label) is reassigned, the position in memory to which it points is changed:"
   ]
  },
  {
   "cell_type": "code",
   "execution_count": 108,
   "id": "960c412c",
   "metadata": {},
   "outputs": [
    {
     "name": "stdout",
     "output_type": "stream",
     "text": [
      "0x7ffcecd639b8\n",
      "0x7ffcecd639b8\n"
     ]
    }
   ],
   "source": [
    "# the value 1 is assigned to o1, and then o1 is assigned to o2\n",
    "# o1 and o2 points to the same address\n",
    "o1=1\n",
    "o2=o1\n",
    "\n",
    "print(hex(id(o1)))\n",
    "print(hex(id(o2)))"
   ]
  },
  {
   "cell_type": "code",
   "execution_count": 109,
   "id": "0ccf85f2",
   "metadata": {},
   "outputs": [
    {
     "name": "stdout",
     "output_type": "stream",
     "text": [
      "2 1\n",
      "0x7ffcecd639d8\n",
      "0x7ffcecd639b8\n"
     ]
    }
   ],
   "source": [
    "# Now o1 is reassigned; \n",
    "# o2 still preserves the original value;\n",
    "# o1 points to a different location in memory\n",
    " \n",
    "o1=2\n",
    "\n",
    "print(o1, o2)\n",
    "print(hex(id(o1)))\n",
    "print(hex(id(o2)))"
   ]
  },
  {
   "cell_type": "markdown",
   "id": "14600446",
   "metadata": {},
   "source": [
    "#### Special numpy arrays\n",
    "\n",
    "It is possible to create arrays of 0's or 1's by using the numpy functions *zeros* and *ones*:"
   ]
  },
  {
   "cell_type": "code",
   "execution_count": 110,
   "id": "2008ed42",
   "metadata": {},
   "outputs": [
    {
     "name": "stdout",
     "output_type": "stream",
     "text": [
      "a:  [0. 0. 0. 0. 0. 0. 0. 0. 0. 0.]\n",
      "\n",
      "b:\n",
      " [[1. 1. 1.]\n",
      " [1. 1. 1.]\n",
      " [1. 1. 1.]]\n"
     ]
    }
   ],
   "source": [
    "a=np.zeros(10)\n",
    "b=np.ones((3,3))\n",
    "\n",
    "print(\"a: \", a)\n",
    "print(\"\\nb:\\n\", b)"
   ]
  },
  {
   "cell_type": "markdown",
   "id": "028c0dd0",
   "metadata": {},
   "source": [
    "The functions *repeat* and *tile* are also useful:"
   ]
  },
  {
   "cell_type": "code",
   "execution_count": 111,
   "id": "4ce13fd2",
   "metadata": {},
   "outputs": [
    {
     "name": "stdout",
     "output_type": "stream",
     "text": [
      "a:  [2 2 2 2 2]\n",
      "b:  [1 1 1 2 2 2 3 3 3]\n",
      "c:  [1 2 3 1 2 3 1 2 3]\n"
     ]
    }
   ],
   "source": [
    "a=np.repeat(2,5)\n",
    "b=np.repeat([1,2,3],3)\n",
    "c=np.tile([1,2,3],3)\n",
    "\n",
    "print(\"a: \", a)\n",
    "print(\"b: \", b)\n",
    "print(\"c: \", c)"
   ]
  },
  {
   "cell_type": "markdown",
   "id": "57d5ada7",
   "metadata": {},
   "source": [
    "### Boolean variables"
   ]
  },
  {
   "cell_type": "code",
   "execution_count": 112,
   "id": "ecdfe93c",
   "metadata": {},
   "outputs": [
    {
     "name": "stdout",
     "output_type": "stream",
     "text": [
      "Type of a:  <class 'bool'>\n"
     ]
    }
   ],
   "source": [
    "a, b = True, False\n",
    "print(\"Type of a: \", type(a))"
   ]
  },
  {
   "cell_type": "markdown",
   "id": "9f135821",
   "metadata": {},
   "source": [
    "#### Operators *and* (&) and *or* (|)"
   ]
  },
  {
   "cell_type": "code",
   "execution_count": 113,
   "id": "3a4734b0",
   "metadata": {},
   "outputs": [
    {
     "name": "stdout",
     "output_type": "stream",
     "text": [
      "False\n",
      "False\n"
     ]
    }
   ],
   "source": [
    "print(a and b)\n",
    "print(a & b)"
   ]
  },
  {
   "cell_type": "code",
   "execution_count": 114,
   "id": "1f4c5feb",
   "metadata": {},
   "outputs": [
    {
     "name": "stdout",
     "output_type": "stream",
     "text": [
      "True\n",
      "True\n"
     ]
    }
   ],
   "source": [
    "print(a or b)\n",
    "print(a | b)"
   ]
  },
  {
   "cell_type": "markdown",
   "id": "293a3ff9",
   "metadata": {},
   "source": [
    "However..."
   ]
  },
  {
   "cell_type": "code",
   "execution_count": 115,
   "id": "92428e30",
   "metadata": {},
   "outputs": [
    {
     "name": "stdout",
     "output_type": "stream",
     "text": [
      "[True, False]\n"
     ]
    }
   ],
   "source": [
    "a=[True, True]\n",
    "b=[True, False]\n",
    "\n",
    "print(a and b)"
   ]
  },
  {
   "cell_type": "markdown",
   "id": "ec01811f",
   "metadata": {},
   "source": [
    "but you get an error with &..."
   ]
  },
  {
   "cell_type": "code",
   "execution_count": 116,
   "id": "ebfec661",
   "metadata": {},
   "outputs": [
    {
     "ename": "TypeError",
     "evalue": "unsupported operand type(s) for &: 'list' and 'list'",
     "output_type": "error",
     "traceback": [
      "\u001b[1;31m---------------------------------------------------------------------------\u001b[0m",
      "\u001b[1;31mTypeError\u001b[0m                                 Traceback (most recent call last)",
      "Cell \u001b[1;32mIn[116], line 1\u001b[0m\n\u001b[1;32m----> 1\u001b[0m \u001b[38;5;28mprint\u001b[39m(a \u001b[38;5;241m&\u001b[39m b)\n",
      "\u001b[1;31mTypeError\u001b[0m: unsupported operand type(s) for &: 'list' and 'list'"
     ]
    }
   ],
   "source": [
    "print(a & b)"
   ]
  },
  {
   "cell_type": "markdown",
   "id": "b0d947b4",
   "metadata": {},
   "source": [
    "The same is true for the *or* operator (use *or*, and not the *pipe* |, to work with lists)\n",
    "\n",
    "Boolean arrays can also be created by using a list of 0 and 1 (and dtype=bool): "
   ]
  },
  {
   "cell_type": "code",
   "execution_count": 117,
   "id": "4ef5a41d",
   "metadata": {},
   "outputs": [
    {
     "data": {
      "text/plain": [
       "array([ True,  True, False,  True,  True, False])"
      ]
     },
     "execution_count": 117,
     "metadata": {},
     "output_type": "execute_result"
    }
   ],
   "source": [
    "tf=np.array([1,1,0,1,1,0], dtype=bool)\n",
    "tf"
   ]
  },
  {
   "cell_type": "markdown",
   "id": "2f07df64",
   "metadata": {},
   "source": [
    "#### \\*** Warning \\***  \n",
    "\n",
    "**With numpy array it is different!**"
   ]
  },
  {
   "cell_type": "code",
   "execution_count": 118,
   "id": "e221c645",
   "metadata": {},
   "outputs": [
    {
     "name": "stdout",
     "output_type": "stream",
     "text": [
      "[ True False  True]\n"
     ]
    }
   ],
   "source": [
    "a=np.repeat(True, 3)\n",
    "b=np.array([True, False, True])\n",
    "\n",
    "a_and_b = a & b\n",
    "print(a_and_b)"
   ]
  },
  {
   "cell_type": "markdown",
   "id": "cd297ebc",
   "metadata": {},
   "source": [
    "But..."
   ]
  },
  {
   "cell_type": "code",
   "execution_count": 119,
   "id": "a7b30930",
   "metadata": {},
   "outputs": [
    {
     "ename": "ValueError",
     "evalue": "The truth value of an array with more than one element is ambiguous. Use a.any() or a.all()",
     "output_type": "error",
     "traceback": [
      "\u001b[1;31m---------------------------------------------------------------------------\u001b[0m",
      "\u001b[1;31mValueError\u001b[0m                                Traceback (most recent call last)",
      "Cell \u001b[1;32mIn[119], line 1\u001b[0m\n\u001b[1;32m----> 1\u001b[0m a_and_b \u001b[38;5;241m=\u001b[39m a \u001b[38;5;129;01mand\u001b[39;00m b\n",
      "\u001b[1;31mValueError\u001b[0m: The truth value of an array with more than one element is ambiguous. Use a.any() or a.all()"
     ]
    }
   ],
   "source": [
    "a_and_b = a and b "
   ]
  },
  {
   "cell_type": "markdown",
   "id": "29446374",
   "metadata": {},
   "source": [
    "#### Using booleans to select elements of an array"
   ]
  },
  {
   "cell_type": "code",
   "execution_count": 120,
   "id": "3fd43a03",
   "metadata": {},
   "outputs": [
    {
     "name": "stdout",
     "output_type": "stream",
     "text": [
      "Array a:            [10 11 12 13 14 15 16 17 18 19]\n",
      "Boolean array:      [ True False  True False  True False  True False  True False]\n",
      "Selected elements:  [10 12 14 16 18]\n"
     ]
    }
   ],
   "source": [
    "a=np.arange(10, 20)\n",
    "select=np.tile([True, False], 5)\n",
    "print(\"Array a:           \", a)\n",
    "print(\"Boolean array:     \", select)\n",
    "print(\"Selected elements: \", a[select])"
   ]
  },
  {
   "cell_type": "markdown",
   "id": "42fdb265",
   "metadata": {},
   "source": [
    "#### Boolean variables as result of *test*"
   ]
  },
  {
   "cell_type": "code",
   "execution_count": 121,
   "id": "9a4bd299",
   "metadata": {},
   "outputs": [
    {
     "name": "stdout",
     "output_type": "stream",
     "text": [
      "[True, False, False, True]\n"
     ]
    }
   ],
   "source": [
    "a=3\n",
    "b=2\n",
    "\n",
    "test1 = a > b\n",
    "test2 = a < b\n",
    "test3 = a == b\n",
    "test4 = a != b\n",
    "\n",
    "test_list=[test1, test2, test3, test4]\n",
    "\n",
    "print(test_list)"
   ]
  },
  {
   "cell_type": "markdown",
   "id": "d8d9dff1",
   "metadata": {},
   "source": [
    "#### Using a test to select elements of an array"
   ]
  },
  {
   "cell_type": "code",
   "execution_count": 122,
   "id": "e0b49618",
   "metadata": {},
   "outputs": [
    {
     "name": "stdout",
     "output_type": "stream",
     "text": [
      "[14 15 16 17 18 19]\n"
     ]
    }
   ],
   "source": [
    "a=np.arange(10, 20)\n",
    "thr=14\n",
    "\n",
    "test = a >= thr\n",
    "print(a[test])"
   ]
  },
  {
   "cell_type": "markdown",
   "id": "0a5be87f",
   "metadata": {},
   "source": [
    "A shorthand..."
   ]
  },
  {
   "cell_type": "code",
   "execution_count": 123,
   "id": "526fbb5e",
   "metadata": {},
   "outputs": [
    {
     "name": "stdout",
     "output_type": "stream",
     "text": [
      "[14 15 16 17 18 19]\n"
     ]
    }
   ],
   "source": [
    "print(a[a>=thr])"
   ]
  },
  {
   "cell_type": "markdown",
   "id": "d81154e9",
   "metadata": {},
   "source": [
    "Another method, using the numpy function *where*"
   ]
  },
  {
   "cell_type": "code",
   "execution_count": 124,
   "id": "f4761899",
   "metadata": {},
   "outputs": [
    {
     "data": {
      "text/plain": [
       "(array([4, 5, 6, 7, 8, 9], dtype=int64),)"
      ]
     },
     "execution_count": 124,
     "metadata": {},
     "output_type": "execute_result"
    }
   ],
   "source": [
    "np.where(a >= thr)"
   ]
  },
  {
   "cell_type": "code",
   "execution_count": 125,
   "id": "f01ac071",
   "metadata": {},
   "outputs": [
    {
     "name": "stdout",
     "output_type": "stream",
     "text": [
      "[14 15 16 17 18 19]\n"
     ]
    }
   ],
   "source": [
    "b=np.where(a >= thr)\n",
    "print(a[b])"
   ]
  },
  {
   "cell_type": "markdown",
   "id": "f2990ecd",
   "metadata": {},
   "source": [
    "### Intersection and union of arrays"
   ]
  },
  {
   "cell_type": "code",
   "execution_count": 126,
   "id": "4478884f",
   "metadata": {},
   "outputs": [
    {
     "name": "stdout",
     "output_type": "stream",
     "text": [
      "Intersection:  [5 6 7 8 9]\n",
      "Union:         [ 0  1  2  3  4  5  6  7  8  9 10 11 12 13 14]\n"
     ]
    }
   ],
   "source": [
    "a=np.arange(0,10)\n",
    "b=np.arange(5,15)\n",
    "\n",
    "a_int_b=np.intersect1d(a,b)\n",
    "a_uni_b=np.union1d(a,b)\n",
    "\n",
    "print(\"Intersection: \", a_int_b)\n",
    "print(\"Union:        \", a_uni_b)"
   ]
  },
  {
   "cell_type": "markdown",
   "id": "3e971d88",
   "metadata": {},
   "source": [
    "### Dictionaries\n",
    "\n",
    "Used to assign values to strings that, later, can be used as indexes to retrieve the corrisponding values in the dictionary"
   ]
  },
  {
   "cell_type": "code",
   "execution_count": 127,
   "id": "110e0133",
   "metadata": {},
   "outputs": [
    {
     "name": "stdout",
     "output_type": "stream",
     "text": [
      "<class 'dict'>  length:  3 \n",
      "\n",
      "var1:  1.0\n",
      "var3:  my_var\n",
      "\n",
      "Whole dictionary:  {'var1': 1.0, 'var2': 1.5, 'var3': 'my_var'}\n"
     ]
    }
   ],
   "source": [
    "dct={'var1': 1.0, 'var2': 1.5, 'var3': 'my_var'}\n",
    "\n",
    "print(type(dct), \" length: \", len(dct), \"\\n\")\n",
    "print(\"var1: \", dct['var1'])\n",
    "print(\"var3: \", dct['var3'])\n",
    "\n",
    "print(\"\\nWhole dictionary: \", dct)"
   ]
  },
  {
   "cell_type": "markdown",
   "id": "54b12b03-6516-4401-826d-035ced6fd528",
   "metadata": {},
   "source": [
    "### Sets"
   ]
  },
  {
   "cell_type": "code",
   "execution_count": 128,
   "id": "5fbd6b07-b435-4200-baa5-d4bb8bf0f228",
   "metadata": {},
   "outputs": [
    {
     "name": "stdout",
     "output_type": "stream",
     "text": [
      "<class 'set'> {0, 1, 2, 3, 4}\n"
     ]
    }
   ],
   "source": [
    "set_list=[1,2,3,4,2,0,1]\n",
    "s1=set(set_list)\n",
    "print(type(s1), s1)"
   ]
  },
  {
   "cell_type": "code",
   "execution_count": 129,
   "id": "100218eb-443d-4e3c-8097-1044ba82fb22",
   "metadata": {},
   "outputs": [
    {
     "name": "stdout",
     "output_type": "stream",
     "text": [
      "Help on set object:\n",
      "\n",
      "class set(object)\n",
      " |  set() -> new empty set object\n",
      " |  set(iterable) -> new set object\n",
      " |\n",
      " |  Build an unordered collection of unique elements.\n",
      " |\n",
      " |  Methods defined here:\n",
      " |\n",
      " |  __and__(self, value, /)\n",
      " |      Return self&value.\n",
      " |\n",
      " |  __contains__(...)\n",
      " |      x.__contains__(y) <==> y in x.\n",
      " |\n",
      " |  __eq__(self, value, /)\n",
      " |      Return self==value.\n",
      " |\n",
      " |  __ge__(self, value, /)\n",
      " |      Return self>=value.\n",
      " |\n",
      " |  __getattribute__(self, name, /)\n",
      " |      Return getattr(self, name).\n",
      " |\n",
      " |  __gt__(self, value, /)\n",
      " |      Return self>value.\n",
      " |\n",
      " |  __iand__(self, value, /)\n",
      " |      Return self&=value.\n",
      " |\n",
      " |  __init__(self, /, *args, **kwargs)\n",
      " |      Initialize self.  See help(type(self)) for accurate signature.\n",
      " |\n",
      " |  __ior__(self, value, /)\n",
      " |      Return self|=value.\n",
      " |\n",
      " |  __isub__(self, value, /)\n",
      " |      Return self-=value.\n",
      " |\n",
      " |  __iter__(self, /)\n",
      " |      Implement iter(self).\n",
      " |\n",
      " |  __ixor__(self, value, /)\n",
      " |      Return self^=value.\n",
      " |\n",
      " |  __le__(self, value, /)\n",
      " |      Return self<=value.\n",
      " |\n",
      " |  __len__(self, /)\n",
      " |      Return len(self).\n",
      " |\n",
      " |  __lt__(self, value, /)\n",
      " |      Return self<value.\n",
      " |\n",
      " |  __ne__(self, value, /)\n",
      " |      Return self!=value.\n",
      " |\n",
      " |  __or__(self, value, /)\n",
      " |      Return self|value.\n",
      " |\n",
      " |  __rand__(self, value, /)\n",
      " |      Return value&self.\n",
      " |\n",
      " |  __reduce__(...)\n",
      " |      Return state information for pickling.\n",
      " |\n",
      " |  __repr__(self, /)\n",
      " |      Return repr(self).\n",
      " |\n",
      " |  __ror__(self, value, /)\n",
      " |      Return value|self.\n",
      " |\n",
      " |  __rsub__(self, value, /)\n",
      " |      Return value-self.\n",
      " |\n",
      " |  __rxor__(self, value, /)\n",
      " |      Return value^self.\n",
      " |\n",
      " |  __sizeof__(...)\n",
      " |      S.__sizeof__() -> size of S in memory, in bytes\n",
      " |\n",
      " |  __sub__(self, value, /)\n",
      " |      Return self-value.\n",
      " |\n",
      " |  __xor__(self, value, /)\n",
      " |      Return self^value.\n",
      " |\n",
      " |  add(...)\n",
      " |      Add an element to a set.\n",
      " |\n",
      " |      This has no effect if the element is already present.\n",
      " |\n",
      " |  clear(...)\n",
      " |      Remove all elements from this set.\n",
      " |\n",
      " |  copy(...)\n",
      " |      Return a shallow copy of a set.\n",
      " |\n",
      " |  difference(...)\n",
      " |      Return the difference of two or more sets as a new set.\n",
      " |\n",
      " |      (i.e. all elements that are in this set but not the others.)\n",
      " |\n",
      " |  difference_update(...)\n",
      " |      Remove all elements of another set from this set.\n",
      " |\n",
      " |  discard(...)\n",
      " |      Remove an element from a set if it is a member.\n",
      " |\n",
      " |      Unlike set.remove(), the discard() method does not raise\n",
      " |      an exception when an element is missing from the set.\n",
      " |\n",
      " |  intersection(...)\n",
      " |      Return the intersection of two sets as a new set.\n",
      " |\n",
      " |      (i.e. all elements that are in both sets.)\n",
      " |\n",
      " |  intersection_update(...)\n",
      " |      Update a set with the intersection of itself and another.\n",
      " |\n",
      " |  isdisjoint(...)\n",
      " |      Return True if two sets have a null intersection.\n",
      " |\n",
      " |  issubset(self, other, /)\n",
      " |      Test whether every element in the set is in other.\n",
      " |\n",
      " |  issuperset(self, other, /)\n",
      " |      Test whether every element in other is in the set.\n",
      " |\n",
      " |  pop(...)\n",
      " |      Remove and return an arbitrary set element.\n",
      " |      Raises KeyError if the set is empty.\n",
      " |\n",
      " |  remove(...)\n",
      " |      Remove an element from a set; it must be a member.\n",
      " |\n",
      " |      If the element is not a member, raise a KeyError.\n",
      " |\n",
      " |  symmetric_difference(...)\n",
      " |      Return the symmetric difference of two sets as a new set.\n",
      " |\n",
      " |      (i.e. all elements that are in exactly one of the sets.)\n",
      " |\n",
      " |  symmetric_difference_update(...)\n",
      " |      Update a set with the symmetric difference of itself and another.\n",
      " |\n",
      " |  union(...)\n",
      " |      Return the union of sets as a new set.\n",
      " |\n",
      " |      (i.e. all elements that are in either set.)\n",
      " |\n",
      " |  update(...)\n",
      " |      Update a set with the union of itself and others.\n",
      " |\n",
      " |  ----------------------------------------------------------------------\n",
      " |  Class methods defined here:\n",
      " |\n",
      " |  __class_getitem__(...)\n",
      " |      See PEP 585\n",
      " |\n",
      " |  ----------------------------------------------------------------------\n",
      " |  Static methods defined here:\n",
      " |\n",
      " |  __new__(*args, **kwargs)\n",
      " |      Create and return a new object.  See help(type) for accurate signature.\n",
      " |\n",
      " |  ----------------------------------------------------------------------\n",
      " |  Data and other attributes defined here:\n",
      " |\n",
      " |  __hash__ = None\n",
      "\n"
     ]
    }
   ],
   "source": [
    "help(s1)"
   ]
  },
  {
   "cell_type": "code",
   "execution_count": 130,
   "id": "658d9f6d-6dd8-45ab-b736-6b60f11fe798",
   "metadata": {},
   "outputs": [
    {
     "name": "stdout",
     "output_type": "stream",
     "text": [
      "Intersection:  {1, 3}\n",
      "Union:  {0, 1, 2, 3, 4, 10, 11, 12}\n",
      "Difference:  {10, 11, 12}\n"
     ]
    }
   ],
   "source": [
    "s2=set([1,3,10,11,12])\n",
    "print(\"Intersection: \", s2.intersection(s1))\n",
    "print(\"Union: \", s2.union(s1))\n",
    "print(\"Difference: \", s2.difference(s1))"
   ]
  }
 ],
 "metadata": {
  "kernelspec": {
   "display_name": "Python 3 (ipykernel)",
   "language": "python",
   "name": "python3"
  },
  "language_info": {
   "codemirror_mode": {
    "name": "ipython",
    "version": 3
   },
   "file_extension": ".py",
   "mimetype": "text/x-python",
   "name": "python",
   "nbconvert_exporter": "python",
   "pygments_lexer": "ipython3",
   "version": "3.12.4"
  },
  "latex_envs": {
   "LaTeX_envs_menu_present": true,
   "autoclose": false,
   "autocomplete": true,
   "bibliofile": "biblio.bib",
   "cite_by": "apalike",
   "current_citInitial": 1,
   "eqLabelWithNumbers": true,
   "eqNumInitial": 1,
   "hotkeys": {
    "equation": "Ctrl-E",
    "itemize": "Ctrl-I"
   },
   "labels_anchors": false,
   "latex_user_defs": false,
   "report_style_numbering": false,
   "user_envs_cfg": false
  },
  "varInspector": {
   "cols": {
    "lenName": 16,
    "lenType": 16,
    "lenVar": 40
   },
   "kernels_config": {
    "python": {
     "delete_cmd_postfix": "",
     "delete_cmd_prefix": "del ",
     "library": "var_list.py",
     "varRefreshCmd": "print(var_dic_list())"
    },
    "r": {
     "delete_cmd_postfix": ") ",
     "delete_cmd_prefix": "rm(",
     "library": "var_list.r",
     "varRefreshCmd": "cat(var_dic_list()) "
    }
   },
   "types_to_exclude": [
    "module",
    "function",
    "builtin_function_or_method",
    "instance",
    "_Feature"
   ],
   "window_display": false
  }
 },
 "nbformat": 4,
 "nbformat_minor": 5
}
