{
 "cells": [
  {
   "cell_type": "markdown",
   "id": "5fde5ba8",
   "metadata": {},
   "source": [
    "## A much more structurate and readable code for fitting data"
   ]
  },
  {
   "cell_type": "code",
   "execution_count": 1,
   "id": "c0bb166d",
   "metadata": {},
   "outputs": [],
   "source": [
    "import numpy as np\n",
    "import matplotlib.pyplot as plt\n",
    "import pandas as pd\n",
    "from scipy.optimize import curve_fit\n",
    "import plot "
   ]
  },
  {
   "cell_type": "markdown",
   "id": "6018199c-2bed-4f53-b2d9-39eeb8634767",
   "metadata": {},
   "source": [
    "Here:\n",
    "\n",
    "- The methods of the *Einstein* class are transformed to *class method*'s so that, later, there is no longer need to create an instance of the class to use them;\n",
    "- *apfu* (*number of atoms per formula unit*) is still required as it enters in the definition of the model(s); however it has been set to a default number (1) and will be set, before fits will be executed, by using the *set_apfu* method of the class"
   ]
  },
  {
   "cell_type": "code",
   "execution_count": 2,
   "id": "edb66da8",
   "metadata": {},
   "outputs": [],
   "source": [
    "class Einstein():\n",
    "    avo=6.02214179e+23\n",
    "    kb=1.3806505e-23\n",
    "    apfu=1\n",
    "\n",
    "    @classmethod\n",
    "    def set_apfu(cls, apfu):\n",
    "        cls.apfu=apfu\n",
    "\n",
    "    @classmethod\n",
    "    def einstein_fun(cls, tt, eps):    \n",
    "        return cls.apfu*3*cls.avo*cls.kb*((eps/tt)**2)*np.exp(eps/tt)/((np.exp(eps/tt)-1)**2)\n",
    "\n",
    "    @classmethod\n",
    "    def einstein_2_fun(cls,tt,eps1,eps2):\n",
    "        f1=cls.apfu*3*cls.avo*cls.kb/2.\n",
    "        f2=((eps1/tt)**2)*np.exp(eps1/tt)/((np.exp(eps1/tt)-1)**2)\n",
    "        f3=((eps2/tt)**2)*np.exp(eps2/tt)/((np.exp(eps2/tt)-1)**2)\n",
    "        return f1*(f2+f3)"
   ]
  },
  {
   "cell_type": "markdown",
   "id": "0d041fc0",
   "metadata": {},
   "source": [
    "In addition to the *Einstein* class, we define here an appropriate class for dealing with the data..."
   ]
  },
  {
   "cell_type": "code",
   "execution_count": 3,
   "id": "19f549aa",
   "metadata": {},
   "outputs": [],
   "source": [
    "class Data():\n",
    "    def __init__(self, name, filename, apfu):\n",
    "        self.name=name\n",
    "        self.filename=filename\n",
    "        self.path='.'\n",
    "        self.apfu=apfu\n",
    "        self.x_orig=np.array([])\n",
    "        self.y_orig=np.array([])\n",
    "        self.x=np.array([])\n",
    "        self.y=np.array([])\n",
    "        self.minx=0.\n",
    "        self.maxx=0.\n",
    "        self.num=0\n",
    "        self.guess=50.\n",
    "        self.bounds=(10., 2500.)\n",
    "        self.model=1\n",
    "        self.fit1=[]\n",
    "        self.fit2=[]\n",
    "        self.fit1_error=None\n",
    "        self.fit2_error=None\n",
    "        self.fit_flag=[False, False]\n",
    "        self.n_plot=100\n",
    "        self.selection_flag=False\n",
    "        \n",
    "    def read(self, path='default'):\n",
    "        \n",
    "        if path == 'default':\n",
    "           path=self.path\n",
    "        \n",
    "        filename=path+'/'+self.filename\n",
    "        data=np.loadtxt(filename)\n",
    "        self.x_orig=data[:,0]\n",
    "        self.y_orig=data[:,1]\n",
    "        \n",
    "        self.minx=np.min(self.x_orig)\n",
    "        self.maxx=np.max(self.x_orig)\n",
    "        \n",
    "        self.num=self.x_orig.size\n",
    "        \n",
    "        self.x=np.copy(self.x_orig)\n",
    "        self.y=np.copy(self.y_orig)\n",
    "        self.selection_flag=False\n",
    "        \n",
    "    def select(self, tmin, tmax=0):\n",
    "        \n",
    "        if tmax == 0:\n",
    "           tmax=self.maxx\n",
    "        \n",
    "        select=(self.x_orig >= tmin) & (self.x_orig <= tmax)\n",
    "        self.x=self.x_orig[select]\n",
    "        self.y=self.y_orig[select]\n",
    "        self.fit_flag=[False, False]\n",
    "        \n",
    "        self.minx=np.min(self.x)\n",
    "        self.maxx=np.max(self.x)\n",
    "        self.selection_flag=True\n",
    "        self.selection_min=tmin\n",
    "        self.selection_max=tmax\n",
    "        \n",
    "    def info(self):\n",
    "        print(\"Data set name %s\" % self.name)\n",
    "        print(\"Data set file %s\" % self.filename)\n",
    "        print(\"apfu: %4i\" % self.apfu)\n",
    "        print(\"Number of T points: %4i\" % self.num)\n",
    "        \n",
    "        if self.selection_flag:\n",
    "           print(\"Original temperature range restricted to the [%5.1f, %5.1f K] interval\" \\\n",
    "                 % (self.selection_min, self.selection_max))\n",
    "            \n",
    "        print(\"Minimum and maximum temperatures: %5.1f, %5.1f\" % (self.minx, self.maxx))\n",
    "        if not (self.fit_flag[0] | self.fit_flag[1]):\n",
    "           print(\"Fitting model:  None\")\n",
    "        else:\n",
    "           if self.fit_flag[0]:\n",
    "              print(\"one temperature model; Einstein temperature: %5.1f (K)\" % self.fit1[0])\n",
    "           if self.fit_flag[1]:\n",
    "              print(\"two temperatures model; Einstein temperatures: %5.1f, %5.1f (K)\" % (self.fit2[0], self.fit2[1]))\n"
   ]
  },
  {
   "cell_type": "code",
   "execution_count": 4,
   "id": "0dd83610",
   "metadata": {},
   "outputs": [],
   "source": [
    "my_plot=plot.plot_class('data_files')"
   ]
  },
  {
   "cell_type": "markdown",
   "id": "2dc0fa8a",
   "metadata": {},
   "source": [
    "Then we heavily modify the *einstein_fit* function so that it *exclusively* does the fit..."
   ]
  },
  {
   "cell_type": "code",
   "execution_count": 5,
   "id": "50518699",
   "metadata": {},
   "outputs": [],
   "source": [
    "def einstein_fit(name, model=1):\n",
    "\n",
    "    Einstein.set_apfu(name.apfu)\n",
    "    guess=name.guess\n",
    "    bounds=name.bounds\n",
    "    \n",
    "    if model==1:    \n",
    "       guess=[guess]\n",
    "       ein_fit, ein_cov=curve_fit(Einstein.einstein_fun, name.x, name.y, bounds=bounds,\\\n",
    "                      p0=guess, xtol=1e-15, ftol=1e-15)\n",
    "    else:\n",
    "       guess=[guess, guess]\n",
    "       ein_fit, ein_cov=curve_fit(Einstein.einstein_2_fun, name.x, name.y, bounds=bounds,\\\n",
    "                      p0=guess, xtol=1e-15, ftol=1e-15)\n",
    "        \n",
    "    if model == 1:\n",
    "       print(\"Einstein temperature:   %5.1f (K)\" % ein_fit[0])\n",
    "    else:        \n",
    "       print(\"Einstein temperatures:  %5.1f, %5.1f (K)\" % (ein_fit[0], ein_fit[1]))\n",
    "    \n",
    "    if model == 1: \n",
    "       name.model=1\n",
    "       name.fit1=[ein_fit[0]]\n",
    "       name.fit1_total=ein_fit\n",
    "       name.fit1_error=ein_cov\n",
    "       name.fit_flag[0]=True\n",
    "    else:\n",
    "       name.model=2\n",
    "       name.fit2=[ein_fit[0], ein_fit[1]]\n",
    "       name.fit2_total=ein_fit\n",
    "       name.fit2_error=ein_cov        \n",
    "       name.fit_flag[1]=True"
   ]
  },
  {
   "cell_type": "markdown",
   "id": "61d6c8b2",
   "metadata": {},
   "source": [
    "The plot of the fit(s) is the work of an appropriate function here defined:"
   ]
  },
  {
   "cell_type": "code",
   "execution_count": 6,
   "id": "e59dfe88",
   "metadata": {},
   "outputs": [],
   "source": [
    "def plot_fit(name):\n",
    "    \n",
    "    t_plot=np.linspace(name.minx, name.maxx, name.n_plot)\n",
    "    \n",
    "    cv1_plot=np.array([Einstein.einstein_fun(it, name.fit1[0]) for it in t_plot])\n",
    "    cv2_plot=np.array([Einstein.einstein_2_fun(it, name.fit2[0], name.fit2[1]) for it in t_plot])\n",
    "    \n",
    "    x=[name.x, t_plot, t_plot]\n",
    "    y=[name.y, cv1_plot, cv2_plot]\n",
    "    style=['k*', 'k--', 'k-']\n",
    "    label=['Actual values', '1p fit', '2p fit']\n",
    "    \n",
    "    my_plot.multi(x,y,style, label, xlab=r'$T (K)$', ylab=r'$C_v (J/mol\\ J)$')"
   ]
  },
  {
   "cell_type": "markdown",
   "id": "8a90fe49",
   "metadata": {},
   "source": [
    "Comparison of fits is made up the *compare_fit* function that relies on the previously defined function*"
   ]
  },
  {
   "cell_type": "code",
   "execution_count": 7,
   "id": "7f6c9694",
   "metadata": {},
   "outputs": [],
   "source": [
    "def compare_fit(name, plot=True):\n",
    "    \n",
    "    if not name.fit_flag[0]:\n",
    "       einstein_fit(name, model=1)\n",
    "    if not name.fit_flag[1]:\n",
    "       einstein_fit(name, model=2)\n",
    "    \n",
    "    print(\"\")\n",
    "    model1=np.array([Einstein.einstein_fun(it, name.fit1[0]) for it in name.x])\n",
    "    model2=np.array([Einstein.einstein_2_fun(it, name.fit2[0], name.fit2[1]) for it in name.x])\n",
    "    \n",
    "    serie=[name.x, name.y, model1.round(2), model2.round(2)]\n",
    "    df=pd.DataFrame(serie, index=['T  ', '   Cv Exp', ' model 1', ' model 2'])\n",
    "    df=df.T\n",
    "    print(df.to_string(index=False), '\\n')  \n",
    "    \n",
    "    if plot:\n",
    "       plot_fit(name)"
   ]
  },
  {
   "cell_type": "markdown",
   "id": "8e6d54b6",
   "metadata": {},
   "source": [
    "Then, everything is now defined, and we can start working with our data. \n",
    "\n",
    "As a preliminary step, by using the method *set_param* of the *plot class*, we set some parameters for plotting.\n",
    "Then we read the Cv data for pyrope, by creating an instance of the class *data_class*, reading the data from the appropriate file, and having a look at what we loaded"
   ]
  },
  {
   "cell_type": "code",
   "execution_count": 8,
   "id": "ba23dde4",
   "metadata": {},
   "outputs": [
    {
     "name": "stdout",
     "output_type": "stream",
     "text": [
      "Data set name pyrope\n",
      "Data set file cv_data.dat\n",
      "apfu:   20\n",
      "Number of T points:   20\n",
      "Minimum and maximum temperatures:  20.0, 700.0\n",
      "Fitting model:  None\n"
     ]
    }
   ],
   "source": [
    "my_plot.set_param(tex=False, fsize=16, tsize=14, dpi=200, figsize=(6,4), save=True)\n",
    "py=Data('pyrope', 'cv_data.dat', 20)\n",
    "py.read('data_files')\n",
    "py.info()"
   ]
  },
  {
   "cell_type": "markdown",
   "id": "09a664e2",
   "metadata": {},
   "source": [
    "Then we do the fits..."
   ]
  },
  {
   "cell_type": "code",
   "execution_count": 9,
   "id": "a403b04b",
   "metadata": {},
   "outputs": [
    {
     "name": "stdout",
     "output_type": "stream",
     "text": [
      "Einstein temperature:   633.4 (K)\n",
      "Einstein temperatures:  1017.9, 341.5 (K)\n",
      "\n",
      "  T       Cv Exp   model 1   model 2\n",
      " 20.0       4.37      0.00      0.00\n",
      " 56.0      31.53      0.78     20.95\n",
      " 92.0      85.15     24.25     88.72\n",
      "127.0     141.41     85.85    146.39\n",
      "163.0     193.78    161.22    194.16\n",
      "199.0     238.55    228.10    235.96\n",
      "235.0     276.19    281.44    273.00\n",
      "271.0     307.68    322.55    305.14\n",
      "306.0     333.31    353.28    331.75\n",
      "342.0     355.39    377.77    354.78\n",
      "378.0     373.85    396.88    374.00\n",
      "414.0     389.33    411.98    390.02\n",
      "449.0     402.00    423.77    403.07\n",
      "485.0     413.02    433.63    414.37\n",
      "521.0     422.34    441.72    423.91\n",
      "557.0     430.27    448.42    432.00\n",
      "593.0     437.06    454.03    438.91\n",
      "628.0     442.75    458.65    444.69\n",
      "664.0     447.85    462.70    449.84\n",
      "700.0     452.32    466.18    454.31 \n",
      "\n"
     ]
    },
    {
     "data": {
      "image/png": "[encoded data removed]",
      "text/plain": [
       "<Figure size 600x400 with 1 Axes>"
      ]
     },
     "metadata": {},
     "output_type": "display_data"
    }
   ],
   "source": [
    "compare_fit(py)"
   ]
  },
  {
   "cell_type": "code",
   "execution_count": 10,
   "id": "40af52b6",
   "metadata": {},
   "outputs": [
    {
     "name": "stdout",
     "output_type": "stream",
     "text": [
      "Data set name pyrope\n",
      "Data set file cv_data.dat\n",
      "apfu:   20\n",
      "Number of T points:   20\n",
      "Minimum and maximum temperatures:  20.0, 700.0\n",
      "one temperature model; Einstein temperature: 633.4 (K)\n",
      "two temperatures model; Einstein temperatures: 1017.9, 341.5 (K)\n"
     ]
    }
   ],
   "source": [
    "py.info()"
   ]
  },
  {
   "cell_type": "markdown",
   "id": "d9b617c5",
   "metadata": {},
   "source": [
    "Now, select data for temperature higher then 300K... and redo the fits:"
   ]
  },
  {
   "cell_type": "code",
   "execution_count": 11,
   "id": "0e347cf3",
   "metadata": {},
   "outputs": [
    {
     "name": "stdout",
     "output_type": "stream",
     "text": [
      "Einstein temperature:   716.9 (K)\n",
      "Einstein temperatures:  258.9, 1066.9 (K)\n",
      "\n",
      "  T       Cv Exp   model 1   model 2\n",
      "306.0     333.31    321.88    333.82\n",
      "342.0     355.39    350.26    355.23\n",
      "378.0     373.85    372.81    373.46\n",
      "414.0     389.33    390.88    388.91\n",
      "449.0     402.00    405.14    401.65\n",
      "485.0     413.02    417.15    412.79\n",
      "521.0     422.34    427.08    422.26\n",
      "557.0     430.27    435.35    430.35\n",
      "593.0     437.06    442.30    437.29\n",
      "628.0     442.75    448.04    443.13\n",
      "664.0     447.85    453.10    448.34\n",
      "700.0     452.32    457.46    452.89 \n",
      "\n"
     ]
    },
    {
     "data": {
      "image/png": "[encoded data removed]",
      "text/plain": [
       "<Figure size 600x400 with 1 Axes>"
      ]
     },
     "metadata": {},
     "output_type": "display_data"
    }
   ],
   "source": [
    "py.select(300)\n",
    "compare_fit(py)"
   ]
  },
  {
   "cell_type": "code",
   "execution_count": 12,
   "id": "b810e291-3efa-48d2-8118-658678f8a704",
   "metadata": {},
   "outputs": [
    {
     "name": "stdout",
     "output_type": "stream",
     "text": [
      "Data set name pyrope\n",
      "Data set file cv_data.dat\n",
      "apfu:   20\n",
      "Number of T points:   20\n",
      "Original temperature range restricted to the [300.0, 700.0 K] interval\n",
      "Minimum and maximum temperatures: 306.0, 700.0\n",
      "one temperature model; Einstein temperature: 716.9 (K)\n",
      "two temperatures model; Einstein temperatures: 258.9, 1066.9 (K)\n"
     ]
    }
   ],
   "source": [
    "py.info()"
   ]
  },
  {
   "cell_type": "markdown",
   "id": "37f70687-455a-409c-a871-c296234aaa37",
   "metadata": {},
   "source": [
    "Error on fits are now stored as an attribute of the Data class; for instance, the covariance matrix of the two-parameter fit on pyrope data is:"
   ]
  },
  {
   "cell_type": "code",
   "execution_count": 13,
   "id": "88d6e060-3a95-4e44-84d3-b79841bc3977",
   "metadata": {},
   "outputs": [
    {
     "name": "stdout",
     "output_type": "stream",
     "text": [
      "[[ 63.21459881 -28.85950331]\n",
      " [-28.85950331  14.09577765]]\n"
     ]
    }
   ],
   "source": [
    "print(py.fit2_error)"
   ]
  },
  {
   "cell_type": "code",
   "execution_count": 14,
   "id": "7baa588d-0398-45db-8a18-e01db1e6b820",
   "metadata": {},
   "outputs": [
    {
     "name": "stdout",
     "output_type": "stream",
     "text": [
      "Parameters:            258.87 1066.94\n",
      "Errors on parameters:    0.87   8.75\n",
      "Eigenvectors of the covariance matrix:\n",
      " [[-0.41946989 -0.90776925]\n",
      " [-0.90776925  0.41946989]]\n"
     ]
    }
   ],
   "source": [
    "dcov=np.linalg.eigh(py.fit2_error) \n",
    "eigvals=np.sqrt(dcov[0])\n",
    "print(\"Parameters:            %6.2f %6.2f\" % (py.fit2[0], py.fit2[1]))\n",
    "print(\"Errors on parameters:  %6.2f %6.2f\" % (eigvals[0], eigvals[1]))\n",
    "\n",
    "print(\"Eigenvectors of the covariance matrix:\\n\", dcov[1])"
   ]
  },
  {
   "cell_type": "markdown",
   "id": "ba0bc1ea-25ee-4bb9-b540-652ffec4fef4",
   "metadata": {},
   "source": [
    "Or the global error on fit can be computed by means of a few lines of code:"
   ]
  },
  {
   "cell_type": "code",
   "execution_count": 15,
   "id": "4f326236-56a5-472b-afc8-6c9c52deb1ba",
   "metadata": {},
   "outputs": [
    {
     "name": "stdout",
     "output_type": "stream",
     "text": [
      "Error on the fit:  0.36\n"
     ]
    }
   ],
   "source": [
    "# Computation of cv for pyrope, by using the 2-parameter\n",
    "# Einstein function, for the whole set of temperature values\n",
    "# stored in the py.x list\n",
    "cv_calc=np.array([Einstein.einstein_2_fun(it, py.fit2[0], py.fit2[1]) for it in py.x])\n",
    "\n",
    "# Experimental cv values\n",
    "cv_obs=py.y\n",
    "\n",
    "delta2=(cv_obs - cv_calc)**2\n",
    "delta2_sum=np.sum(delta2)\n",
    "error=np.sqrt(delta2_sum/len(delta2))\n",
    "print(\"Error on the fit: \", error.round(2))"
   ]
  }
 ],
 "metadata": {
  "kernelspec": {
   "display_name": "Python 3 (ipykernel)",
   "language": "python",
   "name": "python3"
  },
  "language_info": {
   "codemirror_mode": {
    "name": "ipython",
    "version": 3
   },
   "file_extension": ".py",
   "mimetype": "text/x-python",
   "name": "python",
   "nbconvert_exporter": "python",
   "pygments_lexer": "ipython3",
   "version": "3.11.5"
  },
  "latex_envs": {
   "LaTeX_envs_menu_present": true,
   "autoclose": false,
   "autocomplete": true,
   "bibliofile": "biblio.bib",
   "cite_by": "apalike",
   "current_citInitial": 1,
   "eqLabelWithNumbers": true,
   "eqNumInitial": 1,
   "hotkeys": {
    "equation": "Ctrl-E",
    "itemize": "Ctrl-I"
   },
   "labels_anchors": false,
   "latex_user_defs": false,
   "report_style_numbering": false,
   "user_envs_cfg": false
  }
 },
 "nbformat": 4,
 "nbformat_minor": 5
}
