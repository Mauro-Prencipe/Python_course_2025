{
 "cells": [
  {
   "cell_type": "markdown",
   "id": "3fe3432a",
   "metadata": {},
   "source": [
    "## IO: reading and writing files\n",
    "\n",
    "The simplest method to read a datafile structured in columns is to use the numpy *loadtxt* function:"
   ]
  },
  {
   "cell_type": "code",
   "execution_count": 1,
   "id": "b1fb3cce",
   "metadata": {},
   "outputs": [],
   "source": [
    "import numpy as np"
   ]
  },
  {
   "cell_type": "code",
   "execution_count": 2,
   "id": "44b5d86b",
   "metadata": {},
   "outputs": [
    {
     "name": "stdout",
     "output_type": "stream",
     "text": [
      "Type of data:  <class 'numpy.ndarray'>\n",
      "[[-1.  1.]\n",
      " [ 0.  0.]\n",
      " [ 1.  1.]\n",
      " [ 2.  4.]\n",
      " [-2.  4.]\n",
      " [-3.  9.]\n",
      " [ 3.  9.]\n",
      " [ 4. 16.]\n",
      " [-4. 16.]]\n",
      "\n",
      "First column:   [-1.  0.  1.  2. -2. -3.  3.  4. -4.]\n",
      "Second column:  [ 1.  0.  1.  4.  4.  9.  9. 16. 16.]\n"
     ]
    }
   ],
   "source": [
    "data=np.loadtxt(\"data_files/files.txt\")\n",
    "print(\"Type of data: \", type(data))\n",
    "print(data)\n",
    "\n",
    "x=data[:,0]   # take all the elements of the first column\n",
    "y=data[:,1]   # take all the elements of the second column\n",
    "\n",
    "print(\"\\nFirst column:  \", x)\n",
    "print(\"Second column: \", y)"
   ]
  },
  {
   "cell_type": "markdown",
   "id": "5303c56f",
   "metadata": {},
   "source": [
    "Note that, as expected, for instance the first element of such 2-dimensional array (*first element* --> *first row*) is"
   ]
  },
  {
   "cell_type": "code",
   "execution_count": 3,
   "id": "df6cac54",
   "metadata": {},
   "outputs": [
    {
     "data": {
      "text/plain": [
       "array([-1.,  1.])"
      ]
     },
     "execution_count": 3,
     "metadata": {},
     "output_type": "execute_result"
    }
   ],
   "source": [
    "data[0]"
   ]
  },
  {
   "cell_type": "markdown",
   "id": "349f160a",
   "metadata": {},
   "source": [
    "To save data in a file, the numpy *savetxt* function can be used:"
   ]
  },
  {
   "cell_type": "code",
   "execution_count": 4,
   "id": "994122f5",
   "metadata": {},
   "outputs": [],
   "source": [
    "np.savetxt(\"data_files/my_x.out\", data, fmt='%7.3f   %5.2e')"
   ]
  },
  {
   "cell_type": "markdown",
   "id": "dd15bcd0",
   "metadata": {},
   "source": [
    "### Reading files (the Python way)\n",
    "\n",
    "More *general* and *flexible* but more complicated..."
   ]
  },
  {
   "cell_type": "code",
   "execution_count": 5,
   "id": "3ee9c86b",
   "metadata": {},
   "outputs": [
    {
     "name": "stdout",
     "output_type": "stream",
     "text": [
      "Type of f:  <class '_io.TextIOWrapper'>\n",
      "f:  <_io.TextIOWrapper name='data_files/files.txt' mode='r' encoding='cp1252'>\n"
     ]
    }
   ],
   "source": [
    "f=open('data_files/files.txt', 'r')\n",
    "print(\"Type of f: \", type(f))\n",
    "print(\"f: \", f)"
   ]
  },
  {
   "cell_type": "code",
   "execution_count": 6,
   "id": "f26ccf21",
   "metadata": {},
   "outputs": [
    {
     "name": "stdout",
     "output_type": "stream",
     "text": [
      "Type of data <class 'str'>\n",
      " -1.    1.\n",
      "  0.    0.\n",
      "  1.    1.\n",
      "  2.    4.\n",
      " -2.    4.\n",
      " -3.    9.\n",
      "  3.    9.\n",
      "  4.   16.\n",
      " -4.   16.\n"
     ]
    }
   ],
   "source": [
    "data=f.read()\n",
    "f.close()\n",
    "\n",
    "print(\"Type of data\", type(data))\n",
    "print(data)"
   ]
  },
  {
   "cell_type": "markdown",
   "id": "46d987e4",
   "metadata": {},
   "source": [
    "Have a look to the first element of *data*..."
   ]
  },
  {
   "cell_type": "code",
   "execution_count": 7,
   "id": "3d0541f0",
   "metadata": {},
   "outputs": [
    {
     "data": {
      "text/plain": [
       "' '"
      ]
     },
     "execution_count": 7,
     "metadata": {},
     "output_type": "execute_result"
    }
   ],
   "source": [
    "data[0]"
   ]
  },
  {
   "cell_type": "markdown",
   "id": "d2885df7-8aad-407a-bdf1-4ecff9725659",
   "metadata": {},
   "source": [
    "that is: ```data[0]``` is a string of one character (the *space* character)."
   ]
  },
  {
   "cell_type": "markdown",
   "id": "d87d656b",
   "metadata": {},
   "source": [
    "The real *nature* of *data* is revealed by printing it without a *print* command (that would show *data* with *format included*):"
   ]
  },
  {
   "cell_type": "code",
   "execution_count": 8,
   "id": "99c2cb22",
   "metadata": {},
   "outputs": [
    {
     "data": {
      "text/plain": [
       "' -1.    1.\\n  0.    0.\\n  1.    1.\\n  2.    4.\\n -2.    4.\\n -3.    9.\\n  3.    9.\\n  4.   16.\\n -4.   16.'"
      ]
     },
     "execution_count": 8,
     "metadata": {},
     "output_type": "execute_result"
    }
   ],
   "source": [
    "data"
   ]
  },
  {
   "cell_type": "markdown",
   "id": "bc2fbd51",
   "metadata": {},
   "source": [
    "What to do with that???"
   ]
  },
  {
   "cell_type": "code",
   "execution_count": 9,
   "id": "2bc59c17",
   "metadata": {},
   "outputs": [],
   "source": [
    "data_split=data.split()  # start by splitting it\n",
    "size=len(data_split)"
   ]
  },
  {
   "cell_type": "markdown",
   "id": "6be9dfb4",
   "metadata": {},
   "source": [
    "... to be explained later... "
   ]
  },
  {
   "cell_type": "code",
   "execution_count": 10,
   "id": "5be2876f",
   "metadata": {},
   "outputs": [],
   "source": [
    "data_array=[float(data_split[dd].strip()) for dd in range(size)]"
   ]
  },
  {
   "cell_type": "code",
   "execution_count": 11,
   "id": "8c43ff12",
   "metadata": {},
   "outputs": [
    {
     "name": "stdout",
     "output_type": "stream",
     "text": [
      "[-1.0, 1.0, 0.0, 0.0, 1.0, 1.0, 2.0, 4.0, -2.0, 4.0, -3.0, 9.0, 3.0, 9.0, 4.0, 16.0, -4.0, 16.0]\n"
     ]
    }
   ],
   "source": [
    "print(data_array)"
   ]
  },
  {
   "cell_type": "markdown",
   "id": "9f1682c7",
   "metadata": {},
   "source": [
    "Then *define* first column (*x*) and second column (*y*) starting from the *data_array*:"
   ]
  },
  {
   "cell_type": "code",
   "execution_count": 12,
   "id": "dd751e93",
   "metadata": {},
   "outputs": [
    {
     "name": "stdout",
     "output_type": "stream",
     "text": [
      "x:  [-1.0, 0.0, 1.0, 2.0, -2.0, -3.0, 3.0, 4.0, -4.0]\n",
      "y:  [1.0, 0.0, 1.0, 4.0, 4.0, 9.0, 9.0, 16.0, 16.0]\n"
     ]
    }
   ],
   "source": [
    "x=data_array[::2]   # slicing start:end:step \n",
    "y=data_array[1::2]\n",
    "\n",
    "print(\"x: \", x)\n",
    "print(\"y: \", y)"
   ]
  },
  {
   "cell_type": "markdown",
   "id": "c11a785d",
   "metadata": {},
   "source": [
    "Here is another way to work, apparently more complicated, but more *clear* and, yet, more *general* than the previous one:"
   ]
  },
  {
   "cell_type": "code",
   "execution_count": 13,
   "id": "e342f5a9",
   "metadata": {},
   "outputs": [
    {
     "name": "stdout",
     "output_type": "stream",
     "text": [
      "End Of File\n"
     ]
    }
   ],
   "source": [
    "f=open('data_files/files.txt', 'r')\n",
    "\n",
    "line=[]\n",
    "\n",
    "flag=True\n",
    "while flag:\n",
    "    file_line=f.readline().strip().split()  \n",
    "    if not file_line:\n",
    "        print(\"End Of File\")\n",
    "        flag=False\n",
    "    else:\n",
    "        line.append(file_line)\n",
    "                \n",
    "f.close()"
   ]
  },
  {
   "cell_type": "markdown",
   "id": "2560c338-91f6-49a0-a5c0-19eb2603eafa",
   "metadata": {},
   "source": [
    "Note that when *readline* tries to read a line *beyond* the end of the file, it returns an *empty* list; in this case, ```not file_line``` is *True*, so that the boolean variable *flag* is set to *False* and, therefore, the *while* cycle is terminated.  "
   ]
  },
  {
   "cell_type": "markdown",
   "id": "52d3231d",
   "metadata": {},
   "source": [
    "At the end of the *while* cicle, we have our variable *line* which is a list of lists: each sublist corresponds to a row of the original file. Note that the elements of such sublists are *strings*:"
   ]
  },
  {
   "cell_type": "code",
   "execution_count": 14,
   "id": "77a44a9b",
   "metadata": {},
   "outputs": [
    {
     "name": "stdout",
     "output_type": "stream",
     "text": [
      "Type of line:  <class 'list'> \n",
      "line:  [['-1.', '1.'], ['0.', '0.'], ['1.', '1.'], ['2.', '4.'], ['-2.', '4.'], ['-3.', '9.'], ['3.', '9.'], ['4.', '16.'], ['-4.', '16.']]\n"
     ]
    }
   ],
   "source": [
    "print(\"Type of line: \", type(line), \"\\nline: \", line)"
   ]
  },
  {
   "cell_type": "markdown",
   "id": "79bbe2db",
   "metadata": {},
   "source": [
    "Now we will transform this list of lists of strings in a simple list of floats, and then we will define the *x* and *y* lists as the first column and the second column of the original file, respectively:"
   ]
  },
  {
   "cell_type": "code",
   "execution_count": 15,
   "id": "3822ff63",
   "metadata": {},
   "outputs": [
    {
     "name": "stdout",
     "output_type": "stream",
     "text": [
      "data:  [-1.0, 1.0, 0.0, 0.0, 1.0, 1.0, 2.0, 4.0, -2.0, 4.0, -3.0, 9.0, 3.0, 9.0, 4.0, 16.0, -4.0, 16.0] \n",
      "\n",
      "x:  [-1.0, 0.0, 1.0, 2.0, -2.0, -3.0, 3.0, 4.0, -4.0]\n",
      "y:  [1.0, 0.0, 1.0, 4.0, 4.0, 9.0, 9.0, 16.0, 16.0]\n"
     ]
    }
   ],
   "source": [
    "row=len(line)\n",
    "col=len(line[0])\n",
    "\n",
    "data=[]\n",
    "\n",
    "for ir in range(row):\n",
    "    for ic in range(col):\n",
    "        data.append(float(line[ir][ic]))\n",
    "\n",
    "print(\"data: \", data, \"\\n\")               \n",
    "x=data[::2]\n",
    "y=data[1::2]\n",
    "\n",
    "print(\"x: \", x)\n",
    "print(\"y: \", y)        "
   ]
  },
  {
   "cell_type": "markdown",
   "id": "abf5d2dc",
   "metadata": {},
   "source": [
    "### Writing in a file (Python way) \n",
    "\n",
    "Data, whatever *type* they are, must be *piped* in a file as *strings*. *Carriage returns*, if required, must be added..."
   ]
  },
  {
   "cell_type": "code",
   "execution_count": 16,
   "id": "8312413f",
   "metadata": {},
   "outputs": [],
   "source": [
    "f=open('data_files/file_from_python.out', 'w')\n",
    "\n",
    "a=[0,1,2,3,4]\n",
    "b=[5,6,7,8,9]\n",
    "\n",
    "for ia, ib in zip(a,b):\n",
    "    ias, ibs=str(ia), str(ib)\n",
    "    ics=ias+\"   \"+ibs+\"\\n\"\n",
    "    f.write(ics)\n",
    "\n",
    "f.close()"
   ]
  },
  {
   "cell_type": "markdown",
   "id": "a08133b6",
   "metadata": {},
   "source": [
    "Here is another slightly different way that uses the function *writelines* to *pipe* a list of strings in a file:"
   ]
  },
  {
   "cell_type": "code",
   "execution_count": 17,
   "id": "72bc0add",
   "metadata": {},
   "outputs": [],
   "source": [
    "f=open('data_files/file_from_python.out', 'w')\n",
    "\n",
    "a=[0,1,2,3,4]\n",
    "b=[5,6,7,8,9]\n",
    "\n",
    "for ia, ib in zip(a,b):\n",
    "    ls=[str(ia), \"   \", str(ib), \"\\n\"]\n",
    "    f.writelines(ls)\n",
    "\n",
    "f.close()"
   ]
  },
  {
   "cell_type": "markdown",
   "id": "06b2a54e",
   "metadata": {},
   "source": [
    "### Exercise\n",
    "\n",
    "Merge a number *n* of data-files, each containg a single column of data (float numbers), in a single data-file containing *n* columns. The names of the files to be merged are written in the file *file_names.txt*"
   ]
  },
  {
   "cell_type": "code",
   "execution_count": 18,
   "id": "190f2f64",
   "metadata": {},
   "outputs": [
    {
     "name": "stdout",
     "output_type": "stream",
     "text": [
      "Number of files to be read:  3\n",
      "Files:  ['file_1.dat', 'file_2.dat', 'file_3.dat']\n",
      "\n",
      "Data array before 'reshuffling':\n",
      " [ 1.  2.  3.  4.  5.  6.  7.  8.  9. 10. 11. 12. 13. 14. 15.]\n",
      "\n",
      "Data array after 'reshuffling':\n",
      " [[ 1.  6. 11.]\n",
      " [ 2.  7. 12.]\n",
      " [ 3.  8. 13.]\n",
      " [ 4.  9. 14.]\n",
      " [ 5. 10. 15.]]\n"
     ]
    }
   ],
   "source": [
    "import numpy as np\n",
    "\n",
    "path='data_files/'\n",
    "\n",
    "f=open(path+'file_names.txt')\n",
    "\n",
    "line=[]\n",
    "flag=True\n",
    "while flag:\n",
    "      file_line=f.readline().strip()\n",
    "      if not file_line:\n",
    "         flag=False\n",
    "      else:\n",
    "         line.append(file_line)\n",
    "\n",
    "f.close()\n",
    "\n",
    "n_file=len(line)\n",
    "\n",
    "print(\"Number of files to be read: \", n_file)\n",
    "print(\"Files: \", line )\n",
    "\n",
    "data=np.array([])\n",
    "\n",
    "for ifile in line:\n",
    "    col=np.loadtxt(path+ifile)\n",
    "    data=np.append(data, col)\n",
    "\n",
    "print(\"\\nData array before 'reshuffling':\\n\",  data) \n",
    "\n",
    "l_data=data.size\n",
    "n_row=int(l_data/n_file)\n",
    "n_col=n_file\n",
    "\n",
    "data=np.transpose(data.reshape(n_col, n_row))\n",
    "print(\"\\nData array after 'reshuffling':\\n\",data)\n",
    "\n",
    "np.savetxt(path+'merged_file.out', data, fmt='%5.2f   '*n_file)"
   ]
  },
  {
   "cell_type": "markdown",
   "id": "f2f1c492",
   "metadata": {},
   "source": [
    "### Exercise\n",
    "\n",
    "By using Python functions only, change the *decimal* separator of a floating numbers in a file, from the *comma* (',') to the *dot* ('.'). The function to be used is *replace*, which is actually a method of any Python string:"
   ]
  },
  {
   "cell_type": "code",
   "execution_count": 19,
   "id": "d4dfac68",
   "metadata": {},
   "outputs": [
    {
     "name": "stdout",
     "output_type": "stream",
     "text": [
      "56,9786 56.9786\n"
     ]
    }
   ],
   "source": [
    "number='56,9786'\n",
    "number_dot=number.replace(',','.')\n",
    "print(number, number_dot)"
   ]
  },
  {
   "cell_type": "markdown",
   "id": "4278213e",
   "metadata": {},
   "source": [
    "Note that we can convert *number_dot* (which is a string) in a floating number:"
   ]
  },
  {
   "cell_type": "code",
   "execution_count": 20,
   "id": "ae652fb2",
   "metadata": {},
   "outputs": [
    {
     "name": "stdout",
     "output_type": "stream",
     "text": [
      "Type of number_dot: <class 'str'>\n",
      "Type of float_number: <class 'float'>   Number:  56.9786\n"
     ]
    }
   ],
   "source": [
    "print(\"Type of number_dot:\", type(number_dot))\n",
    "float_number=float(number_dot)\n",
    "print(\"Type of float_number:\", type(float_number), \"  Number: \", float_number)"
   ]
  },
  {
   "cell_type": "markdown",
   "id": "637c3502",
   "metadata": {},
   "source": [
    "But we cannot do the same for *number* (a string containing a *comma*):"
   ]
  },
  {
   "cell_type": "code",
   "execution_count": 21,
   "id": "d07398f2",
   "metadata": {},
   "outputs": [
    {
     "name": "stdout",
     "output_type": "stream",
     "text": [
      "You cannot convert 56,9786 in a floating point number!\n"
     ]
    }
   ],
   "source": [
    "try:\n",
    "   float(number)\n",
    "except ValueError:\n",
    "   print(\"You cannot convert %s in a floating point number!\" % number)   "
   ]
  },
  {
   "cell_type": "markdown",
   "id": "7b7c6fe7-2e41-43bd-ba87-970caa7bf78c",
   "metadata": {},
   "source": [
    "Now do the exercise..."
   ]
  },
  {
   "cell_type": "code",
   "execution_count": 22,
   "id": "78a6f434",
   "metadata": {},
   "outputs": [],
   "source": [
    "file_input='data_files/commas.dat'\n",
    "file_out='data_files/dots.dat'\n",
    "\n",
    "# Open the input file\n",
    "f=open(file_input, 'r')\n",
    "\n",
    "# Read each line from the file, by also stripping\n",
    "# the carriage return at the end of each line\n",
    "# and append the content in the 'line' array\n",
    "line=[]\n",
    "flag=True\n",
    "while flag:\n",
    "    file_line=f.readline().strip()\n",
    "    if not file_line:\n",
    "        flag=False\n",
    "    else:\n",
    "        line.append(file_line)\n",
    "        \n",
    "# close the input file        \n",
    "f.close()\n",
    "\n",
    "# From the created 'line' list, replace each comma in each\n",
    "# element of such list and put the result in the 'new_list' list\n",
    "new_list=[sd.replace(',','.') for sd in line]\n",
    "\n",
    "\n",
    "# Open the output file and write in it the content\n",
    "# of 'new_list', one element for row, by adding a\n",
    "# 'newline' (\\n) character to any element. An element\n",
    "# of 'new_list' is the string representation of a pair of\n",
    "# floating point numbers\n",
    "\n",
    "f=open(file_out, 'w')\n",
    "for iline in new_list:\n",
    "    f.write(iline+'\\n')\n",
    "    \n",
    "# Don't forget to close the file\n",
    "f.close()\n"
   ]
  },
  {
   "cell_type": "markdown",
   "id": "459a89c4",
   "metadata": {},
   "source": [
    "Same operations on the files can be done by using a *context manager* that will close those files automatically when they are no longer used; this is realized by means of the *with* manager: "
   ]
  },
  {
   "cell_type": "code",
   "execution_count": 23,
   "id": "9905847c",
   "metadata": {},
   "outputs": [],
   "source": [
    "file_input='data_files/commas.dat'\n",
    "file_out='data_files/dots.dat'\n",
    "\n",
    "with open(file_input, 'r') as f:\n",
    "     line=[]\n",
    "     flag=True\n",
    "     while flag:\n",
    "           file_line=f.readline().strip()\n",
    "           if not file_line:\n",
    "              flag=False\n",
    "           else:\n",
    "              line.append(file_line)\n",
    "        \n",
    "new_list=[sd.replace(',','.') for sd in line]\n",
    "\n",
    "with open(file_out, 'w') as f:\n",
    "     for iline in new_list:\n",
    "         f.write(iline+'\\n')"
   ]
  }
 ],
 "metadata": {
  "kernelspec": {
   "display_name": "Python 3 (ipykernel)",
   "language": "python",
   "name": "python3"
  },
  "language_info": {
   "codemirror_mode": {
    "name": "ipython",
    "version": 3
   },
   "file_extension": ".py",
   "mimetype": "text/x-python",
   "name": "python",
   "nbconvert_exporter": "python",
   "pygments_lexer": "ipython3",
   "version": "3.11.5"
  },
  "latex_envs": {
   "LaTeX_envs_menu_present": true,
   "autoclose": false,
   "autocomplete": true,
   "bibliofile": "biblio.bib",
   "cite_by": "apalike",
   "current_citInitial": 1,
   "eqLabelWithNumbers": true,
   "eqNumInitial": 1,
   "hotkeys": {
    "equation": "Ctrl-E",
    "itemize": "Ctrl-I"
   },
   "labels_anchors": false,
   "latex_user_defs": false,
   "report_style_numbering": false,
   "user_envs_cfg": false
  },
  "varInspector": {
   "cols": {
    "lenName": 16,
    "lenType": 16,
    "lenVar": 40
   },
   "kernels_config": {
    "python": {
     "delete_cmd_postfix": "",
     "delete_cmd_prefix": "del ",
     "library": "var_list.py",
     "varRefreshCmd": "print(var_dic_list())"
    },
    "r": {
     "delete_cmd_postfix": ") ",
     "delete_cmd_prefix": "rm(",
     "library": "var_list.r",
     "varRefreshCmd": "cat(var_dic_list()) "
    }
   },
   "types_to_exclude": [
    "module",
    "function",
    "builtin_function_or_method",
    "instance",
    "_Feature"
   ],
   "window_display": false
  }
 },
 "nbformat": 4,
 "nbformat_minor": 5
}
